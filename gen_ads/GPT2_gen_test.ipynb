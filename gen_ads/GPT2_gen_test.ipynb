{
 "cells": [
  {
   "cell_type": "markdown",
   "source": [
    "# 基于GPT-2的\"关键词生成广告文案\"任务（样例测试demo）\n",
    "> 在GPT-2上做了5个epoch的fine-tune"
   ],
   "metadata": {
    "collapsed": false,
    "pycharm": {
     "name": "#%% md\n"
    }
   }
  },
  {
   "cell_type": "markdown",
   "source": [
    "## 1. 导入依赖"
   ],
   "metadata": {
    "collapsed": false,
    "pycharm": {
     "name": "#%% md\n"
    }
   }
  },
  {
   "cell_type": "code",
   "execution_count": 2,
   "metadata": {
    "collapsed": true
   },
   "outputs": [],
   "source": [
    "import transformers\n",
    "from transformers import AutoTokenizer, AutoModelForCausalLM\n",
    "import torch\n",
    "import torch.nn as nn\n",
    "import numpy as np\n",
    "import pandas as pd"
   ]
  },
  {
   "cell_type": "markdown",
   "source": [
    "## 2. 设置device，拿到tokenizer，实例化带CausalLM head的model"
   ],
   "metadata": {
    "collapsed": false
   }
  },
  {
   "cell_type": "code",
   "execution_count": 3,
   "metadata": {
    "pycharm": {
     "name": "#%%\n"
    }
   },
   "outputs": [
    {
     "name": "stdout",
     "output_type": "stream",
     "text": [
      "model loaded\n"
     ]
    }
   ],
   "source": [
    "device = torch.device(\"cuda\" if torch.cuda.is_available() else \"cpu\")\n",
    "tokenizer = AutoTokenizer.from_pretrained(\"gpt2-chinese-cluecorpussmall\")\n",
    "model = AutoModelForCausalLM.from_pretrained(\"gpt2-chinese-cluecorpussmall\").to(device)\n",
    "model.eval()\n",
    "torch.load('model/gpt2_gen_ads.pth', map_location=torch.device('cpu'))\n",
    "print('model loaded')"
   ]
  },
  {
   "cell_type": "markdown",
   "source": [
    "## 3. 定义生成算法"
   ],
   "metadata": {
    "collapsed": false
   }
  },
  {
   "cell_type": "code",
   "execution_count": 21,
   "metadata": {
    "pycharm": {
     "name": "#%%\n"
    }
   },
   "outputs": [],
   "source": [
    "def gen_ads(input_text, max_length=260):\n",
    "    token = tokenizer(input_text, return_tensors='pt')\n",
    "    input_ids = token['input_ids']\n",
    "    attention_mask = token['attention_mask']\n",
    "\n",
    "    with torch.no_grad():\n",
    "        output_ids = model.generate(input_ids=input_ids, attention_mask=attention_mask, do_sample=True, num_beams=1, max_length=max_length, min_length=1, no_repeat_ngram_size=3, early_stopping=True)\n",
    "        output_text = tokenizer.decode(output_ids[0], skip_special_tokens=True)\n",
    "\n",
    "    return output_text"
   ]
  },
  {
   "cell_type": "markdown",
   "source": [
    "## 4. 样例测试"
   ],
   "metadata": {
    "collapsed": false
   }
  },
  {
   "cell_type": "code",
   "execution_count": 22,
   "metadata": {
    "pycharm": {
     "name": "#%%\n"
    }
   },
   "outputs": [
    {
     "name": "stderr",
     "output_type": "stream",
     "text": [
      "Setting `pad_token_id` to `eos_token_id`:50256 for open-end generation.\n"
     ]
    },
    {
     "data": {
      "text/plain": "'*裤子面料休闲版型设计，不是简单的大码运动裤，为小巧的腿部带来全新的个性效果，采用大面积拉链，方便用户穿脱，方能更好的突出腿型，展现出大个性，更加的时尚前卫感。大方、大方的廓型设置，彰显得腰线自然和线条轮廓。同时，宽松有型的款式也会凸显出腿部线条，大方中不失小性感！牛仔衬衫，不仅美观而且实用，上身拉裤子是可以让人时尚休闲的选择，上紧下宽的紧身牛仔裤的版型，大度且直，不会太过于单调，'"
     },
     "execution_count": 22,
     "metadata": {},
     "output_type": "execute_result"
    }
   ],
   "source": [
    "input_text = '类型#裤*风格#复古*风格#简约*风格#休闲*图案#字母*图案#文字*图案#复古*图案#线条*图案#撞色*裤型#直筒裤*裤款式#抽褶'\n",
    "\n",
    "output_text = gen_ads(input_text)\n",
    "output_text = output_text.replace(' ', '')\n",
    "output_text = output_text[len(input_text):]\n",
    "output_text\n",
    "\n"
   ]
  }
 ],
 "metadata": {
  "kernelspec": {
   "display_name": "Python 3 (ipykernel)",
   "language": "python",
   "name": "python3"
  },
  "language_info": {
   "codemirror_mode": {
    "name": "ipython",
    "version": 3
   },
   "file_extension": ".py",
   "mimetype": "text/x-python",
   "name": "python",
   "nbconvert_exporter": "python",
   "pygments_lexer": "ipython3",
   "version": "3.7.11"
  }
 },
 "nbformat": 4,
 "nbformat_minor": 1
}