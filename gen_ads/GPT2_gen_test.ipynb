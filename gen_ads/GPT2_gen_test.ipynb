{
 "cells": [
  {
   "cell_type": "code",
   "execution_count": 2,
   "metadata": {
    "collapsed": true
   },
   "outputs": [],
   "source": [
    "import transformers\n",
    "from transformers import AutoTokenizer, AutoModelForCausalLM\n",
    "import torch\n",
    "import torch.nn as nn\n",
    "import numpy as np\n",
    "import pandas as pd"
   ]
  },
  {
   "cell_type": "code",
   "execution_count": 3,
   "metadata": {
    "pycharm": {
     "name": "#%%\n"
    }
   },
   "outputs": [
    {
     "name": "stdout",
     "output_type": "stream",
     "text": [
      "model loaded\n"
     ]
    }
   ],
   "source": [
    "device = torch.device(\"cuda\" if torch.cuda.is_available() else \"cpu\")\n",
    "tokenizer = AutoTokenizer.from_pretrained(\"gpt2-chinese-cluecorpussmall\")\n",
    "model = AutoModelForCausalLM.from_pretrained(\"gpt2-chinese-cluecorpussmall\").to(device)\n",
    "model.eval()\n",
    "torch.load('model/gpt2_gen_ads.pth', map_location=torch.device('cpu'))\n",
    "print('model loaded')"
   ]
  },
  {
   "cell_type": "code",
   "execution_count": 17,
   "metadata": {
    "pycharm": {
     "name": "#%%\n"
    }
   },
   "outputs": [],
   "source": [
    "def gen_ads(input_text, max_length=300):\n",
    "    token = tokenizer(input_text, return_tensors='pt')\n",
    "    input_ids = token['input_ids']\n",
    "    attention_mask = token['attention_mask']\n",
    "\n",
    "    with torch.no_grad():\n",
    "        output_ids = model.generate(input_ids=input_ids, attention_mask=attention_mask, do_sample=True, num_beams=1, max_length=max_length, min_length=1, no_repeat_ngram_size=3, early_stopping=True)\n",
    "        output_text = tokenizer.decode(output_ids[0], skip_special_tokens=True)\n",
    "\n",
    "    return output_text"
   ]
  },
  {
   "cell_type": "code",
   "execution_count": 18,
   "metadata": {
    "pycharm": {
     "name": "#%%\n"
    }
   },
   "outputs": [
    {
     "name": "stderr",
     "output_type": "stream",
     "text": [
      "Setting `pad_token_id` to `eos_token_id`:50256 for open-end generation.\n"
     ]
    },
    {
     "data": {
      "text/plain": [
       "'料|胸贴/背心裙/短裤装*上衣配胸贴材质|背景颜色+丝巾/蕾丝#材质材质】衬衫：白色(+黄色)灰色(黑)白色灰色（+黄)蓝色白色（黑）色(粉色）红色、橙色（绿)白灰色、白色黑灰色+白色、棕色蓝色。【款式/】：白裙+黑裙+短裤+连衣长裙+灰色灰裙+背心裤+背巾蓝色上衣+深灰+黑色条纹连衣裤/蓝色+黄+橙色+黑+黄#配色/款式：背心+黑长裤+t恤+牛仔短裤配白色连衣短裤/小白鞋+黑袜子+红色单鞋+白t+白鞋子加一条红色或蓝色配色裤链；连衣服不要一'"
      ]
     },
     "execution_count": 18,
     "metadata": {},
     "output_type": "execute_result"
    }
   ],
   "source": [
    "input_text = '类型#裙*材质#针织*风格#简约*风格#青春*风格#清新*风格#性感*图案#条纹*图案#撞色*裙下摆#开叉*裙长#连衣裙*裙款式#拼接*裙款式#吊带'\n",
    "\n",
    "output_text = gen_ads(input_text)\n",
    "output_text = output_text.replace(' ', '')\n",
    "output_text = output_text[len(input_text):]\n",
    "output_text"
   ]
  },
  {
   "cell_type": "code",
   "execution_count": 5,
   "metadata": {
    "pycharm": {
     "name": "#%%\n"
    }
   },
   "outputs": [],
   "source": []
  }
 ],
 "metadata": {
  "kernelspec": {
   "display_name": "Python 3 (ipykernel)",
   "language": "python",
   "name": "python3"
  },
  "language_info": {
   "codemirror_mode": {
    "name": "ipython",
    "version": 3
   },
   "file_extension": ".py",
   "mimetype": "text/x-python",
   "name": "python",
   "nbconvert_exporter": "python",
   "pygments_lexer": "ipython3",
   "version": "3.7.11"
  }
 },
 "nbformat": 4,
 "nbformat_minor": 1
}