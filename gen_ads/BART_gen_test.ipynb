{
 "cells": [
  {
   "cell_type": "code",
   "execution_count": 63,
   "outputs": [],
   "source": [
    "import transformers\n",
    "from transformers import AutoTokenizer, AutoModelForSeq2SeqLM\n",
    "import torch\n",
    "import torch.nn as nn\n",
    "import numpy as np\n",
    "import pandas as pd"
   ],
   "metadata": {
    "collapsed": false,
    "pycharm": {
     "name": "#%%\n"
    }
   }
  },
  {
   "cell_type": "code",
   "execution_count": 64,
   "outputs": [
    {
     "name": "stdout",
     "output_type": "stream",
     "text": [
      "model loaded\n"
     ]
    }
   ],
   "source": [
    "device = torch.device(\"cuda\" if torch.cuda.is_available() else \"cpu\")\n",
    "tokenizer = AutoTokenizer.from_pretrained(\"bart-base-chinese-cluecorpussmall\")\n",
    "model = AutoModelForSeq2SeqLM.from_pretrained(\"bart-base-chinese-cluecorpussmall\").to(device)\n",
    "model.eval()\n",
    "torch.load('model/bart_gen_ads.pth', map_location=torch.device('cpu'))\n",
    "print('model loaded')"
   ],
   "metadata": {
    "collapsed": false,
    "pycharm": {
     "name": "#%%\n"
    }
   }
  },
  {
   "cell_type": "code",
   "execution_count": 65,
   "outputs": [],
   "source": [
    "def generative_step(input_text, max_length=300):\n",
    "    token = tokenizer(input_text, return_tensors='pt')\n",
    "    input_ids = token['input_ids']\n",
    "    attention_mask = token['attention_mask']\n",
    "\n",
    "    with torch.no_grad():\n",
    "        output_ids = model.generate(input_ids=input_ids, attention_mask=attention_mask, do_sample=True, num_beams=1, max_length=max_length, min_length=1, no_repeat_ngram_size=3, early_stopping=True)\n",
    "        output_text = tokenizer.decode(output_ids[0], skip_special_tokens=True)\n",
    "\n",
    "    return output_text"
   ],
   "metadata": {
    "collapsed": false,
    "pycharm": {
     "name": "#%%\n"
    }
   }
  },
  {
   "cell_type": "code",
   "execution_count": 66,
   "outputs": [
    {
     "name": "stdout",
     "output_type": "stream",
     "text": [
      "类 型 # 裤 * 风 格 # 复 古 * 风 风 格 & 青 春 * 图 案 # 千 鸟 格 * 图 片 # 复 制 * 裤 长 # 七 分 裤 * 裤 型 # 背 带 裤 * 学 生 型 # 松 紧 腰 * 裤 口 # 小 脚 看 啊 的 。 本 堡 ~ 哎 格 子 来.? ？ ！ 价 网 吧 。 。 有 字 教 来 说 了 鞋 走 吗 式 上 款 啦 我 自 买 哦 呢 型 喵 娘 目 说 。 下 裤 丫 站 呗 类 书 下 ？ ！ ！ ？ 。 ！ ！ 。 ？ ！? ？ 型. 是 手 通 当 往 为 马 法 咯 品 ？ ？ ？ 裤? ？ 。 ？ ？. ？? 本 ？ ~ ？. ？ 运 进 ） 编\n"
     ]
    }
   ],
   "source": [
    "# input_text = '类型#上衣*材质#牛仔布*颜色#白色*风格#简约*图案#刺绣*衣样式#外套*衣款式#破洞'# input_text = '这是很久之前的事情了'\n",
    "# input_text = '这是很久之前的事情了'\n",
    "input_text = '类型#裤*风格#复古*风格#青春*图案#千鸟格*图案#复古*裤长#七分裤*裤型#背带裤*裤腰型#松紧腰*裤口#小脚'\n",
    "output_text = generative_step(input_text)\n",
    "print(output_text)"
   ],
   "metadata": {
    "collapsed": false,
    "pycharm": {
     "name": "#%%\n"
    }
   }
  },
  {
   "cell_type": "code",
   "execution_count": 66,
   "metadata": {
    "collapsed": true
   },
   "outputs": [],
   "source": []
  }
 ],
 "metadata": {
  "kernelspec": {
   "display_name": "Python 3",
   "language": "python",
   "name": "python3"
  },
  "language_info": {
   "codemirror_mode": {
    "name": "ipython",
    "version": 2
   },
   "file_extension": ".py",
   "mimetype": "text/x-python",
   "name": "python",
   "nbconvert_exporter": "python",
   "pygments_lexer": "ipython2",
   "version": "2.7.6"
  }
 },
 "nbformat": 4,
 "nbformat_minor": 0
}