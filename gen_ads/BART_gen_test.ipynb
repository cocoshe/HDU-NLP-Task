{
 "cells": [
  {
   "cell_type": "code",
   "execution_count": 63,
   "metadata": {
    "pycharm": {
     "name": "#%%\n"
    }
   },
   "outputs": [],
   "source": [
    "import transformers\n",
    "from transformers import AutoTokenizer, AutoModelForSeq2SeqLM\n",
    "import torch\n",
    "import torch.nn as nn\n",
    "import numpy as np\n",
    "import pandas as pd"
   ]
  },
  {
   "cell_type": "code",
   "execution_count": 64,
   "metadata": {
    "pycharm": {
     "name": "#%%\n"
    }
   },
   "outputs": [
    {
     "name": "stdout",
     "output_type": "stream",
     "text": [
      "model loaded\n"
     ]
    }
   ],
   "source": [
    "device = torch.device(\"cuda\" if torch.cuda.is_available() else \"cpu\")\n",
    "tokenizer = AutoTokenizer.from_pretrained(\"bart-base-chinese-cluecorpussmall\")\n",
    "model = AutoModelForSeq2SeqLM.from_pretrained(\"bart-base-chinese-cluecorpussmall\").to(device)\n",
    "model.eval()\n",
    "torch.load('model/bart_gen_ads.pth', map_location=torch.device('cpu'))\n",
    "print('model loaded')"
   ]
  },
  {
   "cell_type": "code",
   "execution_count": 65,
   "metadata": {
    "pycharm": {
     "name": "#%%\n"
    }
   },
   "outputs": [],
   "source": [
    "def generative_step(input_text, max_length=300):\n",
    "    token = tokenizer(input_text, return_tensors='pt')\n",
    "    input_ids = token['input_ids']\n",
    "    attention_mask = token['attention_mask']\n",
    "\n",
    "    with torch.no_grad():\n",
    "        output_ids = model.generate(input_ids=input_ids, attention_mask=attention_mask, do_sample=True, num_beams=1, max_length=max_length, min_length=1, no_repeat_ngram_size=3, early_stopping=True)\n",
    "        output_text = tokenizer.decode(output_ids[0], skip_special_tokens=True)\n",
    "\n",
    "    return output_text"
   ]
  },
  {
   "cell_type": "code",
   "execution_count": 1,
   "metadata": {
    "pycharm": {
     "name": "#%%\n"
    }
   },
   "outputs": [
    {
     "ename": "NameError",
     "evalue": "name 'generative_step' is not defined",
     "output_type": "error",
     "traceback": [
      "\u001B[1;31m---------------------------------------------------------------------------\u001B[0m",
      "\u001B[1;31mNameError\u001B[0m                                 Traceback (most recent call last)",
      "\u001B[1;32mC:\\Windows\\Temp\\ipykernel_39544\\3338214030.py\u001B[0m in \u001B[0;36m<module>\u001B[1;34m\u001B[0m\n\u001B[0;32m      2\u001B[0m \u001B[1;31m# input_text = '这是很久之前的事情了'\u001B[0m\u001B[1;33m\u001B[0m\u001B[1;33m\u001B[0m\u001B[1;33m\u001B[0m\u001B[0m\n\u001B[0;32m      3\u001B[0m \u001B[0minput_text\u001B[0m \u001B[1;33m=\u001B[0m \u001B[1;34m'类型#上衣*版型#宽松*材质#棉*风格#简约*风格#潮*衣样式#衬衫*衣领型#v领*衣款式#拼接*衣款式#荷叶边'\u001B[0m\u001B[1;33m\u001B[0m\u001B[1;33m\u001B[0m\u001B[0m\n\u001B[1;32m----> 4\u001B[1;33m \u001B[0moutput_text\u001B[0m \u001B[1;33m=\u001B[0m \u001B[0mgenerative_step\u001B[0m\u001B[1;33m(\u001B[0m\u001B[0minput_text\u001B[0m\u001B[1;33m)\u001B[0m\u001B[1;33m\u001B[0m\u001B[1;33m\u001B[0m\u001B[0m\n\u001B[0m\u001B[0;32m      5\u001B[0m \u001B[0mprint\u001B[0m\u001B[1;33m(\u001B[0m\u001B[0moutput_text\u001B[0m\u001B[1;33m)\u001B[0m\u001B[1;33m\u001B[0m\u001B[1;33m\u001B[0m\u001B[0m\n\u001B[0;32m      6\u001B[0m \u001B[1;33m\u001B[0m\u001B[0m\n",
      "\u001B[1;31mNameError\u001B[0m: name 'generative_step' is not defined"
     ]
    }
   ],
   "source": [
    "# input_text = '类型#上衣*材质#牛仔布*颜色#白色*风格#简约*图案#刺绣*衣样式#外套*衣款式#破洞'# input_text = '这是很久之前的事情了'\n",
    "# input_text = '这是很久之前的事情了'\n",
    "input_text = '类型#裤*风格#复古*风格#青春*图案#千鸟格*图案#复古*裤长#七分裤*裤型#背带裤*裤腰型#松紧腰*裤口#小脚'\n",
    "output_text = generative_step(input_text)\n",
    "print(output_text)"
   ]
  },
  {
   "cell_type": "code",
   "execution_count": 66,
   "metadata": {
    "collapsed": true
   },
   "outputs": [],
   "source": []
  }
 ],
 "metadata": {
  "kernelspec": {
   "display_name": "Python 3 (ipykernel)",
   "language": "python",
   "name": "python3"
  },
  "language_info": {
   "codemirror_mode": {
    "name": "ipython",
    "version": 3
   },
   "file_extension": ".py",
   "mimetype": "text/x-python",
   "name": "python",
   "nbconvert_exporter": "python",
   "pygments_lexer": "ipython3",
   "version": "3.7.11"
  }
 },
 "nbformat": 4,
 "nbformat_minor": 1
}