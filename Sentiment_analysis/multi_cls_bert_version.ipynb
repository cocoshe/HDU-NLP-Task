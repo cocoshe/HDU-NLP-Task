{
 "cells": [
  {
   "cell_type": "markdown",
   "source": [
    "# 电影评价分类（bert version）\n",
    "> 五分类问题，和邮件垃圾的二分类类似\n"
   ],
   "metadata": {
    "collapsed": false,
    "pycharm": {
     "name": "#%% md\n"
    }
   }
  },
  {
   "cell_type": "code",
   "execution_count": 1,
   "metadata": {
    "collapsed": false,
    "jupyter": {
     "outputs_hidden": false
    },
    "pycharm": {
     "name": "#%%\n"
    }
   },
   "outputs": [
    {
     "name": "stdout",
     "output_type": "stream",
     "text": [
      "# conda environments:\n",
      "#\n",
      "base                  *  /opt/conda\n",
      "federated_learning       /opt/conda/envs/federated_learning\n",
      "python2                  /opt/conda/envs/python2\n",
      "pytorch1.8               /opt/conda/envs/pytorch1.8\n",
      "rapids                   /opt/conda/envs/rapids\n",
      "tf1.14                   /opt/conda/envs/tf1.14\n",
      "tf2.4.1                  /opt/conda/envs/tf2.4.1\n",
      "\n"
     ]
    }
   ],
   "source": [
    "!conda env list\n"
   ]
  },
  {
   "cell_type": "markdown",
   "source": [
    "## 1. 安装依赖"
   ],
   "metadata": {
    "collapsed": false,
    "pycharm": {
     "name": "#%% md\n"
    }
   }
  },
  {
   "cell_type": "code",
   "execution_count": 2,
   "metadata": {
    "collapsed": false,
    "jupyter": {
     "outputs_hidden": false
    },
    "pycharm": {
     "name": "#%%\n"
    }
   },
   "outputs": [
    {
     "name": "stderr",
     "output_type": "stream",
     "text": [
      "/root/.local/lib/python3.7/site-packages/tqdm/auto.py:22: TqdmWarning: IProgress not found. Please update jupyter and ipywidgets. See https://ipywidgets.readthedocs.io/en/stable/user_install.html\n",
      "  from .autonotebook import tqdm as notebook_tqdm\n",
      "2022-05-08 00:04:39.243606: W tensorflow/stream_executor/platform/default/dso_loader.cc:55] Could not load dynamic library 'libnvinfer.so.6'; dlerror: libnvinfer.so.6: cannot open shared object file: No such file or directory; LD_LIBRARY_PATH: /usr/local/nvidia/lib64\n",
      "2022-05-08 00:04:39.243727: W tensorflow/stream_executor/platform/default/dso_loader.cc:55] Could not load dynamic library 'libnvinfer_plugin.so.6'; dlerror: libnvinfer_plugin.so.6: cannot open shared object file: No such file or directory; LD_LIBRARY_PATH: /usr/local/nvidia/lib64\n",
      "2022-05-08 00:04:39.243738: W tensorflow/compiler/tf2tensorrt/utils/py_utils.cc:30] Cannot dlopen some TensorRT libraries. If you would like to use Nvidia GPU with TensorRT, please make sure the missing libraries mentioned above are installed properly.\n"
     ]
    }
   ],
   "source": [
    "import numpy as np\n",
    "import pandas as pd\n",
    "import torch\n",
    "import torch.nn as nn\n",
    "from torch.utils.data import Dataset, DataLoader\n",
    "from transformers import BertTokenizer, BertModel, BertForSequenceClassification\n",
    "from tqdm import tqdm\n",
    "from sklearn.metrics import f1_score, precision_score, recall_score, accuracy_score, classification_report\n",
    "import wandb"
   ]
  },
  {
   "cell_type": "markdown",
   "source": [
    "## 2. wandb初始化，设置device"
   ],
   "metadata": {
    "collapsed": false
   }
  },
  {
   "cell_type": "code",
   "execution_count": 3,
   "metadata": {
    "collapsed": false,
    "jupyter": {
     "outputs_hidden": false
    },
    "pycharm": {
     "name": "#%%\n"
    }
   },
   "outputs": [
    {
     "name": "stdout",
     "output_type": "stream",
     "text": [
      "Sun May  8 00:04:44 2022       \n",
      "+-----------------------------------------------------------------------------+\n",
      "| NVIDIA-SMI 450.51.05    Driver Version: 450.51.05    CUDA Version: 11.0     |\n",
      "|-------------------------------+----------------------+----------------------+\n",
      "| GPU  Name        Persistence-M| Bus-Id        Disp.A | Volatile Uncorr. ECC |\n",
      "| Fan  Temp  Perf  Pwr:Usage/Cap|         Memory-Usage | GPU-Util  Compute M. |\n",
      "|                               |                      |               MIG M. |\n",
      "|===============================+======================+======================|\n",
      "|   0  Tesla V100-PCIE...  Off  | 00000000:3E:00.0 Off |                    0 |\n",
      "| N/A   37C    P0    40W / 250W |      0MiB / 32510MiB |      0%      Default |\n",
      "|                               |                      |                  N/A |\n",
      "+-------------------------------+----------------------+----------------------+\n",
      "                                                                               \n",
      "+-----------------------------------------------------------------------------+\n",
      "| Processes:                                                                  |\n",
      "|  GPU   GI   CI        PID   Type   Process name                  GPU Memory |\n",
      "|        ID   ID                                                   Usage      |\n",
      "|=============================================================================|\n",
      "|  No running processes found                                                 |\n",
      "+-----------------------------------------------------------------------------+\n"
     ]
    },
    {
     "name": "stderr",
     "output_type": "stream",
     "text": [
      "Failed to detect the name of this notebook, you can set it manually with the WANDB_NOTEBOOK_NAME environment variable to enable code saving.\n"
     ]
    }
   ],
   "source": [
    "!nvidia-smi\n",
    "wandb.init(project=\"senti-analysis\", entity='cocoshe', mode='disabled')\n",
    "# wandb.config = {\n",
    "#     'batch_size': 32,\n",
    "#     'epochs': 5,\n",
    "#     'lr': 5e-5,\n",
    "#     'max_seq_length': 128,\n",
    "# }\n",
    "device = torch.device(\"cuda\" if torch.cuda.is_available() else \"cpu\")"
   ]
  },
  {
   "cell_type": "markdown",
   "source": [
    "## 3. 定义dataset"
   ],
   "metadata": {
    "collapsed": false
   }
  },
  {
   "cell_type": "code",
   "execution_count": 4,
   "metadata": {
    "collapsed": false,
    "jupyter": {
     "outputs_hidden": false
    },
    "pycharm": {
     "name": "#%%\n"
    }
   },
   "outputs": [],
   "source": [
    "class MyDataset(Dataset):\n",
    "    def __init__(self, df, model_name='bert-base-chinese'):\n",
    "        self.data_df = df\n",
    "        self.tokenizer = BertTokenizer.from_pretrained(model_name)\n",
    "\n",
    "    def __len__(self):\n",
    "        return len(self.data_df)\n",
    "\n",
    "    def __getitem__(self, idx):\n",
    "        input_text = self.data_df.iloc[idx, 0]\n",
    "        label = self.data_df.iloc[idx, 1]\n",
    "\n",
    "        tokenizer = self.tokenizer\n",
    "        token = tokenizer(input_text, padding='max_length', truncation=True, max_length=128, return_tensors='pt', return_token_type_ids=False)\n",
    "        input_ids = token['input_ids'].squeeze(0)\n",
    "        attention_mask = token['attention_mask'].squeeze(0)\n",
    "        label = np.int64(label)\n",
    "        return input_ids.to(device), attention_mask.to(device), label"
   ]
  },
  {
   "cell_type": "markdown",
   "source": [
    " ## 4. 拿tokenizer，实例化带classification head的bert"
   ],
   "metadata": {
    "collapsed": false
   }
  },
  {
   "cell_type": "code",
   "execution_count": 5,
   "metadata": {
    "collapsed": false,
    "jupyter": {
     "outputs_hidden": false
    },
    "pycharm": {
     "name": "#%%\n"
    }
   },
   "outputs": [
    {
     "name": "stderr",
     "output_type": "stream",
     "text": [
      "Some weights of the model checkpoint at bert-base-chinese were not used when initializing BertForSequenceClassification: ['cls.seq_relationship.weight', 'cls.predictions.transform.dense.weight', 'cls.predictions.transform.LayerNorm.bias', 'cls.predictions.transform.dense.bias', 'cls.predictions.decoder.weight', 'cls.predictions.bias', 'cls.seq_relationship.bias', 'cls.predictions.transform.LayerNorm.weight']\n",
      "- This IS expected if you are initializing BertForSequenceClassification from the checkpoint of a model trained on another task or with another architecture (e.g. initializing a BertForSequenceClassification model from a BertForPreTraining model).\n",
      "- This IS NOT expected if you are initializing BertForSequenceClassification from the checkpoint of a model that you expect to be exactly identical (initializing a BertForSequenceClassification model from a BertForSequenceClassification model).\n",
      "Some weights of BertForSequenceClassification were not initialized from the model checkpoint at bert-base-chinese and are newly initialized: ['classifier.bias', 'classifier.weight']\n",
      "You should probably TRAIN this model on a down-stream task to be able to use it for predictions and inference.\n"
     ]
    }
   ],
   "source": [
    "tokenizer = BertTokenizer.from_pretrained('bert-base-chinese')\n",
    "model = BertForSequenceClassification.from_pretrained('bert-base-chinese', num_labels=5)\n",
    "model.to(device)\n",
    "\n",
    "criterion = nn.CrossEntropyLoss()\n",
    "optimizer = torch.optim.AdamW(model.parameters(), lr=5e-5)\n",
    "epochs = 10"
   ]
  },
  {
   "cell_type": "markdown",
   "source": [
    " ## 5. 定义切分函数"
   ],
   "metadata": {
    "collapsed": false
   }
  },
  {
   "cell_type": "code",
   "execution_count": 6,
   "metadata": {
    "collapsed": false,
    "jupyter": {
     "outputs_hidden": false
    },
    "pycharm": {
     "name": "#%%\n"
    }
   },
   "outputs": [],
   "source": [
    "def train_test_split(input_df, test_size=0.2, shuffle=True, random_state=None):\n",
    "    if shuffle:\n",
    "        input_df = input_df.sample(frac=1)\n",
    "    ret_train_df = input_df[:int(len(input_df) * (1 - test_size))]\n",
    "    ret_test_df = input_df[int(len(input_df) * (1 - test_size)):]\n",
    "    return ret_train_df, ret_test_df"
   ]
  },
  {
   "cell_type": "markdown",
   "source": [
    " ## 6. 映射字典，把label转换为数字"
   ],
   "metadata": {
    "collapsed": false
   }
  },
  {
   "cell_type": "code",
   "execution_count": 7,
   "metadata": {
    "collapsed": false,
    "jupyter": {
     "outputs_hidden": false
    },
    "pycharm": {
     "name": "#%%\n"
    }
   },
   "outputs": [],
   "source": [
    "evaluate2score = {'力荐': '4', '推荐': '3', '还行': '2', '较差': '1', '很差': '0'}\n",
    "score2evaluate = {4: '力荐', '3': '推荐', '2': '还行', '1': '较差', '0': '很差'}\n",
    "evaluate_list = ['力荐', '推荐', '还行', '较差', '很差']\n",
    "k, v = list(evaluate2score.items())[0]"
   ]
  },
  {
   "cell_type": "markdown",
   "source": [
    " ## 7. 导入数据"
   ],
   "metadata": {
    "collapsed": false
   }
  },
  {
   "cell_type": "code",
   "execution_count": 8,
   "metadata": {
    "collapsed": false,
    "jupyter": {
     "outputs_hidden": false
    },
    "pycharm": {
     "name": "#%%\n"
    }
   },
   "outputs": [
    {
     "name": "stdout",
     "output_type": "stream",
     "text": [
      "0                       推荐\n",
      "2                       很差\n",
      "3                       力荐\n",
      "5                       还行\n",
      "6                       较差\n",
      "56     2019-02-05 23:16:40\n",
      "96     2019-02-08 11:53:57\n",
      "119    2019-02-09 09:14:52\n",
      "161    2019-01-28 20:14:00\n",
      "247    2019-02-10 23:30:50\n",
      "261    2019-02-06 20:33:03\n",
      "307    2019-02-06 15:31:25\n",
      "339    2019-02-10 18:09:43\n",
      "354    2019-02-08 05:09:17\n",
      "395    2019-02-08 00:15:25\n",
      "417    2019-02-09 18:32:26\n",
      "431    2019-02-08 22:39:41\n",
      "446    2019-02-07 19:41:14\n",
      "463    2019-02-08 22:00:00\n",
      "Name: evaluate, dtype: object\n",
      "after filter\n",
      "0    推荐\n",
      "2    很差\n",
      "3    力荐\n",
      "5    还行\n",
      "6    较差\n",
      "Name: evaluate, dtype: object\n"
     ]
    },
    {
     "data": {
      "text/html": [
       "<div>\n",
       "<style scoped>\n",
       "    .dataframe tbody tr th:only-of-type {\n",
       "        vertical-align: middle;\n",
       "    }\n",
       "\n",
       "    .dataframe tbody tr th {\n",
       "        vertical-align: top;\n",
       "    }\n",
       "\n",
       "    .dataframe thead th {\n",
       "        text-align: right;\n",
       "    }\n",
       "</style>\n",
       "<table border=\"1\" class=\"dataframe\">\n",
       "  <thead>\n",
       "    <tr style=\"text-align: right;\">\n",
       "      <th></th>\n",
       "      <th>content</th>\n",
       "      <th>evaluate</th>\n",
       "    </tr>\n",
       "  </thead>\n",
       "  <tbody>\n",
       "    <tr>\n",
       "      <th>0</th>\n",
       "      <td>一个悲伤的故事：太阳都要毁灭，地球都要流浪了，我国的校服还是这么丑......</td>\n",
       "      <td>推荐</td>\n",
       "    </tr>\n",
       "    <tr>\n",
       "      <th>1</th>\n",
       "      <td>电影比预期要更恢弘磅礴，晨昏线过后的永夜、火种计划、让地球流浪、木星推动地球…等等大小设定，...</td>\n",
       "      <td>推荐</td>\n",
       "    </tr>\n",
       "    <tr>\n",
       "      <th>2</th>\n",
       "      <td>还能更土更儿戏一点吗？毫无思考仅靠煽动，毫无敬畏仅余妄想。好的科幻片应该首先承认人类的无知，...</td>\n",
       "      <td>很差</td>\n",
       "    </tr>\n",
       "    <tr>\n",
       "      <th>3</th>\n",
       "      <td>1.终于，轮到我们仰望星空。2.后启示录死亡废墟，赛博朋克地下城，以及烟波浩渺的末日想象，缔...</td>\n",
       "      <td>力荐</td>\n",
       "    </tr>\n",
       "    <tr>\n",
       "      <th>4</th>\n",
       "      <td>真为吴京的演技尴尬，总是摆出一副大义凌然的样子，好奇为什么刘的作品中总有这种傻逼般的圣母存在...</td>\n",
       "      <td>很差</td>\n",
       "    </tr>\n",
       "  </tbody>\n",
       "</table>\n",
       "</div>"
      ],
      "text/plain": [
       "                                             content evaluate\n",
       "0            一个悲伤的故事：太阳都要毁灭，地球都要流浪了，我国的校服还是这么丑......       推荐\n",
       "1  电影比预期要更恢弘磅礴，晨昏线过后的永夜、火种计划、让地球流浪、木星推动地球…等等大小设定，...       推荐\n",
       "2  还能更土更儿戏一点吗？毫无思考仅靠煽动，毫无敬畏仅余妄想。好的科幻片应该首先承认人类的无知，...       很差\n",
       "3  1.终于，轮到我们仰望星空。2.后启示录死亡废墟，赛博朋克地下城，以及烟波浩渺的末日想象，缔...       力荐\n",
       "4  真为吴京的演技尴尬，总是摆出一副大义凌然的样子，好奇为什么刘的作品中总有这种傻逼般的圣母存在...       很差"
      ]
     },
     "execution_count": 8,
     "metadata": {},
     "output_type": "execute_result"
    }
   ],
   "source": [
    "# split train and test data directly(no need to split input and label, that's why not use sklearn.model_selection.train_test_split)\n",
    "df = pd.read_csv('dataset/流浪地球.csv', encoding='utf-8', header=0, index_col=None, usecols=['content', 'evaluate'])\n",
    "print(df.drop_duplicates(['evaluate'])['evaluate'])\n",
    "df = df[df['evaluate'].isin(evaluate_list)]  # filter out the evaluate not in evaluate_list\n",
    "print('after filter')\n",
    "print(df.drop_duplicates(['evaluate'])['evaluate'])\n",
    "df.head()"
   ]
  },
  {
   "cell_type": "markdown",
   "source": [
    " ## 8. 把label转换为数字"
   ],
   "metadata": {
    "collapsed": false
   }
  },
  {
   "cell_type": "code",
   "execution_count": 9,
   "metadata": {
    "collapsed": false,
    "jupyter": {
     "outputs_hidden": false
    },
    "pycharm": {
     "name": "#%%\n"
    }
   },
   "outputs": [
    {
     "name": "stdout",
     "output_type": "stream",
     "text": [
      "content     object\n",
      "evaluate     int64\n",
      "dtype: object\n"
     ]
    },
    {
     "data": {
      "text/html": [
       "<div>\n",
       "<style scoped>\n",
       "    .dataframe tbody tr th:only-of-type {\n",
       "        vertical-align: middle;\n",
       "    }\n",
       "\n",
       "    .dataframe tbody tr th {\n",
       "        vertical-align: top;\n",
       "    }\n",
       "\n",
       "    .dataframe thead th {\n",
       "        text-align: right;\n",
       "    }\n",
       "</style>\n",
       "<table border=\"1\" class=\"dataframe\">\n",
       "  <thead>\n",
       "    <tr style=\"text-align: right;\">\n",
       "      <th></th>\n",
       "      <th>content</th>\n",
       "      <th>evaluate</th>\n",
       "    </tr>\n",
       "  </thead>\n",
       "  <tbody>\n",
       "    <tr>\n",
       "      <th>0</th>\n",
       "      <td>一个悲伤的故事：太阳都要毁灭，地球都要流浪了，我国的校服还是这么丑......</td>\n",
       "      <td>3</td>\n",
       "    </tr>\n",
       "    <tr>\n",
       "      <th>1</th>\n",
       "      <td>电影比预期要更恢弘磅礴，晨昏线过后的永夜、火种计划、让地球流浪、木星推动地球…等等大小设定，...</td>\n",
       "      <td>3</td>\n",
       "    </tr>\n",
       "    <tr>\n",
       "      <th>2</th>\n",
       "      <td>还能更土更儿戏一点吗？毫无思考仅靠煽动，毫无敬畏仅余妄想。好的科幻片应该首先承认人类的无知，...</td>\n",
       "      <td>0</td>\n",
       "    </tr>\n",
       "    <tr>\n",
       "      <th>3</th>\n",
       "      <td>1.终于，轮到我们仰望星空。2.后启示录死亡废墟，赛博朋克地下城，以及烟波浩渺的末日想象，缔...</td>\n",
       "      <td>4</td>\n",
       "    </tr>\n",
       "    <tr>\n",
       "      <th>4</th>\n",
       "      <td>真为吴京的演技尴尬，总是摆出一副大义凌然的样子，好奇为什么刘的作品中总有这种傻逼般的圣母存在...</td>\n",
       "      <td>0</td>\n",
       "    </tr>\n",
       "  </tbody>\n",
       "</table>\n",
       "</div>"
      ],
      "text/plain": [
       "                                             content  evaluate\n",
       "0            一个悲伤的故事：太阳都要毁灭，地球都要流浪了，我国的校服还是这么丑......         3\n",
       "1  电影比预期要更恢弘磅礴，晨昏线过后的永夜、火种计划、让地球流浪、木星推动地球…等等大小设定，...         3\n",
       "2  还能更土更儿戏一点吗？毫无思考仅靠煽动，毫无敬畏仅余妄想。好的科幻片应该首先承认人类的无知，...         0\n",
       "3  1.终于，轮到我们仰望星空。2.后启示录死亡废墟，赛博朋克地下城，以及烟波浩渺的末日想象，缔...         4\n",
       "4  真为吴京的演技尴尬，总是摆出一副大义凌然的样子，好奇为什么刘的作品中总有这种傻逼般的圣母存在...         0"
      ]
     },
     "execution_count": 9,
     "metadata": {},
     "output_type": "execute_result"
    }
   ],
   "source": [
    "df['evaluate'] = df['evaluate'].map(evaluate2score).astype(int)\n",
    "print(df.dtypes)\n",
    "df.head()"
   ]
  },
  {
   "cell_type": "markdown",
   "source": [
    " ## 9. 切分训练集和测试集，装入loader"
   ],
   "metadata": {
    "collapsed": false
   }
  },
  {
   "cell_type": "code",
   "execution_count": 10,
   "metadata": {
    "collapsed": false,
    "jupyter": {
     "outputs_hidden": false
    },
    "pycharm": {
     "name": "#%%\n"
    }
   },
   "outputs": [],
   "source": [
    "train_df, test_df = train_test_split(df, test_size=0.3, shuffle=True)\n",
    "\n",
    "train_dataset = MyDataset(train_df, model_name='bert-base-chinese')\n",
    "test_dataset = MyDataset(test_df, model_name='bert-base-chinese')\n",
    "\n",
    "train_loader = DataLoader(train_dataset, batch_size=32, shuffle=True)\n",
    "test_loader = DataLoader(test_dataset, batch_size=32, shuffle=True)"
   ]
  },
  {
   "cell_type": "markdown",
   "source": [
    " ## 10. train"
   ],
   "metadata": {
    "collapsed": false
   }
  },
  {
   "cell_type": "code",
   "execution_count": 11,
   "metadata": {
    "collapsed": false,
    "jupyter": {
     "outputs_hidden": false
    },
    "pycharm": {
     "name": "#%%\n"
    }
   },
   "outputs": [],
   "source": [
    "# train\n",
    "def train():\n",
    "    model.train()\n",
    "    for epoch in range(epochs):\n",
    "        for i, batch in enumerate(tqdm(train_loader)):\n",
    "            input_ids, attention_mask, label = batch\n",
    "            input_ids, attention_mask, label = input_ids.to(device), attention_mask.to(device), label.to(device)\n",
    "            print(label)\n",
    "            output = model(input_ids, attention_mask, labels=label)\n",
    "            loss = output[0]\n",
    "\n",
    "            optimizer.zero_grad()\n",
    "            loss.backward()\n",
    "            optimizer.step()\n",
    "\n",
    "            print('epoch: ', epoch, 'loss: ', loss.item())\n",
    "            wandb.log({'epoch': epoch,'step': i, 'loss': loss.item()})\n",
    "\n",
    "        evaluate()"
   ]
  },
  {
   "cell_type": "markdown",
   "source": [
    " ## 11. evaluate"
   ],
   "metadata": {
    "collapsed": false
   }
  },
  {
   "cell_type": "code",
   "execution_count": 12,
   "metadata": {
    "collapsed": false,
    "jupyter": {
     "outputs_hidden": false
    },
    "pycharm": {
     "name": "#%%\n"
    }
   },
   "outputs": [],
   "source": [
    "# evaluate\n",
    "def evaluate():\n",
    "    label_list = []\n",
    "    pred_list = []\n",
    "    model.eval()\n",
    "    with torch.no_grad():\n",
    "        model.eval()\n",
    "        eval_steps = 0\n",
    "        pred_list = []\n",
    "        label_list = []\n",
    "        for i, batch in enumerate(tqdm(test_loader)):\n",
    "            input_ids, attention_mask, label = batch\n",
    "            input_ids, attention_mask, label = input_ids.to(device), attention_mask.to(device), label.to(device)\n",
    "            output = model(input_ids, attention_mask, labels=label)\n",
    "            pred_list += (torch.argmax(output[1], dim=-1))\n",
    "            label_list += label\n",
    "            eval_steps += 1\n",
    "\n",
    "        label_list, pred_list = [item.cpu().numpy() for item in label_list], [item.cpu().numpy() for item in pred_list]\n",
    "        # f1 = f1_score(label_list, pred_list, average='macro')\n",
    "        # acc = accuracy_score(label_list, pred_list)\n",
    "        # precision = precision_score(label_list, pred_list, average='macro')\n",
    "        # recall = recall_score(label_list, pred_list, average='macro')\n",
    "        report = classification_report(label_list, pred_list)\n",
    "        print(report)"
   ]
  },
  {
   "cell_type": "code",
   "execution_count": 13,
   "metadata": {},
   "outputs": [
    {
     "name": "stderr",
     "output_type": "stream",
     "text": [
      "  0%|          | 0/11 [00:00<?, ?it/s]"
     ]
    },
    {
     "name": "stdout",
     "output_type": "stream",
     "text": [
      "tensor([1, 3, 1, 4, 1, 1, 0, 2, 1, 4, 2, 2, 4, 0, 4, 4, 1, 2, 4, 2, 3, 4, 2, 0,\n",
      "        4, 1, 2, 1, 2, 2, 3, 3], device='cuda:0')\n"
     ]
    },
    {
     "name": "stderr",
     "output_type": "stream",
     "text": [
      "  9%|▉         | 1/11 [00:01<00:12,  1.26s/it]"
     ]
    },
    {
     "name": "stdout",
     "output_type": "stream",
     "text": [
      "epoch:  0 loss:  1.6989562511444092\n",
      "tensor([0, 3, 1, 3, 3, 4, 4, 4, 0, 1, 4, 1, 2, 4, 0, 3, 2, 1, 0, 4, 2, 2, 2, 1,\n",
      "        1, 4, 3, 2, 2, 1, 2, 3], device='cuda:0')\n"
     ]
    },
    {
     "name": "stderr",
     "output_type": "stream",
     "text": [
      " 18%|█▊        | 2/11 [00:01<00:06,  1.31it/s]"
     ]
    },
    {
     "name": "stdout",
     "output_type": "stream",
     "text": [
      "epoch:  0 loss:  1.6197503805160522\n",
      "tensor([2, 4, 2, 2, 1, 1, 4, 4, 4, 0, 0, 4, 1, 2, 2, 4, 4, 3, 1, 1, 4, 4, 2, 0,\n",
      "        4, 2, 1, 4, 1, 1, 4, 2], device='cuda:0')\n"
     ]
    },
    {
     "name": "stderr",
     "output_type": "stream",
     "text": [
      " 27%|██▋       | 3/11 [00:01<00:04,  1.82it/s]"
     ]
    },
    {
     "name": "stdout",
     "output_type": "stream",
     "text": [
      "epoch:  0 loss:  1.4003405570983887\n",
      "tensor([1, 0, 3, 1, 1, 4, 1, 0, 4, 2, 2, 2, 0, 2, 1, 4, 3, 1, 4, 1, 2, 2, 2, 2,\n",
      "        2, 1, 2, 1, 0, 1, 1, 3], device='cuda:0')\n"
     ]
    },
    {
     "name": "stderr",
     "output_type": "stream",
     "text": [
      " 36%|███▋      | 4/11 [00:02<00:03,  2.20it/s]"
     ]
    },
    {
     "name": "stdout",
     "output_type": "stream",
     "text": [
      "epoch:  0 loss:  1.5048171281814575\n",
      "tensor([1, 4, 3, 3, 0, 1, 3, 2, 4, 3, 3, 0, 2, 2, 2, 3, 3, 3, 3, 1, 3, 2, 2, 2,\n",
      "        3, 3, 3, 2, 3, 3, 4, 3], device='cuda:0')\n"
     ]
    },
    {
     "name": "stderr",
     "output_type": "stream",
     "text": [
      " 45%|████▌     | 5/11 [00:02<00:02,  2.50it/s]"
     ]
    },
    {
     "name": "stdout",
     "output_type": "stream",
     "text": [
      "epoch:  0 loss:  1.6969808340072632\n",
      "tensor([4, 2, 2, 2, 3, 2, 4, 2, 0, 4, 3, 0, 0, 2, 4, 0, 3, 2, 1, 2, 0, 2, 1, 2,\n",
      "        2, 3, 3, 2, 0, 3, 3, 4], device='cuda:0')\n"
     ]
    },
    {
     "name": "stderr",
     "output_type": "stream",
     "text": [
      " 55%|█████▍    | 6/11 [00:04<00:05,  1.05s/it]"
     ]
    },
    {
     "name": "stdout",
     "output_type": "stream",
     "text": [
      "epoch:  0 loss:  1.7051517963409424\n",
      "tensor([3, 3, 4, 2, 3, 1, 4, 3, 0, 0, 3, 3, 4, 4, 2, 2, 2, 1, 1, 3, 0, 2, 3, 3,\n",
      "        4, 3, 3, 2, 2, 3, 4, 4], device='cuda:0')\n"
     ]
    },
    {
     "name": "stderr",
     "output_type": "stream",
     "text": [
      " 64%|██████▎   | 7/11 [00:05<00:03,  1.00it/s]"
     ]
    },
    {
     "name": "stdout",
     "output_type": "stream",
     "text": [
      "epoch:  0 loss:  1.6950457096099854\n",
      "tensor([4, 2, 2, 0, 2, 3, 4, 4, 1, 4, 2, 4, 3, 2, 0, 3, 4, 2, 1, 4, 2, 3, 2, 3,\n",
      "        1, 4, 1, 3, 2, 3, 3, 4], device='cuda:0')\n"
     ]
    },
    {
     "name": "stderr",
     "output_type": "stream",
     "text": [
      " 73%|███████▎  | 8/11 [00:06<00:02,  1.09it/s]"
     ]
    },
    {
     "name": "stdout",
     "output_type": "stream",
     "text": [
      "epoch:  0 loss:  1.6250977516174316\n",
      "tensor([0, 3, 3, 2, 3, 3, 1, 3, 2, 1, 0, 4, 4, 2, 4, 4, 2, 2, 3, 0, 3, 2, 4, 4,\n",
      "        4, 3, 2, 3, 3, 3, 2, 4], device='cuda:0')\n"
     ]
    },
    {
     "name": "stderr",
     "output_type": "stream",
     "text": [
      " 82%|████████▏ | 9/11 [00:07<00:01,  1.15it/s]"
     ]
    },
    {
     "name": "stdout",
     "output_type": "stream",
     "text": [
      "epoch:  0 loss:  1.5681312084197998\n",
      "tensor([3, 0, 4, 0, 0, 4, 2, 2, 3, 4, 2, 2, 3, 0, 2, 1, 3, 2, 2, 3, 1, 3, 3, 3,\n",
      "        4, 4, 1, 2, 1, 1, 1, 3], device='cuda:0')\n"
     ]
    },
    {
     "name": "stderr",
     "output_type": "stream",
     "text": [
      " 91%|█████████ | 10/11 [00:08<00:00,  1.14it/s]"
     ]
    },
    {
     "name": "stdout",
     "output_type": "stream",
     "text": [
      "epoch:  0 loss:  1.597650170326233\n",
      "tensor([4, 2, 4, 1, 3, 2], device='cuda:0')\n"
     ]
    },
    {
     "name": "stderr",
     "output_type": "stream",
     "text": [
      "100%|██████████| 11/11 [00:08<00:00,  1.28it/s]\n"
     ]
    },
    {
     "name": "stdout",
     "output_type": "stream",
     "text": [
      "epoch:  0 loss:  1.278067708015442\n"
     ]
    },
    {
     "name": "stderr",
     "output_type": "stream",
     "text": [
      "100%|██████████| 5/5 [00:01<00:00,  3.89it/s]\n",
      "/root/.local/lib/python3.7/site-packages/sklearn/metrics/_classification.py:1318: UndefinedMetricWarning: Precision and F-score are ill-defined and being set to 0.0 in labels with no predicted samples. Use `zero_division` parameter to control this behavior.\n",
      "  _warn_prf(average, modifier, msg_start, len(result))\n",
      "/root/.local/lib/python3.7/site-packages/sklearn/metrics/_classification.py:1318: UndefinedMetricWarning: Precision and F-score are ill-defined and being set to 0.0 in labels with no predicted samples. Use `zero_division` parameter to control this behavior.\n",
      "  _warn_prf(average, modifier, msg_start, len(result))\n",
      "/root/.local/lib/python3.7/site-packages/sklearn/metrics/_classification.py:1318: UndefinedMetricWarning: Precision and F-score are ill-defined and being set to 0.0 in labels with no predicted samples. Use `zero_division` parameter to control this behavior.\n",
      "  _warn_prf(average, modifier, msg_start, len(result))\n"
     ]
    },
    {
     "name": "stdout",
     "output_type": "stream",
     "text": [
      "              precision    recall  f1-score   support\n",
      "\n",
      "           0       0.00      0.00      0.00        17\n",
      "           1       0.00      0.00      0.00        23\n",
      "           2       0.48      0.37      0.42        30\n",
      "           3       0.32      0.75      0.44        40\n",
      "           4       0.43      0.30      0.35        30\n",
      "\n",
      "    accuracy                           0.36       140\n",
      "   macro avg       0.24      0.28      0.24       140\n",
      "weighted avg       0.28      0.36      0.29       140\n",
      "\n"
     ]
    },
    {
     "name": "stderr",
     "output_type": "stream",
     "text": [
      "  0%|          | 0/11 [00:00<?, ?it/s]"
     ]
    },
    {
     "name": "stdout",
     "output_type": "stream",
     "text": [
      "tensor([0, 0, 0, 3, 1, 2, 2, 1, 2, 3, 0, 4, 1, 3, 1, 3, 4, 2, 0, 3, 2, 4, 3, 0,\n",
      "        2, 3, 2, 1, 3, 4, 2, 1], device='cuda:0')\n"
     ]
    },
    {
     "name": "stderr",
     "output_type": "stream",
     "text": [
      "  9%|▉         | 1/11 [00:00<00:05,  1.69it/s]"
     ]
    },
    {
     "name": "stdout",
     "output_type": "stream",
     "text": [
      "epoch:  1 loss:  1.6452566385269165\n",
      "tensor([2, 4, 2, 0, 3, 2, 2, 1, 1, 2, 3, 4, 0, 3, 4, 2, 3, 1, 4, 2, 3, 3, 4, 2,\n",
      "        0, 2, 2, 2, 0, 0, 2, 4], device='cuda:0')\n"
     ]
    },
    {
     "name": "stderr",
     "output_type": "stream",
     "text": [
      " 18%|█▊        | 2/11 [00:01<00:05,  1.63it/s]"
     ]
    },
    {
     "name": "stdout",
     "output_type": "stream",
     "text": [
      "epoch:  1 loss:  1.47101891040802\n",
      "tensor([3, 1, 3, 2, 2, 3, 4, 2, 3, 2, 1, 1, 3, 2, 1, 2, 3, 4, 2, 1, 3, 2, 1, 2,\n",
      "        4, 3, 2, 3, 3, 2, 1, 4], device='cuda:0')\n"
     ]
    },
    {
     "name": "stderr",
     "output_type": "stream",
     "text": [
      " 27%|██▋       | 3/11 [00:02<00:05,  1.36it/s]"
     ]
    },
    {
     "name": "stdout",
     "output_type": "stream",
     "text": [
      "epoch:  1 loss:  1.550919771194458\n",
      "tensor([1, 3, 3, 4, 1, 1, 0, 4, 4, 0, 2, 1, 4, 3, 2, 3, 1, 3, 4, 1, 4, 2, 3, 1,\n",
      "        4, 3, 3, 4, 2, 2, 2, 1], device='cuda:0')\n"
     ]
    },
    {
     "name": "stderr",
     "output_type": "stream",
     "text": [
      " 36%|███▋      | 4/11 [00:02<00:05,  1.26it/s]"
     ]
    },
    {
     "name": "stdout",
     "output_type": "stream",
     "text": [
      "epoch:  1 loss:  1.6433032751083374\n",
      "tensor([3, 2, 3, 1, 0, 4, 1, 2, 1, 4, 2, 3, 3, 0, 3, 4, 0, 2, 2, 3, 2, 1, 0, 2,\n",
      "        4, 4, 4, 3, 1, 3, 1, 2], device='cuda:0')\n"
     ]
    },
    {
     "name": "stderr",
     "output_type": "stream",
     "text": [
      " 45%|████▌     | 5/11 [00:03<00:04,  1.27it/s]"
     ]
    },
    {
     "name": "stdout",
     "output_type": "stream",
     "text": [
      "epoch:  1 loss:  1.5182944536209106\n",
      "tensor([3, 4, 2, 4, 1, 2, 2, 2, 4, 2, 3, 3, 3, 2, 4, 3, 2, 0, 2, 2, 0, 0, 2, 3,\n",
      "        3, 1, 1, 0, 1, 4, 1, 4], device='cuda:0')\n"
     ]
    },
    {
     "name": "stderr",
     "output_type": "stream",
     "text": [
      " 55%|█████▍    | 6/11 [00:04<00:03,  1.30it/s]"
     ]
    },
    {
     "name": "stdout",
     "output_type": "stream",
     "text": [
      "epoch:  1 loss:  1.4211496114730835\n",
      "tensor([1, 3, 0, 4, 4, 4, 2, 4, 4, 4, 0, 4, 2, 2, 1, 0, 0, 3, 2, 1, 2, 3, 3, 1,\n",
      "        1, 3, 3, 4, 4, 4, 1, 2], device='cuda:0')\n"
     ]
    },
    {
     "name": "stderr",
     "output_type": "stream",
     "text": [
      " 64%|██████▎   | 7/11 [00:05<00:03,  1.30it/s]"
     ]
    },
    {
     "name": "stdout",
     "output_type": "stream",
     "text": [
      "epoch:  1 loss:  1.504536509513855\n",
      "tensor([4, 0, 2, 2, 2, 3, 1, 2, 3, 1, 3, 4, 2, 4, 3, 4, 2, 1, 1, 1, 3, 3, 2, 2,\n",
      "        4, 4, 1, 4, 4, 4, 1, 4], device='cuda:0')\n"
     ]
    },
    {
     "name": "stderr",
     "output_type": "stream",
     "text": [
      " 73%|███████▎  | 8/11 [00:06<00:02,  1.20it/s]"
     ]
    },
    {
     "name": "stdout",
     "output_type": "stream",
     "text": [
      "epoch:  1 loss:  1.5207475423812866\n",
      "tensor([3, 2, 2, 4, 1, 4, 1, 2, 3, 2, 0, 2, 3, 1, 0, 3, 3, 2, 4, 2, 4, 3, 2, 3,\n",
      "        2, 2, 0, 3, 2, 3, 0, 3], device='cuda:0')\n"
     ]
    },
    {
     "name": "stderr",
     "output_type": "stream",
     "text": [
      " 82%|████████▏ | 9/11 [00:06<00:01,  1.23it/s]"
     ]
    },
    {
     "name": "stdout",
     "output_type": "stream",
     "text": [
      "epoch:  1 loss:  1.4634615182876587\n",
      "tensor([2, 2, 1, 2, 4, 1, 2, 2, 2, 0, 3, 2, 2, 0, 4, 3, 2, 4, 4, 3, 4, 4, 3, 4,\n",
      "        3, 4, 4, 4, 4, 0, 1, 1], device='cuda:0')\n"
     ]
    },
    {
     "name": "stderr",
     "output_type": "stream",
     "text": [
      " 91%|█████████ | 10/11 [00:07<00:00,  1.27it/s]"
     ]
    },
    {
     "name": "stdout",
     "output_type": "stream",
     "text": [
      "epoch:  1 loss:  1.3924728631973267\n",
      "tensor([3, 3, 3, 0, 4, 3], device='cuda:0')\n"
     ]
    },
    {
     "name": "stderr",
     "output_type": "stream",
     "text": [
      "100%|██████████| 11/11 [00:08<00:00,  1.36it/s]\n"
     ]
    },
    {
     "name": "stdout",
     "output_type": "stream",
     "text": [
      "epoch:  1 loss:  1.5151160955429077\n"
     ]
    },
    {
     "name": "stderr",
     "output_type": "stream",
     "text": [
      "100%|██████████| 5/5 [00:01<00:00,  3.59it/s]\n",
      "/root/.local/lib/python3.7/site-packages/sklearn/metrics/_classification.py:1318: UndefinedMetricWarning: Precision and F-score are ill-defined and being set to 0.0 in labels with no predicted samples. Use `zero_division` parameter to control this behavior.\n",
      "  _warn_prf(average, modifier, msg_start, len(result))\n",
      "/root/.local/lib/python3.7/site-packages/sklearn/metrics/_classification.py:1318: UndefinedMetricWarning: Precision and F-score are ill-defined and being set to 0.0 in labels with no predicted samples. Use `zero_division` parameter to control this behavior.\n",
      "  _warn_prf(average, modifier, msg_start, len(result))\n",
      "/root/.local/lib/python3.7/site-packages/sklearn/metrics/_classification.py:1318: UndefinedMetricWarning: Precision and F-score are ill-defined and being set to 0.0 in labels with no predicted samples. Use `zero_division` parameter to control this behavior.\n",
      "  _warn_prf(average, modifier, msg_start, len(result))\n"
     ]
    },
    {
     "name": "stdout",
     "output_type": "stream",
     "text": [
      "              precision    recall  f1-score   support\n",
      "\n",
      "           0       0.00      0.00      0.00        17\n",
      "           1       0.44      0.17      0.25        23\n",
      "           2       0.25      0.13      0.17        30\n",
      "           3       0.25      0.40      0.31        40\n",
      "           4       0.27      0.47      0.35        30\n",
      "\n",
      "    accuracy                           0.27       140\n",
      "   macro avg       0.24      0.23      0.22       140\n",
      "weighted avg       0.26      0.27      0.24       140\n",
      "\n"
     ]
    },
    {
     "name": "stderr",
     "output_type": "stream",
     "text": [
      "  0%|          | 0/11 [00:00<?, ?it/s]"
     ]
    },
    {
     "name": "stdout",
     "output_type": "stream",
     "text": [
      "tensor([2, 2, 3, 2, 3, 2, 2, 1, 4, 3, 0, 4, 4, 1, 2, 2, 3, 1, 2, 1, 0, 2, 4, 2,\n",
      "        2, 3, 4, 2, 1, 0, 2, 1], device='cuda:0')\n"
     ]
    },
    {
     "name": "stderr",
     "output_type": "stream",
     "text": [
      "  9%|▉         | 1/11 [00:00<00:06,  1.64it/s]"
     ]
    },
    {
     "name": "stdout",
     "output_type": "stream",
     "text": [
      "epoch:  2 loss:  1.3892436027526855\n",
      "tensor([0, 1, 1, 4, 2, 1, 3, 4, 4, 2, 1, 3, 0, 2, 4, 3, 1, 2, 4, 2, 3, 0, 2, 3,\n",
      "        4, 2, 3, 2, 4, 4, 3, 3], device='cuda:0')\n"
     ]
    },
    {
     "name": "stderr",
     "output_type": "stream",
     "text": [
      " 18%|█▊        | 2/11 [00:01<00:05,  1.60it/s]"
     ]
    },
    {
     "name": "stdout",
     "output_type": "stream",
     "text": [
      "epoch:  2 loss:  1.2646783590316772\n",
      "tensor([3, 3, 2, 2, 2, 4, 1, 3, 3, 1, 0, 2, 3, 1, 1, 3, 3, 3, 1, 1, 4, 2, 2, 2,\n",
      "        2, 0, 2, 3, 4, 2, 2, 3], device='cuda:0')\n"
     ]
    },
    {
     "name": "stderr",
     "output_type": "stream",
     "text": [
      " 27%|██▋       | 3/11 [00:02<00:05,  1.45it/s]"
     ]
    },
    {
     "name": "stdout",
     "output_type": "stream",
     "text": [
      "epoch:  2 loss:  1.3367840051651\n",
      "tensor([3, 1, 4, 4, 2, 1, 3, 4, 3, 2, 3, 3, 1, 4, 3, 2, 4, 4, 3, 0, 4, 1, 2, 0,\n",
      "        0, 3, 0, 2, 4, 2, 4, 2], device='cuda:0')\n"
     ]
    },
    {
     "name": "stderr",
     "output_type": "stream",
     "text": [
      " 36%|███▋      | 4/11 [00:02<00:05,  1.30it/s]"
     ]
    },
    {
     "name": "stdout",
     "output_type": "stream",
     "text": [
      "epoch:  2 loss:  1.3593592643737793\n",
      "tensor([3, 0, 0, 2, 0, 2, 3, 3, 3, 1, 4, 4, 2, 2, 4, 2, 4, 3, 3, 2, 2, 4, 1, 3,\n",
      "        1, 3, 2, 3, 4, 1, 3, 0], device='cuda:0')\n"
     ]
    },
    {
     "name": "stderr",
     "output_type": "stream",
     "text": [
      " 45%|████▌     | 5/11 [00:03<00:04,  1.26it/s]"
     ]
    },
    {
     "name": "stdout",
     "output_type": "stream",
     "text": [
      "epoch:  2 loss:  1.2035294771194458\n",
      "tensor([3, 3, 1, 1, 3, 0, 1, 4, 3, 4, 0, 2, 1, 2, 1, 4, 3, 0, 3, 3, 1, 3, 2, 1,\n",
      "        4, 4, 0, 2, 4, 0, 1, 2], device='cuda:0')\n"
     ]
    },
    {
     "name": "stderr",
     "output_type": "stream",
     "text": [
      " 55%|█████▍    | 6/11 [00:04<00:03,  1.27it/s]"
     ]
    },
    {
     "name": "stdout",
     "output_type": "stream",
     "text": [
      "epoch:  2 loss:  1.2512143850326538\n",
      "tensor([1, 1, 0, 4, 2, 4, 3, 1, 1, 1, 3, 2, 2, 2, 4, 4, 3, 2, 4, 2, 0, 2, 3, 0,\n",
      "        4, 0, 4, 1, 4, 2, 3, 0], device='cuda:0')\n"
     ]
    },
    {
     "name": "stderr",
     "output_type": "stream",
     "text": [
      " 64%|██████▎   | 7/11 [00:05<00:03,  1.23it/s]"
     ]
    },
    {
     "name": "stdout",
     "output_type": "stream",
     "text": [
      "epoch:  2 loss:  1.2850522994995117\n",
      "tensor([3, 3, 4, 0, 2, 3, 3, 3, 2, 4, 2, 1, 3, 2, 3, 3, 1, 4, 2, 0, 1, 2, 1, 3,\n",
      "        0, 3, 2, 2, 0, 3, 2, 4], device='cuda:0')\n"
     ]
    },
    {
     "name": "stderr",
     "output_type": "stream",
     "text": [
      " 73%|███████▎  | 8/11 [00:06<00:02,  1.26it/s]"
     ]
    },
    {
     "name": "stdout",
     "output_type": "stream",
     "text": [
      "epoch:  2 loss:  1.163034439086914\n",
      "tensor([4, 1, 4, 3, 1, 2, 4, 0, 0, 3, 1, 4, 4, 2, 4, 2, 4, 4, 4, 4, 4, 4, 2, 3,\n",
      "        2, 2, 2, 4, 2, 3, 2, 0], device='cuda:0')\n"
     ]
    },
    {
     "name": "stderr",
     "output_type": "stream",
     "text": [
      " 82%|████████▏ | 9/11 [00:06<00:01,  1.28it/s]"
     ]
    },
    {
     "name": "stdout",
     "output_type": "stream",
     "text": [
      "epoch:  2 loss:  1.1486557722091675\n",
      "tensor([1, 4, 1, 3, 3, 1, 4, 2, 2, 3, 3, 4, 4, 0, 3, 2, 1, 3, 4, 4, 1, 4, 2, 2,\n",
      "        3, 2, 1, 1, 3, 4, 1, 2], device='cuda:0')\n"
     ]
    },
    {
     "name": "stderr",
     "output_type": "stream",
     "text": [
      " 91%|█████████ | 10/11 [00:07<00:00,  1.23it/s]"
     ]
    },
    {
     "name": "stdout",
     "output_type": "stream",
     "text": [
      "epoch:  2 loss:  1.203857183456421\n",
      "tensor([2, 1, 2, 2, 2, 3], device='cuda:0')\n"
     ]
    },
    {
     "name": "stderr",
     "output_type": "stream",
     "text": [
      "100%|██████████| 11/11 [00:08<00:00,  1.35it/s]\n"
     ]
    },
    {
     "name": "stdout",
     "output_type": "stream",
     "text": [
      "epoch:  2 loss:  0.9669663906097412\n"
     ]
    },
    {
     "name": "stderr",
     "output_type": "stream",
     "text": [
      "100%|██████████| 5/5 [00:01<00:00,  3.98it/s]\n"
     ]
    },
    {
     "name": "stdout",
     "output_type": "stream",
     "text": [
      "              precision    recall  f1-score   support\n",
      "\n",
      "           0       0.67      0.12      0.20        17\n",
      "           1       1.00      0.13      0.23        23\n",
      "           2       0.30      0.97      0.46        30\n",
      "           3       0.38      0.12      0.19        40\n",
      "           4       0.44      0.37      0.40        30\n",
      "\n",
      "    accuracy                           0.36       140\n",
      "   macro avg       0.56      0.34      0.30       140\n",
      "weighted avg       0.51      0.36      0.30       140\n",
      "\n"
     ]
    },
    {
     "name": "stderr",
     "output_type": "stream",
     "text": [
      "  0%|          | 0/11 [00:00<?, ?it/s]"
     ]
    },
    {
     "name": "stdout",
     "output_type": "stream",
     "text": [
      "tensor([2, 2, 2, 2, 3, 3, 2, 4, 4, 1, 4, 4, 4, 3, 1, 3, 4, 3, 2, 3, 0, 1, 2, 0,\n",
      "        4, 2, 4, 2, 3, 0, 3, 4], device='cuda:0')\n"
     ]
    },
    {
     "name": "stderr",
     "output_type": "stream",
     "text": [
      "  9%|▉         | 1/11 [00:00<00:05,  1.68it/s]"
     ]
    },
    {
     "name": "stdout",
     "output_type": "stream",
     "text": [
      "epoch:  3 loss:  0.94598788022995\n",
      "tensor([2, 1, 2, 4, 3, 3, 2, 4, 4, 4, 2, 2, 2, 1, 3, 3, 1, 2, 2, 3, 1, 3, 2, 0,\n",
      "        4, 3, 2, 4, 2, 0, 3, 2], device='cuda:0')\n"
     ]
    },
    {
     "name": "stderr",
     "output_type": "stream",
     "text": [
      " 18%|█▊        | 2/11 [00:01<00:05,  1.60it/s]"
     ]
    },
    {
     "name": "stdout",
     "output_type": "stream",
     "text": [
      "epoch:  3 loss:  0.7953845262527466\n",
      "tensor([3, 2, 4, 3, 3, 2, 3, 3, 4, 2, 2, 2, 3, 3, 2, 2, 0, 1, 3, 3, 4, 4, 0, 2,\n",
      "        0, 1, 2, 0, 0, 3, 4, 3], device='cuda:0')\n"
     ]
    },
    {
     "name": "stderr",
     "output_type": "stream",
     "text": [
      " 27%|██▋       | 3/11 [00:02<00:05,  1.37it/s]"
     ]
    },
    {
     "name": "stdout",
     "output_type": "stream",
     "text": [
      "epoch:  3 loss:  0.8355575203895569\n",
      "tensor([1, 2, 2, 2, 3, 1, 3, 4, 2, 2, 2, 3, 2, 2, 4, 2, 4, 2, 1, 2, 1, 2, 3, 4,\n",
      "        3, 3, 4, 0, 1, 1, 1, 1], device='cuda:0')\n"
     ]
    },
    {
     "name": "stderr",
     "output_type": "stream",
     "text": [
      " 36%|███▋      | 4/11 [00:02<00:05,  1.27it/s]"
     ]
    },
    {
     "name": "stdout",
     "output_type": "stream",
     "text": [
      "epoch:  3 loss:  0.831500232219696\n",
      "tensor([1, 1, 4, 4, 3, 0, 0, 3, 1, 1, 2, 4, 2, 0, 0, 3, 0, 0, 4, 2, 2, 0, 2, 1,\n",
      "        4, 4, 2, 2, 2, 2, 3, 3], device='cuda:0')\n"
     ]
    },
    {
     "name": "stderr",
     "output_type": "stream",
     "text": [
      " 45%|████▌     | 5/11 [00:03<00:04,  1.29it/s]"
     ]
    },
    {
     "name": "stdout",
     "output_type": "stream",
     "text": [
      "epoch:  3 loss:  0.8161143064498901\n",
      "tensor([3, 1, 1, 3, 1, 3, 3, 4, 3, 2, 3, 1, 4, 2, 3, 2, 1, 2, 4, 2, 1, 3, 1, 2,\n",
      "        3, 4, 1, 2, 1, 3, 4, 3], device='cuda:0')\n"
     ]
    },
    {
     "name": "stderr",
     "output_type": "stream",
     "text": [
      " 55%|█████▍    | 6/11 [00:04<00:04,  1.24it/s]"
     ]
    },
    {
     "name": "stdout",
     "output_type": "stream",
     "text": [
      "epoch:  3 loss:  0.8235730528831482\n",
      "tensor([0, 4, 2, 3, 1, 1, 2, 0, 1, 2, 0, 4, 3, 2, 4, 3, 3, 3, 4, 2, 1, 1, 1, 0,\n",
      "        2, 0, 4, 1, 4, 4, 1, 4], device='cuda:0')\n"
     ]
    },
    {
     "name": "stderr",
     "output_type": "stream",
     "text": [
      " 64%|██████▎   | 7/11 [00:05<00:03,  1.25it/s]"
     ]
    },
    {
     "name": "stdout",
     "output_type": "stream",
     "text": [
      "epoch:  3 loss:  1.000657558441162\n",
      "tensor([4, 4, 0, 0, 1, 4, 3, 1, 4, 0, 2, 3, 4, 1, 2, 2, 1, 2, 2, 2, 3, 0, 4, 3,\n",
      "        3, 3, 1, 4, 0, 3, 3, 2], device='cuda:0')\n"
     ]
    },
    {
     "name": "stderr",
     "output_type": "stream",
     "text": [
      " 73%|███████▎  | 8/11 [00:06<00:02,  1.23it/s]"
     ]
    },
    {
     "name": "stdout",
     "output_type": "stream",
     "text": [
      "epoch:  3 loss:  0.7627633213996887\n",
      "tensor([1, 3, 2, 4, 4, 4, 4, 2, 2, 1, 3, 4, 2, 1, 3, 3, 3, 3, 2, 4, 0, 1, 1, 2,\n",
      "        4, 0, 2, 0, 1, 0, 4, 2], device='cuda:0')\n"
     ]
    },
    {
     "name": "stderr",
     "output_type": "stream",
     "text": [
      " 82%|████████▏ | 9/11 [00:06<00:01,  1.25it/s]"
     ]
    },
    {
     "name": "stdout",
     "output_type": "stream",
     "text": [
      "epoch:  3 loss:  0.8421412706375122\n",
      "tensor([4, 2, 4, 4, 2, 2, 4, 2, 2, 2, 3, 3, 4, 3, 0, 4, 4, 3, 1, 2, 3, 1, 3, 4,\n",
      "        1, 3, 1, 2, 3, 3, 4, 3], device='cuda:0')\n"
     ]
    },
    {
     "name": "stderr",
     "output_type": "stream",
     "text": [
      " 91%|█████████ | 10/11 [00:07<00:00,  1.22it/s]"
     ]
    },
    {
     "name": "stdout",
     "output_type": "stream",
     "text": [
      "epoch:  3 loss:  0.7041587233543396\n",
      "tensor([0, 4, 4, 1, 2, 2], device='cuda:0')\n"
     ]
    },
    {
     "name": "stderr",
     "output_type": "stream",
     "text": [
      "100%|██████████| 11/11 [00:08<00:00,  1.34it/s]\n"
     ]
    },
    {
     "name": "stdout",
     "output_type": "stream",
     "text": [
      "epoch:  3 loss:  0.9436371922492981\n"
     ]
    },
    {
     "name": "stderr",
     "output_type": "stream",
     "text": [
      "100%|██████████| 5/5 [00:01<00:00,  4.03it/s]\n",
      "/root/.local/lib/python3.7/site-packages/sklearn/metrics/_classification.py:1318: UndefinedMetricWarning: Precision and F-score are ill-defined and being set to 0.0 in labels with no predicted samples. Use `zero_division` parameter to control this behavior.\n",
      "  _warn_prf(average, modifier, msg_start, len(result))\n",
      "/root/.local/lib/python3.7/site-packages/sklearn/metrics/_classification.py:1318: UndefinedMetricWarning: Precision and F-score are ill-defined and being set to 0.0 in labels with no predicted samples. Use `zero_division` parameter to control this behavior.\n",
      "  _warn_prf(average, modifier, msg_start, len(result))\n",
      "/root/.local/lib/python3.7/site-packages/sklearn/metrics/_classification.py:1318: UndefinedMetricWarning: Precision and F-score are ill-defined and being set to 0.0 in labels with no predicted samples. Use `zero_division` parameter to control this behavior.\n",
      "  _warn_prf(average, modifier, msg_start, len(result))\n"
     ]
    },
    {
     "name": "stdout",
     "output_type": "stream",
     "text": [
      "              precision    recall  f1-score   support\n",
      "\n",
      "           0       0.00      0.00      0.00        17\n",
      "           1       0.43      0.26      0.32        23\n",
      "           2       0.31      0.90      0.46        30\n",
      "           3       0.47      0.20      0.28        40\n",
      "           4       0.41      0.30      0.35        30\n",
      "\n",
      "    accuracy                           0.36       140\n",
      "   macro avg       0.32      0.33      0.28       140\n",
      "weighted avg       0.36      0.36      0.31       140\n",
      "\n"
     ]
    },
    {
     "name": "stderr",
     "output_type": "stream",
     "text": [
      "  0%|          | 0/11 [00:00<?, ?it/s]"
     ]
    },
    {
     "name": "stdout",
     "output_type": "stream",
     "text": [
      "tensor([2, 3, 0, 4, 1, 2, 1, 1, 3, 2, 2, 4, 3, 2, 2, 2, 0, 2, 1, 1, 4, 4, 2, 1,\n",
      "        4, 2, 1, 2, 2, 3, 2, 1], device='cuda:0')\n"
     ]
    },
    {
     "name": "stderr",
     "output_type": "stream",
     "text": [
      "  9%|▉         | 1/11 [00:00<00:04,  2.01it/s]"
     ]
    },
    {
     "name": "stdout",
     "output_type": "stream",
     "text": [
      "epoch:  4 loss:  0.6278772354125977\n",
      "tensor([1, 4, 3, 2, 1, 4, 3, 1, 1, 4, 0, 1, 2, 3, 3, 2, 3, 4, 0, 1, 3, 2, 1, 2,\n",
      "        0, 4, 0, 2, 2, 4, 3, 2], device='cuda:0')\n"
     ]
    },
    {
     "name": "stderr",
     "output_type": "stream",
     "text": [
      " 18%|█▊        | 2/11 [00:01<00:05,  1.74it/s]"
     ]
    },
    {
     "name": "stdout",
     "output_type": "stream",
     "text": [
      "epoch:  4 loss:  0.5655576586723328\n",
      "tensor([0, 4, 4, 1, 1, 3, 2, 3, 1, 3, 1, 2, 2, 2, 3, 4, 1, 4, 0, 4, 2, 2, 1, 1,\n",
      "        1, 2, 4, 2, 3, 0, 3, 3], device='cuda:0')\n"
     ]
    },
    {
     "name": "stderr",
     "output_type": "stream",
     "text": [
      " 27%|██▋       | 3/11 [00:01<00:05,  1.41it/s]"
     ]
    },
    {
     "name": "stdout",
     "output_type": "stream",
     "text": [
      "epoch:  4 loss:  0.4544612467288971\n",
      "tensor([2, 2, 3, 0, 3, 2, 2, 2, 1, 3, 3, 1, 2, 3, 4, 2, 4, 4, 2, 2, 2, 3, 1, 0,\n",
      "        0, 4, 4, 3, 3, 0, 2, 4], device='cuda:0')\n"
     ]
    },
    {
     "name": "stderr",
     "output_type": "stream",
     "text": [
      " 36%|███▋      | 4/11 [00:02<00:05,  1.29it/s]"
     ]
    },
    {
     "name": "stdout",
     "output_type": "stream",
     "text": [
      "epoch:  4 loss:  0.5075749158859253\n",
      "tensor([2, 3, 3, 1, 2, 3, 2, 0, 4, 4, 4, 0, 3, 0, 0, 3, 4, 4, 1, 1, 3, 4, 1, 2,\n",
      "        2, 2, 3, 0, 0, 1, 2, 4], device='cuda:0')\n"
     ]
    },
    {
     "name": "stderr",
     "output_type": "stream",
     "text": [
      " 45%|████▌     | 5/11 [00:03<00:04,  1.23it/s]"
     ]
    },
    {
     "name": "stdout",
     "output_type": "stream",
     "text": [
      "epoch:  4 loss:  0.673913300037384\n",
      "tensor([3, 2, 4, 2, 0, 2, 4, 4, 0, 2, 4, 1, 3, 2, 3, 2, 4, 4, 3, 4, 4, 2, 3, 2,\n",
      "        4, 0, 2, 3, 3, 0, 3, 1], device='cuda:0')\n"
     ]
    },
    {
     "name": "stderr",
     "output_type": "stream",
     "text": [
      " 55%|█████▍    | 6/11 [00:04<00:04,  1.20it/s]"
     ]
    },
    {
     "name": "stdout",
     "output_type": "stream",
     "text": [
      "epoch:  4 loss:  0.6255579590797424\n",
      "tensor([4, 2, 4, 4, 3, 3, 3, 4, 2, 3, 4, 3, 0, 4, 0, 4, 3, 2, 2, 3, 4, 0, 3, 0,\n",
      "        4, 3, 1, 3, 2, 0, 2, 2], device='cuda:0')\n"
     ]
    },
    {
     "name": "stderr",
     "output_type": "stream",
     "text": [
      " 64%|██████▎   | 7/11 [00:05<00:03,  1.18it/s]"
     ]
    },
    {
     "name": "stdout",
     "output_type": "stream",
     "text": [
      "epoch:  4 loss:  0.42625871300697327\n",
      "tensor([4, 4, 2, 0, 2, 1, 4, 3, 4, 2, 3, 0, 3, 4, 2, 2, 1, 1, 4, 4, 2, 3, 1, 3,\n",
      "        4, 1, 4, 2, 3, 3, 1, 3], device='cuda:0')\n"
     ]
    },
    {
     "name": "stderr",
     "output_type": "stream",
     "text": [
      " 73%|███████▎  | 8/11 [00:06<00:02,  1.21it/s]"
     ]
    },
    {
     "name": "stdout",
     "output_type": "stream",
     "text": [
      "epoch:  4 loss:  0.5042048096656799\n",
      "tensor([3, 2, 2, 3, 1, 1, 3, 2, 3, 2, 3, 4, 3, 2, 1, 2, 0, 4, 2, 0, 2, 2, 3, 0,\n",
      "        3, 3, 1, 1, 4, 3, 4, 1], device='cuda:0')\n"
     ]
    },
    {
     "name": "stderr",
     "output_type": "stream",
     "text": [
      " 82%|████████▏ | 9/11 [00:07<00:01,  1.18it/s]"
     ]
    },
    {
     "name": "stdout",
     "output_type": "stream",
     "text": [
      "epoch:  4 loss:  0.5337257981300354\n",
      "tensor([3, 2, 2, 4, 3, 2, 4, 0, 3, 4, 1, 3, 3, 2, 3, 1, 4, 3, 2, 4, 1, 4, 4, 2,\n",
      "        1, 1, 4, 4, 3, 2, 2, 3], device='cuda:0')\n"
     ]
    },
    {
     "name": "stderr",
     "output_type": "stream",
     "text": [
      " 91%|█████████ | 10/11 [00:07<00:00,  1.22it/s]"
     ]
    },
    {
     "name": "stdout",
     "output_type": "stream",
     "text": [
      "epoch:  4 loss:  0.4681510925292969\n",
      "tensor([1, 2, 2, 1, 1, 1], device='cuda:0')\n"
     ]
    },
    {
     "name": "stderr",
     "output_type": "stream",
     "text": [
      "100%|██████████| 11/11 [00:08<00:00,  1.32it/s]\n"
     ]
    },
    {
     "name": "stdout",
     "output_type": "stream",
     "text": [
      "epoch:  4 loss:  0.9668617248535156\n"
     ]
    },
    {
     "name": "stderr",
     "output_type": "stream",
     "text": [
      "100%|██████████| 5/5 [00:01<00:00,  3.63it/s]\n"
     ]
    },
    {
     "name": "stdout",
     "output_type": "stream",
     "text": [
      "              precision    recall  f1-score   support\n",
      "\n",
      "           0       0.40      0.12      0.18        17\n",
      "           1       0.44      0.48      0.46        23\n",
      "           2       0.40      0.70      0.51        30\n",
      "           3       0.49      0.57      0.53        40\n",
      "           4       0.50      0.17      0.25        30\n",
      "\n",
      "    accuracy                           0.44       140\n",
      "   macro avg       0.45      0.41      0.38       140\n",
      "weighted avg       0.45      0.44      0.41       140\n",
      "\n"
     ]
    },
    {
     "name": "stderr",
     "output_type": "stream",
     "text": [
      "  0%|          | 0/11 [00:00<?, ?it/s]"
     ]
    },
    {
     "name": "stdout",
     "output_type": "stream",
     "text": [
      "tensor([4, 3, 1, 2, 3, 3, 2, 2, 3, 3, 4, 2, 3, 2, 4, 3, 4, 2, 1, 4, 1, 4, 4, 3,\n",
      "        1, 1, 0, 3, 3, 3, 1, 2], device='cuda:0')\n"
     ]
    },
    {
     "name": "stderr",
     "output_type": "stream",
     "text": [
      "  9%|▉         | 1/11 [00:00<00:06,  1.63it/s]"
     ]
    },
    {
     "name": "stdout",
     "output_type": "stream",
     "text": [
      "epoch:  5 loss:  0.31042972207069397\n",
      "tensor([1, 2, 3, 4, 2, 4, 2, 4, 0, 3, 1, 4, 4, 0, 1, 2, 1, 2, 1, 3, 3, 2, 2, 3,\n",
      "        1, 1, 2, 4, 1, 0, 2, 4], device='cuda:0')\n"
     ]
    },
    {
     "name": "stderr",
     "output_type": "stream",
     "text": [
      " 18%|█▊        | 2/11 [00:01<00:06,  1.45it/s]"
     ]
    },
    {
     "name": "stdout",
     "output_type": "stream",
     "text": [
      "epoch:  5 loss:  0.362885445356369\n",
      "tensor([2, 3, 0, 3, 1, 3, 3, 2, 1, 1, 2, 3, 0, 0, 4, 4, 0, 1, 3, 4, 1, 2, 0, 1,\n",
      "        1, 2, 4, 3, 2, 4, 4, 1], device='cuda:0')\n"
     ]
    },
    {
     "name": "stderr",
     "output_type": "stream",
     "text": [
      " 27%|██▋       | 3/11 [00:02<00:05,  1.37it/s]"
     ]
    },
    {
     "name": "stdout",
     "output_type": "stream",
     "text": [
      "epoch:  5 loss:  0.4219624102115631\n",
      "tensor([3, 3, 4, 2, 3, 2, 3, 0, 4, 2, 3, 2, 3, 0, 0, 1, 0, 3, 2, 2, 2, 1, 2, 0,\n",
      "        2, 2, 1, 4, 0, 2, 2, 1], device='cuda:0')\n"
     ]
    },
    {
     "name": "stderr",
     "output_type": "stream",
     "text": [
      " 36%|███▋      | 4/11 [00:03<00:05,  1.27it/s]"
     ]
    },
    {
     "name": "stdout",
     "output_type": "stream",
     "text": [
      "epoch:  5 loss:  0.5436050295829773\n",
      "tensor([3, 3, 3, 2, 1, 2, 2, 4, 1, 2, 4, 2, 3, 4, 3, 4, 2, 2, 1, 2, 2, 4, 4, 3,\n",
      "        3, 2, 4, 2, 1, 4, 2, 2], device='cuda:0')\n"
     ]
    },
    {
     "name": "stderr",
     "output_type": "stream",
     "text": [
      " 45%|████▌     | 5/11 [00:03<00:04,  1.29it/s]"
     ]
    },
    {
     "name": "stdout",
     "output_type": "stream",
     "text": [
      "epoch:  5 loss:  0.32716721296310425\n",
      "tensor([0, 1, 3, 4, 4, 4, 4, 4, 4, 2, 4, 2, 3, 1, 4, 3, 2, 2, 0, 3, 1, 3, 3, 2,\n",
      "        3, 1, 1, 3, 3, 0, 3, 1], device='cuda:0')\n"
     ]
    },
    {
     "name": "stderr",
     "output_type": "stream",
     "text": [
      " 55%|█████▍    | 6/11 [00:04<00:04,  1.23it/s]"
     ]
    },
    {
     "name": "stdout",
     "output_type": "stream",
     "text": [
      "epoch:  5 loss:  0.25545069575309753\n",
      "tensor([2, 2, 2, 3, 2, 2, 3, 0, 2, 2, 2, 4, 2, 2, 4, 1, 2, 2, 3, 4, 1, 1, 2, 1,\n",
      "        1, 1, 2, 3, 2, 4, 4, 0], device='cuda:0')\n"
     ]
    },
    {
     "name": "stderr",
     "output_type": "stream",
     "text": [
      " 64%|██████▎   | 7/11 [00:05<00:03,  1.20it/s]"
     ]
    },
    {
     "name": "stdout",
     "output_type": "stream",
     "text": [
      "epoch:  5 loss:  0.17163003981113434\n",
      "tensor([3, 0, 0, 4, 3, 4, 3, 3, 2, 1, 4, 2, 4, 4, 1, 2, 2, 4, 4, 3, 4, 4, 3, 2,\n",
      "        4, 0, 0, 2, 2, 4, 0, 0], device='cuda:0')\n"
     ]
    },
    {
     "name": "stderr",
     "output_type": "stream",
     "text": [
      " 73%|███████▎  | 8/11 [00:06<00:02,  1.23it/s]"
     ]
    },
    {
     "name": "stdout",
     "output_type": "stream",
     "text": [
      "epoch:  5 loss:  0.35536855459213257\n",
      "tensor([0, 1, 2, 3, 2, 3, 2, 4, 1, 3, 1, 3, 4, 0, 1, 3, 3, 0, 1, 3, 0, 3, 3, 3,\n",
      "        4, 2, 4, 0, 4, 3, 2, 4], device='cuda:0')\n"
     ]
    },
    {
     "name": "stderr",
     "output_type": "stream",
     "text": [
      " 82%|████████▏ | 9/11 [00:07<00:01,  1.21it/s]"
     ]
    },
    {
     "name": "stdout",
     "output_type": "stream",
     "text": [
      "epoch:  5 loss:  0.3184170424938202\n",
      "tensor([1, 3, 2, 3, 1, 1, 3, 2, 1, 1, 4, 0, 2, 4, 4, 3, 3, 4, 0, 2, 4, 2, 4, 4,\n",
      "        3, 0, 3, 2, 4, 2, 3, 1], device='cuda:0')\n"
     ]
    },
    {
     "name": "stderr",
     "output_type": "stream",
     "text": [
      " 91%|█████████ | 10/11 [00:07<00:00,  1.24it/s]"
     ]
    },
    {
     "name": "stdout",
     "output_type": "stream",
     "text": [
      "epoch:  5 loss:  0.3122996687889099\n",
      "tensor([2, 2, 4, 3, 3, 2], device='cuda:0')\n"
     ]
    },
    {
     "name": "stderr",
     "output_type": "stream",
     "text": [
      "100%|██████████| 11/11 [00:08<00:00,  1.33it/s]\n"
     ]
    },
    {
     "name": "stdout",
     "output_type": "stream",
     "text": [
      "epoch:  5 loss:  0.14402087032794952\n"
     ]
    },
    {
     "name": "stderr",
     "output_type": "stream",
     "text": [
      "100%|██████████| 5/5 [00:01<00:00,  3.98it/s]\n"
     ]
    },
    {
     "name": "stdout",
     "output_type": "stream",
     "text": [
      "              precision    recall  f1-score   support\n",
      "\n",
      "           0       0.38      0.35      0.36        17\n",
      "           1       0.40      0.17      0.24        23\n",
      "           2       0.33      0.87      0.48        30\n",
      "           3       0.55      0.45      0.49        40\n",
      "           4       0.50      0.03      0.06        30\n",
      "\n",
      "    accuracy                           0.39       140\n",
      "   macro avg       0.43      0.38      0.33       140\n",
      "weighted avg       0.44      0.39      0.34       140\n",
      "\n"
     ]
    },
    {
     "name": "stderr",
     "output_type": "stream",
     "text": [
      "  0%|          | 0/11 [00:00<?, ?it/s]"
     ]
    },
    {
     "name": "stdout",
     "output_type": "stream",
     "text": [
      "tensor([1, 1, 1, 4, 2, 2, 4, 2, 1, 4, 4, 2, 4, 4, 4, 2, 4, 0, 3, 2, 2, 3, 2, 2,\n",
      "        4, 2, 3, 3, 3, 4, 2, 4], device='cuda:0')\n"
     ]
    },
    {
     "name": "stderr",
     "output_type": "stream",
     "text": [
      "  9%|▉         | 1/11 [00:00<00:06,  1.66it/s]"
     ]
    },
    {
     "name": "stdout",
     "output_type": "stream",
     "text": [
      "epoch:  6 loss:  0.18459804356098175\n",
      "tensor([1, 3, 2, 2, 2, 1, 2, 3, 1, 4, 1, 0, 1, 1, 0, 2, 2, 2, 3, 4, 4, 3, 3, 0,\n",
      "        3, 4, 1, 2, 1, 1, 0, 2], device='cuda:0')\n"
     ]
    },
    {
     "name": "stderr",
     "output_type": "stream",
     "text": [
      " 18%|█▊        | 2/11 [00:01<00:06,  1.48it/s]"
     ]
    },
    {
     "name": "stdout",
     "output_type": "stream",
     "text": [
      "epoch:  6 loss:  0.25973454117774963\n",
      "tensor([0, 3, 1, 2, 2, 2, 4, 4, 2, 3, 0, 3, 3, 3, 0, 2, 3, 1, 1, 4, 2, 4, 0, 1,\n",
      "        1, 0, 0, 4, 1, 4, 2, 4], device='cuda:0')\n"
     ]
    },
    {
     "name": "stderr",
     "output_type": "stream",
     "text": [
      " 27%|██▋       | 3/11 [00:02<00:05,  1.39it/s]"
     ]
    },
    {
     "name": "stdout",
     "output_type": "stream",
     "text": [
      "epoch:  6 loss:  0.21092170476913452\n",
      "tensor([3, 1, 3, 4, 1, 2, 3, 3, 0, 2, 4, 2, 1, 0, 3, 1, 3, 3, 0, 1, 2, 4, 2, 2,\n",
      "        3, 0, 0, 3, 1, 3, 3, 1], device='cuda:0')\n"
     ]
    },
    {
     "name": "stderr",
     "output_type": "stream",
     "text": [
      " 36%|███▋      | 4/11 [00:02<00:05,  1.29it/s]"
     ]
    },
    {
     "name": "stdout",
     "output_type": "stream",
     "text": [
      "epoch:  6 loss:  0.17691676318645477\n",
      "tensor([4, 3, 1, 2, 3, 4, 4, 3, 2, 3, 2, 3, 2, 1, 0, 4, 2, 1, 1, 0, 1, 2, 2, 3,\n",
      "        2, 2, 3, 3, 3, 4, 1, 2], device='cuda:0')\n"
     ]
    },
    {
     "name": "stderr",
     "output_type": "stream",
     "text": [
      " 45%|████▌     | 5/11 [00:03<00:04,  1.24it/s]"
     ]
    },
    {
     "name": "stdout",
     "output_type": "stream",
     "text": [
      "epoch:  6 loss:  0.12007638067007065\n",
      "tensor([3, 3, 2, 0, 4, 3, 4, 4, 0, 3, 3, 0, 2, 2, 1, 0, 4, 3, 1, 1, 3, 1, 3, 3,\n",
      "        0, 2, 4, 2, 1, 2, 3, 3], device='cuda:0')\n"
     ]
    },
    {
     "name": "stderr",
     "output_type": "stream",
     "text": [
      " 55%|█████▍    | 6/11 [00:04<00:03,  1.26it/s]"
     ]
    },
    {
     "name": "stdout",
     "output_type": "stream",
     "text": [
      "epoch:  6 loss:  0.09640800207853317\n",
      "tensor([0, 2, 2, 4, 4, 0, 0, 3, 2, 3, 3, 3, 4, 1, 4, 4, 2, 4, 3, 4, 2, 2, 4, 3,\n",
      "        1, 4, 2, 4, 1, 3, 2, 1], device='cuda:0')\n"
     ]
    },
    {
     "name": "stderr",
     "output_type": "stream",
     "text": [
      " 64%|██████▎   | 7/11 [00:05<00:03,  1.28it/s]"
     ]
    },
    {
     "name": "stdout",
     "output_type": "stream",
     "text": [
      "epoch:  6 loss:  0.16319088637828827\n",
      "tensor([2, 2, 1, 4, 0, 1, 0, 2, 3, 4, 3, 2, 3, 1, 3, 0, 2, 4, 4, 2, 1, 2, 3, 1,\n",
      "        4, 2, 2, 2, 2, 4, 1, 4], device='cuda:0')\n"
     ]
    },
    {
     "name": "stderr",
     "output_type": "stream",
     "text": [
      " 73%|███████▎  | 8/11 [00:06<00:02,  1.24it/s]"
     ]
    },
    {
     "name": "stdout",
     "output_type": "stream",
     "text": [
      "epoch:  6 loss:  0.16833148896694183\n",
      "tensor([0, 1, 2, 2, 2, 4, 3, 4, 4, 2, 4, 1, 2, 0, 4, 3, 3, 2, 4, 2, 4, 4, 3, 2,\n",
      "        1, 0, 2, 2, 3, 3, 1, 2], device='cuda:0')\n"
     ]
    },
    {
     "name": "stderr",
     "output_type": "stream",
     "text": [
      " 82%|████████▏ | 9/11 [00:07<00:01,  1.21it/s]"
     ]
    },
    {
     "name": "stdout",
     "output_type": "stream",
     "text": [
      "epoch:  6 loss:  0.07632781565189362\n",
      "tensor([4, 4, 3, 2, 4, 3, 4, 4, 1, 4, 0, 4, 3, 3, 2, 0, 4, 2, 2, 4, 3, 3, 2, 2,\n",
      "        1, 2, 2, 1, 3, 2, 1, 3], device='cuda:0')\n"
     ]
    },
    {
     "name": "stderr",
     "output_type": "stream",
     "text": [
      " 91%|█████████ | 10/11 [00:07<00:00,  1.19it/s]"
     ]
    },
    {
     "name": "stdout",
     "output_type": "stream",
     "text": [
      "epoch:  6 loss:  0.07293114066123962\n",
      "tensor([3, 3, 4, 3, 3, 2], device='cuda:0')\n"
     ]
    },
    {
     "name": "stderr",
     "output_type": "stream",
     "text": [
      "100%|██████████| 11/11 [00:08<00:00,  1.32it/s]\n"
     ]
    },
    {
     "name": "stdout",
     "output_type": "stream",
     "text": [
      "epoch:  6 loss:  0.1296992152929306\n"
     ]
    },
    {
     "name": "stderr",
     "output_type": "stream",
     "text": [
      "100%|██████████| 5/5 [00:01<00:00,  3.58it/s]\n"
     ]
    },
    {
     "name": "stdout",
     "output_type": "stream",
     "text": [
      "              precision    recall  f1-score   support\n",
      "\n",
      "           0       0.50      0.24      0.32        17\n",
      "           1       0.38      0.52      0.44        23\n",
      "           2       0.47      0.50      0.48        30\n",
      "           3       0.42      0.38      0.39        40\n",
      "           4       0.31      0.33      0.32        30\n",
      "\n",
      "    accuracy                           0.40       140\n",
      "   macro avg       0.41      0.39      0.39       140\n",
      "weighted avg       0.41      0.40      0.40       140\n",
      "\n"
     ]
    },
    {
     "name": "stderr",
     "output_type": "stream",
     "text": [
      "  0%|          | 0/11 [00:00<?, ?it/s]"
     ]
    },
    {
     "name": "stdout",
     "output_type": "stream",
     "text": [
      "tensor([1, 0, 3, 3, 3, 4, 3, 4, 3, 4, 2, 2, 4, 1, 3, 4, 0, 2, 2, 3, 3, 2, 3, 4,\n",
      "        1, 3, 4, 0, 3, 2, 3, 4], device='cuda:0')\n"
     ]
    },
    {
     "name": "stderr",
     "output_type": "stream",
     "text": [
      "  9%|▉         | 1/11 [00:00<00:06,  1.64it/s]"
     ]
    },
    {
     "name": "stdout",
     "output_type": "stream",
     "text": [
      "epoch:  7 loss:  0.1287415474653244\n",
      "tensor([1, 4, 4, 4, 3, 3, 4, 4, 2, 2, 4, 3, 3, 1, 3, 2, 4, 0, 1, 1, 0, 3, 3, 2,\n",
      "        4, 2, 1, 1, 3, 4, 4, 2], device='cuda:0')\n"
     ]
    },
    {
     "name": "stderr",
     "output_type": "stream",
     "text": [
      " 18%|█▊        | 2/11 [00:01<00:05,  1.58it/s]"
     ]
    },
    {
     "name": "stdout",
     "output_type": "stream",
     "text": [
      "epoch:  7 loss:  0.04331682622432709\n",
      "tensor([1, 4, 0, 4, 3, 3, 3, 2, 2, 1, 4, 3, 3, 0, 3, 4, 0, 4, 3, 1, 2, 2, 2, 4,\n",
      "        3, 1, 2, 3, 4, 2, 2, 4], device='cuda:0')\n"
     ]
    },
    {
     "name": "stderr",
     "output_type": "stream",
     "text": [
      " 27%|██▋       | 3/11 [00:02<00:05,  1.35it/s]"
     ]
    },
    {
     "name": "stdout",
     "output_type": "stream",
     "text": [
      "epoch:  7 loss:  0.10073807090520859\n",
      "tensor([2, 2, 4, 2, 3, 3, 1, 2, 2, 1, 4, 4, 2, 2, 3, 2, 0, 1, 4, 1, 1, 2, 4, 3,\n",
      "        2, 1, 1, 1, 1, 0, 2, 4], device='cuda:0')\n"
     ]
    },
    {
     "name": "stderr",
     "output_type": "stream",
     "text": [
      " 36%|███▋      | 4/11 [00:03<00:05,  1.26it/s]"
     ]
    },
    {
     "name": "stdout",
     "output_type": "stream",
     "text": [
      "epoch:  7 loss:  0.058759838342666626\n",
      "tensor([2, 2, 1, 2, 1, 2, 2, 2, 2, 1, 4, 4, 4, 0, 2, 2, 0, 2, 3, 3, 1, 1, 2, 3,\n",
      "        1, 2, 2, 2, 4, 4, 1, 3], device='cuda:0')\n"
     ]
    },
    {
     "name": "stderr",
     "output_type": "stream",
     "text": [
      " 45%|████▌     | 5/11 [00:03<00:04,  1.22it/s]"
     ]
    },
    {
     "name": "stdout",
     "output_type": "stream",
     "text": [
      "epoch:  7 loss:  0.05474207177758217\n",
      "tensor([2, 1, 3, 0, 0, 0, 3, 2, 4, 3, 0, 0, 3, 3, 2, 3, 3, 2, 3, 0, 3, 2, 2, 1,\n",
      "        3, 1, 3, 4, 3, 4, 3, 1], device='cuda:0')\n"
     ]
    },
    {
     "name": "stderr",
     "output_type": "stream",
     "text": [
      " 55%|█████▍    | 6/11 [00:04<00:04,  1.23it/s]"
     ]
    },
    {
     "name": "stdout",
     "output_type": "stream",
     "text": [
      "epoch:  7 loss:  0.08094903081655502\n",
      "tensor([2, 2, 4, 0, 4, 2, 2, 4, 1, 2, 2, 1, 4, 2, 3, 0, 3, 3, 4, 1, 3, 0, 4, 1,\n",
      "        4, 4, 3, 2, 2, 4, 3, 4], device='cuda:0')\n"
     ]
    },
    {
     "name": "stderr",
     "output_type": "stream",
     "text": [
      " 64%|██████▎   | 7/11 [00:05<00:03,  1.26it/s]"
     ]
    },
    {
     "name": "stdout",
     "output_type": "stream",
     "text": [
      "epoch:  7 loss:  0.0951613262295723\n",
      "tensor([1, 3, 4, 0, 2, 3, 4, 2, 1, 4, 2, 2, 2, 0, 4, 2, 0, 0, 1, 3, 4, 3, 0, 4,\n",
      "        2, 3, 2, 1, 2, 1, 2, 1], device='cuda:0')\n"
     ]
    },
    {
     "name": "stderr",
     "output_type": "stream",
     "text": [
      " 73%|███████▎  | 8/11 [00:06<00:02,  1.23it/s]"
     ]
    },
    {
     "name": "stdout",
     "output_type": "stream",
     "text": [
      "epoch:  7 loss:  0.12161365896463394\n",
      "tensor([3, 2, 1, 3, 4, 1, 0, 3, 0, 1, 4, 4, 2, 3, 2, 4, 0, 1, 1, 0, 4, 3, 3, 2,\n",
      "        2, 3, 3, 2, 4, 4, 4, 2], device='cuda:0')\n"
     ]
    },
    {
     "name": "stderr",
     "output_type": "stream",
     "text": [
      " 82%|████████▏ | 9/11 [00:07<00:01,  1.25it/s]"
     ]
    },
    {
     "name": "stdout",
     "output_type": "stream",
     "text": [
      "epoch:  7 loss:  0.11339304596185684\n",
      "tensor([3, 2, 2, 2, 2, 3, 3, 1, 1, 1, 1, 4, 0, 2, 4, 3, 4, 2, 1, 4, 3, 2, 0, 4,\n",
      "        2, 3, 2, 0, 2, 3, 3, 2], device='cuda:0')\n"
     ]
    },
    {
     "name": "stderr",
     "output_type": "stream",
     "text": [
      " 91%|█████████ | 10/11 [00:07<00:00,  1.27it/s]"
     ]
    },
    {
     "name": "stdout",
     "output_type": "stream",
     "text": [
      "epoch:  7 loss:  0.03913959115743637\n",
      "tensor([0, 3, 1, 2, 4, 1], device='cuda:0')\n"
     ]
    },
    {
     "name": "stderr",
     "output_type": "stream",
     "text": [
      "100%|██████████| 11/11 [00:08<00:00,  1.34it/s]\n"
     ]
    },
    {
     "name": "stdout",
     "output_type": "stream",
     "text": [
      "epoch:  7 loss:  0.15421676635742188\n"
     ]
    },
    {
     "name": "stderr",
     "output_type": "stream",
     "text": [
      "100%|██████████| 5/5 [00:01<00:00,  3.68it/s]\n"
     ]
    },
    {
     "name": "stdout",
     "output_type": "stream",
     "text": [
      "              precision    recall  f1-score   support\n",
      "\n",
      "           0       0.42      0.29      0.34        17\n",
      "           1       0.44      0.30      0.36        23\n",
      "           2       0.34      0.80      0.48        30\n",
      "           3       0.46      0.15      0.23        40\n",
      "           4       0.36      0.33      0.34        30\n",
      "\n",
      "    accuracy                           0.37       140\n",
      "   macro avg       0.40      0.38      0.35       140\n",
      "weighted avg       0.40      0.37      0.34       140\n",
      "\n"
     ]
    },
    {
     "name": "stderr",
     "output_type": "stream",
     "text": [
      "  0%|          | 0/11 [00:00<?, ?it/s]"
     ]
    },
    {
     "name": "stdout",
     "output_type": "stream",
     "text": [
      "tensor([2, 2, 4, 4, 2, 3, 4, 1, 4, 4, 1, 3, 1, 1, 4, 3, 3, 2, 2, 4, 2, 3, 3, 2,\n",
      "        3, 2, 2, 4, 4, 3, 2, 2], device='cuda:0')\n"
     ]
    },
    {
     "name": "stderr",
     "output_type": "stream",
     "text": [
      "  9%|▉         | 1/11 [00:00<00:06,  1.66it/s]"
     ]
    },
    {
     "name": "stdout",
     "output_type": "stream",
     "text": [
      "epoch:  8 loss:  0.14943534135818481\n",
      "tensor([1, 4, 3, 4, 1, 0, 2, 4, 3, 3, 3, 4, 2, 1, 2, 3, 2, 3, 3, 4, 4, 2, 2, 2,\n",
      "        1, 1, 3, 2, 3, 2, 4, 1], device='cuda:0')\n"
     ]
    },
    {
     "name": "stderr",
     "output_type": "stream",
     "text": [
      " 18%|█▊        | 2/11 [00:01<00:05,  1.61it/s]"
     ]
    },
    {
     "name": "stdout",
     "output_type": "stream",
     "text": [
      "epoch:  8 loss:  0.04755623638629913\n",
      "tensor([2, 1, 0, 1, 3, 3, 4, 2, 4, 2, 3, 1, 1, 4, 0, 3, 2, 1, 2, 0, 2, 1, 3, 0,\n",
      "        4, 0, 2, 1, 1, 3, 2, 3], device='cuda:0')\n"
     ]
    },
    {
     "name": "stderr",
     "output_type": "stream",
     "text": [
      " 27%|██▋       | 3/11 [00:02<00:05,  1.35it/s]"
     ]
    },
    {
     "name": "stdout",
     "output_type": "stream",
     "text": [
      "epoch:  8 loss:  0.05553646385669708\n",
      "tensor([3, 4, 2, 4, 0, 3, 4, 3, 1, 2, 2, 1, 2, 2, 1, 3, 3, 2, 2, 2, 0, 4, 0, 2,\n",
      "        2, 3, 2, 2, 1, 4, 1, 4], device='cuda:0')\n"
     ]
    },
    {
     "name": "stderr",
     "output_type": "stream",
     "text": [
      " 36%|███▋      | 4/11 [00:02<00:05,  1.26it/s]"
     ]
    },
    {
     "name": "stdout",
     "output_type": "stream",
     "text": [
      "epoch:  8 loss:  0.058932214975357056\n",
      "tensor([2, 1, 2, 3, 3, 3, 3, 1, 0, 3, 2, 2, 1, 1, 2, 4, 3, 0, 0, 1, 0, 3, 0, 0,\n",
      "        4, 3, 3, 1, 3, 2, 3, 2], device='cuda:0')\n"
     ]
    },
    {
     "name": "stderr",
     "output_type": "stream",
     "text": [
      " 45%|████▌     | 5/11 [00:03<00:04,  1.26it/s]"
     ]
    },
    {
     "name": "stdout",
     "output_type": "stream",
     "text": [
      "epoch:  8 loss:  0.06615244597196579\n",
      "tensor([1, 1, 3, 4, 4, 3, 2, 3, 3, 2, 3, 2, 4, 2, 3, 4, 4, 4, 4, 0, 0, 4, 0, 0,\n",
      "        1, 3, 1, 3, 4, 1, 0, 4], device='cuda:0')\n"
     ]
    },
    {
     "name": "stderr",
     "output_type": "stream",
     "text": [
      " 55%|█████▍    | 6/11 [00:04<00:04,  1.22it/s]"
     ]
    },
    {
     "name": "stdout",
     "output_type": "stream",
     "text": [
      "epoch:  8 loss:  0.07635928690433502\n",
      "tensor([3, 2, 3, 3, 3, 3, 3, 4, 3, 2, 4, 2, 3, 1, 2, 2, 1, 0, 1, 3, 4, 0, 1, 4,\n",
      "        1, 1, 4, 4, 2, 1, 4, 4], device='cuda:0')\n"
     ]
    },
    {
     "name": "stderr",
     "output_type": "stream",
     "text": [
      " 64%|██████▎   | 7/11 [00:05<00:03,  1.20it/s]"
     ]
    },
    {
     "name": "stdout",
     "output_type": "stream",
     "text": [
      "epoch:  8 loss:  0.04478579759597778\n",
      "tensor([1, 4, 4, 4, 3, 1, 3, 2, 2, 4, 2, 4, 4, 2, 1, 1, 0, 4, 3, 4, 4, 2, 2, 0,\n",
      "        1, 2, 4, 3, 4, 2, 4, 1], device='cuda:0')\n"
     ]
    },
    {
     "name": "stderr",
     "output_type": "stream",
     "text": [
      " 73%|███████▎  | 8/11 [00:06<00:02,  1.24it/s]"
     ]
    },
    {
     "name": "stdout",
     "output_type": "stream",
     "text": [
      "epoch:  8 loss:  0.04227084666490555\n",
      "tensor([2, 2, 2, 3, 2, 4, 1, 2, 3, 4, 4, 0, 2, 2, 0, 0, 1, 0, 3, 2, 0, 1, 1, 2,\n",
      "        3, 4, 4, 3, 3, 4, 2, 2], device='cuda:0')\n"
     ]
    },
    {
     "name": "stderr",
     "output_type": "stream",
     "text": [
      " 82%|████████▏ | 9/11 [00:07<00:01,  1.26it/s]"
     ]
    },
    {
     "name": "stdout",
     "output_type": "stream",
     "text": [
      "epoch:  8 loss:  0.05104471743106842\n",
      "tensor([4, 2, 2, 0, 3, 3, 2, 2, 0, 1, 3, 2, 3, 3, 2, 4, 2, 3, 2, 0, 3, 3, 2, 2,\n",
      "        4, 4, 1, 3, 2, 2, 1, 0], device='cuda:0')\n"
     ]
    },
    {
     "name": "stderr",
     "output_type": "stream",
     "text": [
      " 91%|█████████ | 10/11 [00:07<00:00,  1.22it/s]"
     ]
    },
    {
     "name": "stdout",
     "output_type": "stream",
     "text": [
      "epoch:  8 loss:  0.04190244898200035\n",
      "tensor([3, 2, 4, 4, 0, 1], device='cuda:0')\n"
     ]
    },
    {
     "name": "stderr",
     "output_type": "stream",
     "text": [
      "100%|██████████| 11/11 [00:08<00:00,  1.34it/s]\n"
     ]
    },
    {
     "name": "stdout",
     "output_type": "stream",
     "text": [
      "epoch:  8 loss:  0.04652467742562294\n"
     ]
    },
    {
     "name": "stderr",
     "output_type": "stream",
     "text": [
      "100%|██████████| 5/5 [00:01<00:00,  3.66it/s]\n"
     ]
    },
    {
     "name": "stdout",
     "output_type": "stream",
     "text": [
      "              precision    recall  f1-score   support\n",
      "\n",
      "           0       0.37      0.41      0.39        17\n",
      "           1       0.32      0.43      0.37        23\n",
      "           2       0.42      0.27      0.33        30\n",
      "           3       0.41      0.57      0.48        40\n",
      "           4       0.33      0.17      0.22        30\n",
      "\n",
      "    accuracy                           0.38       140\n",
      "   macro avg       0.37      0.37      0.36       140\n",
      "weighted avg       0.38      0.38      0.36       140\n",
      "\n"
     ]
    },
    {
     "name": "stderr",
     "output_type": "stream",
     "text": [
      "  0%|          | 0/11 [00:00<?, ?it/s]"
     ]
    },
    {
     "name": "stdout",
     "output_type": "stream",
     "text": [
      "tensor([2, 1, 4, 4, 3, 2, 4, 2, 0, 0, 3, 1, 1, 3, 1, 3, 3, 0, 2, 4, 4, 0, 4, 2,\n",
      "        1, 3, 1, 3, 0, 3, 2, 3], device='cuda:0')\n"
     ]
    },
    {
     "name": "stderr",
     "output_type": "stream",
     "text": [
      "  9%|▉         | 1/11 [00:00<00:05,  1.97it/s]"
     ]
    },
    {
     "name": "stdout",
     "output_type": "stream",
     "text": [
      "epoch:  9 loss:  0.025546442717313766\n",
      "tensor([0, 1, 4, 1, 1, 2, 4, 3, 1, 3, 2, 3, 4, 1, 4, 3, 1, 2, 2, 1, 4, 2, 2, 1,\n",
      "        3, 0, 4, 4, 3, 3, 1, 3], device='cuda:0')\n"
     ]
    },
    {
     "name": "stderr",
     "output_type": "stream",
     "text": [
      " 18%|█▊        | 2/11 [00:01<00:05,  1.54it/s]"
     ]
    },
    {
     "name": "stdout",
     "output_type": "stream",
     "text": [
      "epoch:  9 loss:  0.021316710859537125\n",
      "tensor([2, 2, 2, 2, 1, 3, 0, 1, 3, 4, 0, 2, 0, 2, 4, 1, 1, 3, 1, 3, 3, 3, 4, 4,\n",
      "        4, 4, 3, 2, 4, 2, 3, 3], device='cuda:0')\n"
     ]
    },
    {
     "name": "stderr",
     "output_type": "stream",
     "text": [
      " 27%|██▋       | 3/11 [00:02<00:05,  1.41it/s]"
     ]
    },
    {
     "name": "stdout",
     "output_type": "stream",
     "text": [
      "epoch:  9 loss:  0.019712476059794426\n",
      "tensor([1, 0, 2, 3, 4, 4, 3, 4, 1, 0, 4, 1, 3, 2, 2, 0, 1, 1, 2, 3, 4, 4, 4, 2,\n",
      "        4, 4, 1, 1, 1, 4, 3, 0], device='cuda:0')\n"
     ]
    },
    {
     "name": "stderr",
     "output_type": "stream",
     "text": [
      " 36%|███▋      | 4/11 [00:02<00:05,  1.29it/s]"
     ]
    },
    {
     "name": "stdout",
     "output_type": "stream",
     "text": [
      "epoch:  9 loss:  0.024605480954051018\n",
      "tensor([0, 4, 2, 2, 0, 3, 3, 2, 1, 2, 1, 2, 4, 2, 2, 3, 2, 3, 3, 4, 3, 3, 1, 3,\n",
      "        3, 1, 0, 2, 3, 4, 3, 3], device='cuda:0')\n"
     ]
    },
    {
     "name": "stderr",
     "output_type": "stream",
     "text": [
      " 45%|████▌     | 5/11 [00:03<00:04,  1.23it/s]"
     ]
    },
    {
     "name": "stdout",
     "output_type": "stream",
     "text": [
      "epoch:  9 loss:  0.03241148591041565\n",
      "tensor([0, 1, 4, 0, 3, 3, 2, 2, 1, 4, 1, 2, 4, 1, 1, 2, 2, 4, 3, 2, 3, 2, 2, 3,\n",
      "        2, 2, 2, 2, 4, 4, 2, 3], device='cuda:0')\n"
     ]
    },
    {
     "name": "stderr",
     "output_type": "stream",
     "text": [
      " 55%|█████▍    | 6/11 [00:04<00:04,  1.25it/s]"
     ]
    },
    {
     "name": "stdout",
     "output_type": "stream",
     "text": [
      "epoch:  9 loss:  0.023523271083831787\n",
      "tensor([1, 0, 3, 0, 1, 2, 2, 0, 0, 4, 4, 2, 4, 3, 2, 4, 3, 4, 1, 1, 0, 4, 4, 3,\n",
      "        2, 3, 2, 4, 3, 2, 0, 2], device='cuda:0')\n"
     ]
    },
    {
     "name": "stderr",
     "output_type": "stream",
     "text": [
      " 64%|██████▎   | 7/11 [00:05<00:03,  1.21it/s]"
     ]
    },
    {
     "name": "stdout",
     "output_type": "stream",
     "text": [
      "epoch:  9 loss:  0.03309473767876625\n",
      "tensor([4, 4, 2, 0, 4, 1, 3, 2, 0, 1, 1, 3, 4, 2, 4, 2, 4, 4, 2, 1, 3, 3, 3, 2,\n",
      "        2, 3, 3, 3, 2, 1, 3, 2], device='cuda:0')\n"
     ]
    },
    {
     "name": "stderr",
     "output_type": "stream",
     "text": [
      " 73%|███████▎  | 8/11 [00:06<00:02,  1.19it/s]"
     ]
    },
    {
     "name": "stdout",
     "output_type": "stream",
     "text": [
      "epoch:  9 loss:  0.022766059264540672\n",
      "tensor([4, 2, 2, 3, 2, 3, 2, 4, 4, 0, 2, 0, 1, 4, 3, 3, 1, 2, 4, 2, 4, 0, 2, 2,\n",
      "        4, 0, 0, 4, 4, 0, 3, 4], device='cuda:0')\n"
     ]
    },
    {
     "name": "stderr",
     "output_type": "stream",
     "text": [
      " 82%|████████▏ | 9/11 [00:07<00:01,  1.17it/s]"
     ]
    },
    {
     "name": "stdout",
     "output_type": "stream",
     "text": [
      "epoch:  9 loss:  0.025377992540597916\n",
      "tensor([2, 2, 4, 2, 1, 2, 2, 2, 2, 3, 2, 3, 1, 3, 1, 3, 4, 4, 3, 3, 2, 1, 2, 1,\n",
      "        2, 0, 2, 2, 3, 1, 4, 1], device='cuda:0')\n"
     ]
    },
    {
     "name": "stderr",
     "output_type": "stream",
     "text": [
      " 91%|█████████ | 10/11 [00:07<00:00,  1.21it/s]"
     ]
    },
    {
     "name": "stdout",
     "output_type": "stream",
     "text": [
      "epoch:  9 loss:  0.022963760420680046\n",
      "tensor([3, 2, 4, 3, 2, 2], device='cuda:0')\n"
     ]
    },
    {
     "name": "stderr",
     "output_type": "stream",
     "text": [
      "100%|██████████| 11/11 [00:08<00:00,  1.32it/s]\n"
     ]
    },
    {
     "name": "stdout",
     "output_type": "stream",
     "text": [
      "epoch:  9 loss:  0.016316397115588188\n"
     ]
    },
    {
     "name": "stderr",
     "output_type": "stream",
     "text": [
      "100%|██████████| 5/5 [00:01<00:00,  3.89it/s]"
     ]
    },
    {
     "name": "stdout",
     "output_type": "stream",
     "text": [
      "              precision    recall  f1-score   support\n",
      "\n",
      "           0       0.39      0.53      0.45        17\n",
      "           1       0.42      0.43      0.43        23\n",
      "           2       0.43      0.43      0.43        30\n",
      "           3       0.42      0.33      0.37        40\n",
      "           4       0.25      0.27      0.26        30\n",
      "\n",
      "    accuracy                           0.38       140\n",
      "   macro avg       0.38      0.40      0.39       140\n",
      "weighted avg       0.38      0.38      0.38       140\n",
      "\n"
     ]
    },
    {
     "name": "stderr",
     "output_type": "stream",
     "text": [
      "\n"
     ]
    }
   ],
   "source": [
    "train()\n",
    "# evaluate()"
   ]
  },
  {
   "cell_type": "code",
   "execution_count": 14,
   "metadata": {
    "collapsed": false,
    "jupyter": {
     "outputs_hidden": false
    },
    "pycharm": {
     "name": "#%%\n"
    }
   },
   "outputs": [],
   "source": [
    "# wandb.log({'epoch': epoch, 'f1': f1, 'acc': acc, 'precision': precision, 'recall': recall})\n",
    "# torch.save(model.state_dict(), 'model/bert_cls_model.pth')"
   ]
  },
  {
   "cell_type": "markdown",
   "source": [
    "## 12. 分类报告\n",
    "\n",
    "![bert_cls](../static/bert_cls.png)\n",
    "\n",
    "可以看到精度较低，感觉是数据集太小了的缘故，而且分类又多，\n",
    "这样每个类数据就更少了。\n"
   ],
   "metadata": {
    "collapsed": false,
    "pycharm": {
     "name": "#%% md\n"
    }
   }
  }
 ],
 "metadata": {
  "kernelspec": {
   "display_name": "Python 3",
   "language": "python",
   "name": "python3"
  },
  "language_info": {
   "codemirror_mode": {
    "name": "ipython",
    "version": 3
   },
   "file_extension": ".py",
   "mimetype": "text/x-python",
   "name": "python",
   "nbconvert_exporter": "python",
   "pygments_lexer": "ipython3",
   "version": "3.7.6"
  }
 },
 "nbformat": 4,
 "nbformat_minor": 4
}