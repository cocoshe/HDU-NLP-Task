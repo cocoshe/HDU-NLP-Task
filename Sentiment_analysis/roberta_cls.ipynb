{
 "cells": [
  {
   "cell_type": "code",
   "execution_count": 1,
   "metadata": {},
   "outputs": [
    {
     "name": "stdout",
     "output_type": "stream",
     "text": [
      "# conda environments:\n",
      "#\n",
      "base                  *  /opt/conda\n",
      "federated_learning       /opt/conda/envs/federated_learning\n",
      "python2                  /opt/conda/envs/python2\n",
      "pytorch1.8               /opt/conda/envs/pytorch1.8\n",
      "rapids                   /opt/conda/envs/rapids\n",
      "tf1.14                   /opt/conda/envs/tf1.14\n",
      "tf2.4.1                  /opt/conda/envs/tf2.4.1\n",
      "\n"
     ]
    }
   ],
   "source": [
    "!conda env list"
   ]
  },
  {
   "cell_type": "code",
   "execution_count": 2,
   "metadata": {
    "collapsed": false,
    "jupyter": {
     "outputs_hidden": false
    },
    "pycharm": {
     "name": "#%%\n"
    }
   },
   "outputs": [
    {
     "name": "stderr",
     "output_type": "stream",
     "text": [
      "/root/.local/lib/python3.7/site-packages/tqdm/auto.py:22: TqdmWarning: IProgress not found. Please update jupyter and ipywidgets. See https://ipywidgets.readthedocs.io/en/stable/user_install.html\n",
      "  from .autonotebook import tqdm as notebook_tqdm\n",
      "2022-05-08 00:30:18.526064: W tensorflow/stream_executor/platform/default/dso_loader.cc:55] Could not load dynamic library 'libnvinfer.so.6'; dlerror: libnvinfer.so.6: cannot open shared object file: No such file or directory; LD_LIBRARY_PATH: /usr/local/nvidia/lib64\n",
      "2022-05-08 00:30:18.526437: W tensorflow/stream_executor/platform/default/dso_loader.cc:55] Could not load dynamic library 'libnvinfer_plugin.so.6'; dlerror: libnvinfer_plugin.so.6: cannot open shared object file: No such file or directory; LD_LIBRARY_PATH: /usr/local/nvidia/lib64\n",
      "2022-05-08 00:30:18.526453: W tensorflow/compiler/tf2tensorrt/utils/py_utils.cc:30] Cannot dlopen some TensorRT libraries. If you would like to use Nvidia GPU with TensorRT, please make sure the missing libraries mentioned above are installed properly.\n"
     ]
    }
   ],
   "source": [
    "import numpy as np\n",
    "import pandas as pd\n",
    "import torch\n",
    "import torch.nn as nn\n",
    "from torch.utils.data import Dataset, DataLoader\n",
    "from transformers import AutoTokenizer, AutoModelForMaskedLM, AutoModelForSequenceClassification\n",
    "from tqdm import tqdm\n",
    "from sklearn.metrics import f1_score, precision_score, recall_score, accuracy_score, classification_report\n",
    "import wandb"
   ]
  },
  {
   "cell_type": "code",
   "execution_count": 3,
   "metadata": {
    "collapsed": false,
    "jupyter": {
     "outputs_hidden": false
    },
    "pycharm": {
     "name": "#%%\n"
    }
   },
   "outputs": [
    {
     "name": "stdout",
     "output_type": "stream",
     "text": [
      "Sun May  8 00:30:24 2022       \n",
      "+-----------------------------------------------------------------------------+\n",
      "| NVIDIA-SMI 450.51.05    Driver Version: 450.51.05    CUDA Version: 11.0     |\n",
      "|-------------------------------+----------------------+----------------------+\n",
      "| GPU  Name        Persistence-M| Bus-Id        Disp.A | Volatile Uncorr. ECC |\n",
      "| Fan  Temp  Perf  Pwr:Usage/Cap|         Memory-Usage | GPU-Util  Compute M. |\n",
      "|                               |                      |               MIG M. |\n",
      "|===============================+======================+======================|\n",
      "|   0  Tesla V100-PCIE...  Off  | 00000000:3E:00.0 Off |                    0 |\n",
      "| N/A   35C    P0    39W / 250W |      0MiB / 32510MiB |      0%      Default |\n",
      "|                               |                      |                  N/A |\n",
      "+-------------------------------+----------------------+----------------------+\n",
      "                                                                               \n",
      "+-----------------------------------------------------------------------------+\n",
      "| Processes:                                                                  |\n",
      "|  GPU   GI   CI        PID   Type   Process name                  GPU Memory |\n",
      "|        ID   ID                                                   Usage      |\n",
      "|=============================================================================|\n",
      "|  No running processes found                                                 |\n",
      "+-----------------------------------------------------------------------------+\n"
     ]
    },
    {
     "name": "stderr",
     "output_type": "stream",
     "text": [
      "Failed to detect the name of this notebook, you can set it manually with the WANDB_NOTEBOOK_NAME environment variable to enable code saving.\n"
     ]
    }
   ],
   "source": [
    "!nvidia-smi\n",
    "wandb.init(project=\"senti-analysis\", entity='cocoshe', mode='disabled')\n",
    "# wandb.config = {\n",
    "#     'batch_size': 32,\n",
    "#     'epochs': 5,\n",
    "#     'lr': 5e-5,\n",
    "#     'max_seq_length': 128,\n",
    "# }\n",
    "device = torch.device(\"cuda\" if torch.cuda.is_available() else \"cpu\")"
   ]
  },
  {
   "cell_type": "code",
   "execution_count": 4,
   "metadata": {
    "collapsed": false,
    "jupyter": {
     "outputs_hidden": false
    },
    "pycharm": {
     "name": "#%%\n"
    }
   },
   "outputs": [],
   "source": [
    "class MyDataset(Dataset):\n",
    "    def __init__(self, df, model_name='bert-base-chinese'):\n",
    "        self.data_df = df\n",
    "        self.tokenizer = AutoTokenizer.from_pretrained(model_name)\n",
    "\n",
    "    def __len__(self):\n",
    "        return len(self.data_df)\n",
    "\n",
    "    def __getitem__(self, idx):\n",
    "        input_text = self.data_df.iloc[idx, 0]\n",
    "        label = self.data_df.iloc[idx, 1]\n",
    "\n",
    "        tokenizer = self.tokenizer\n",
    "        token = tokenizer(input_text, padding='max_length', truncation=True, max_length=128, return_tensors='pt', return_token_type_ids=False)\n",
    "        input_ids = token['input_ids'].squeeze(0)\n",
    "        attention_mask = token['attention_mask'].squeeze(0)\n",
    "        label = np.int64(label)\n",
    "        return input_ids.to(device), attention_mask.to(device), label"
   ]
  },
  {
   "cell_type": "code",
   "execution_count": 5,
   "metadata": {
    "collapsed": false,
    "jupyter": {
     "outputs_hidden": false
    },
    "pycharm": {
     "name": "#%%\n"
    }
   },
   "outputs": [
    {
     "name": "stderr",
     "output_type": "stream",
     "text": [
      "Some weights of the model checkpoint at hfl/chinese-roberta-wwm-ext were not used when initializing BertForSequenceClassification: ['cls.predictions.transform.LayerNorm.bias', 'cls.predictions.transform.dense.weight', 'cls.predictions.bias', 'cls.seq_relationship.weight', 'cls.seq_relationship.bias', 'cls.predictions.transform.dense.bias', 'cls.predictions.decoder.weight', 'cls.predictions.transform.LayerNorm.weight']\n",
      "- This IS expected if you are initializing BertForSequenceClassification from the checkpoint of a model trained on another task or with another architecture (e.g. initializing a BertForSequenceClassification model from a BertForPreTraining model).\n",
      "- This IS NOT expected if you are initializing BertForSequenceClassification from the checkpoint of a model that you expect to be exactly identical (initializing a BertForSequenceClassification model from a BertForSequenceClassification model).\n",
      "Some weights of BertForSequenceClassification were not initialized from the model checkpoint at hfl/chinese-roberta-wwm-ext and are newly initialized: ['classifier.bias', 'classifier.weight']\n",
      "You should probably TRAIN this model on a down-stream task to be able to use it for predictions and inference.\n"
     ]
    }
   ],
   "source": [
    "tokenizer = AutoTokenizer.from_pretrained('hfl/chinese-roberta-wwm-ext')\n",
    "model = AutoModelForSequenceClassification.from_pretrained('hfl/chinese-roberta-wwm-ext', num_labels=5)\n",
    "model.to(device)\n",
    "\n",
    "criterion = nn.CrossEntropyLoss()\n",
    "optimizer = torch.optim.AdamW(model.parameters(), lr=5e-5)\n",
    "epochs = 20"
   ]
  },
  {
   "cell_type": "code",
   "execution_count": 6,
   "metadata": {
    "collapsed": false,
    "jupyter": {
     "outputs_hidden": false
    },
    "pycharm": {
     "name": "#%%\n"
    }
   },
   "outputs": [],
   "source": [
    "def train_test_split(input_df, test_size=0.2, shuffle=True, random_state=None):\n",
    "    if shuffle:\n",
    "        input_df = input_df.sample(frac=1)\n",
    "    ret_train_df = input_df[:int(len(input_df) * (1 - test_size))]\n",
    "    ret_test_df = input_df[int(len(input_df) * (1 - test_size)):]\n",
    "    return ret_train_df, ret_test_df\n"
   ]
  },
  {
   "cell_type": "code",
   "execution_count": 7,
   "metadata": {
    "collapsed": false,
    "jupyter": {
     "outputs_hidden": false
    },
    "pycharm": {
     "name": "#%%\n"
    }
   },
   "outputs": [],
   "source": [
    "evaluate2score = {'力荐': '4', '推荐': '3', '还行': '2', '较差': '1', '很差': '0'}\n",
    "score2evaluate = {4: '力荐', '3': '推荐', '2': '还行', '1': '较差', '0': '很差'}\n",
    "evaluate_list = ['力荐', '推荐', '还行', '较差', '很差']\n",
    "k, v = list(evaluate2score.items())[0]"
   ]
  },
  {
   "cell_type": "code",
   "execution_count": 8,
   "metadata": {
    "collapsed": false,
    "jupyter": {
     "outputs_hidden": false
    },
    "pycharm": {
     "name": "#%%\n"
    }
   },
   "outputs": [
    {
     "name": "stdout",
     "output_type": "stream",
     "text": [
      "0                       推荐\n",
      "2                       很差\n",
      "3                       力荐\n",
      "5                       还行\n",
      "6                       较差\n",
      "56     2019-02-05 23:16:40\n",
      "96     2019-02-08 11:53:57\n",
      "119    2019-02-09 09:14:52\n",
      "161    2019-01-28 20:14:00\n",
      "247    2019-02-10 23:30:50\n",
      "261    2019-02-06 20:33:03\n",
      "307    2019-02-06 15:31:25\n",
      "339    2019-02-10 18:09:43\n",
      "354    2019-02-08 05:09:17\n",
      "395    2019-02-08 00:15:25\n",
      "417    2019-02-09 18:32:26\n",
      "431    2019-02-08 22:39:41\n",
      "446    2019-02-07 19:41:14\n",
      "463    2019-02-08 22:00:00\n",
      "Name: evaluate, dtype: object\n",
      "after filter\n",
      "0    推荐\n",
      "2    很差\n",
      "3    力荐\n",
      "5    还行\n",
      "6    较差\n",
      "Name: evaluate, dtype: object\n"
     ]
    },
    {
     "data": {
      "text/html": [
       "<div>\n",
       "<style scoped>\n",
       "    .dataframe tbody tr th:only-of-type {\n",
       "        vertical-align: middle;\n",
       "    }\n",
       "\n",
       "    .dataframe tbody tr th {\n",
       "        vertical-align: top;\n",
       "    }\n",
       "\n",
       "    .dataframe thead th {\n",
       "        text-align: right;\n",
       "    }\n",
       "</style>\n",
       "<table border=\"1\" class=\"dataframe\">\n",
       "  <thead>\n",
       "    <tr style=\"text-align: right;\">\n",
       "      <th></th>\n",
       "      <th>content</th>\n",
       "      <th>evaluate</th>\n",
       "    </tr>\n",
       "  </thead>\n",
       "  <tbody>\n",
       "    <tr>\n",
       "      <th>0</th>\n",
       "      <td>一个悲伤的故事：太阳都要毁灭，地球都要流浪了，我国的校服还是这么丑......</td>\n",
       "      <td>推荐</td>\n",
       "    </tr>\n",
       "    <tr>\n",
       "      <th>1</th>\n",
       "      <td>电影比预期要更恢弘磅礴，晨昏线过后的永夜、火种计划、让地球流浪、木星推动地球…等等大小设定，...</td>\n",
       "      <td>推荐</td>\n",
       "    </tr>\n",
       "    <tr>\n",
       "      <th>2</th>\n",
       "      <td>还能更土更儿戏一点吗？毫无思考仅靠煽动，毫无敬畏仅余妄想。好的科幻片应该首先承认人类的无知，...</td>\n",
       "      <td>很差</td>\n",
       "    </tr>\n",
       "    <tr>\n",
       "      <th>3</th>\n",
       "      <td>1.终于，轮到我们仰望星空。2.后启示录死亡废墟，赛博朋克地下城，以及烟波浩渺的末日想象，缔...</td>\n",
       "      <td>力荐</td>\n",
       "    </tr>\n",
       "    <tr>\n",
       "      <th>4</th>\n",
       "      <td>真为吴京的演技尴尬，总是摆出一副大义凌然的样子，好奇为什么刘的作品中总有这种傻逼般的圣母存在...</td>\n",
       "      <td>很差</td>\n",
       "    </tr>\n",
       "  </tbody>\n",
       "</table>\n",
       "</div>"
      ],
      "text/plain": [
       "                                             content evaluate\n",
       "0            一个悲伤的故事：太阳都要毁灭，地球都要流浪了，我国的校服还是这么丑......       推荐\n",
       "1  电影比预期要更恢弘磅礴，晨昏线过后的永夜、火种计划、让地球流浪、木星推动地球…等等大小设定，...       推荐\n",
       "2  还能更土更儿戏一点吗？毫无思考仅靠煽动，毫无敬畏仅余妄想。好的科幻片应该首先承认人类的无知，...       很差\n",
       "3  1.终于，轮到我们仰望星空。2.后启示录死亡废墟，赛博朋克地下城，以及烟波浩渺的末日想象，缔...       力荐\n",
       "4  真为吴京的演技尴尬，总是摆出一副大义凌然的样子，好奇为什么刘的作品中总有这种傻逼般的圣母存在...       很差"
      ]
     },
     "execution_count": 8,
     "metadata": {},
     "output_type": "execute_result"
    }
   ],
   "source": [
    "# split train and test data directly(no need to split input and label, that's why not use sklearn.model_selection.train_test_split)\n",
    "df = pd.read_csv('dataset/流浪地球.csv', encoding='utf-8', header=0, index_col=None, usecols=['content', 'evaluate'])\n",
    "print(df.drop_duplicates(['evaluate'])['evaluate'])\n",
    "df = df[df['evaluate'].isin(evaluate_list)]  # filter out the evaluate not in evaluate_list\n",
    "print('after filter')\n",
    "print(df.drop_duplicates(['evaluate'])['evaluate'])\n",
    "df.head()"
   ]
  },
  {
   "cell_type": "code",
   "execution_count": 9,
   "metadata": {
    "collapsed": false,
    "jupyter": {
     "outputs_hidden": false
    },
    "pycharm": {
     "name": "#%%\n"
    }
   },
   "outputs": [
    {
     "name": "stdout",
     "output_type": "stream",
     "text": [
      "content     object\n",
      "evaluate     int64\n",
      "dtype: object\n"
     ]
    },
    {
     "data": {
      "text/html": [
       "<div>\n",
       "<style scoped>\n",
       "    .dataframe tbody tr th:only-of-type {\n",
       "        vertical-align: middle;\n",
       "    }\n",
       "\n",
       "    .dataframe tbody tr th {\n",
       "        vertical-align: top;\n",
       "    }\n",
       "\n",
       "    .dataframe thead th {\n",
       "        text-align: right;\n",
       "    }\n",
       "</style>\n",
       "<table border=\"1\" class=\"dataframe\">\n",
       "  <thead>\n",
       "    <tr style=\"text-align: right;\">\n",
       "      <th></th>\n",
       "      <th>content</th>\n",
       "      <th>evaluate</th>\n",
       "    </tr>\n",
       "  </thead>\n",
       "  <tbody>\n",
       "    <tr>\n",
       "      <th>0</th>\n",
       "      <td>一个悲伤的故事：太阳都要毁灭，地球都要流浪了，我国的校服还是这么丑......</td>\n",
       "      <td>3</td>\n",
       "    </tr>\n",
       "    <tr>\n",
       "      <th>1</th>\n",
       "      <td>电影比预期要更恢弘磅礴，晨昏线过后的永夜、火种计划、让地球流浪、木星推动地球…等等大小设定，...</td>\n",
       "      <td>3</td>\n",
       "    </tr>\n",
       "    <tr>\n",
       "      <th>2</th>\n",
       "      <td>还能更土更儿戏一点吗？毫无思考仅靠煽动，毫无敬畏仅余妄想。好的科幻片应该首先承认人类的无知，...</td>\n",
       "      <td>0</td>\n",
       "    </tr>\n",
       "    <tr>\n",
       "      <th>3</th>\n",
       "      <td>1.终于，轮到我们仰望星空。2.后启示录死亡废墟，赛博朋克地下城，以及烟波浩渺的末日想象，缔...</td>\n",
       "      <td>4</td>\n",
       "    </tr>\n",
       "    <tr>\n",
       "      <th>4</th>\n",
       "      <td>真为吴京的演技尴尬，总是摆出一副大义凌然的样子，好奇为什么刘的作品中总有这种傻逼般的圣母存在...</td>\n",
       "      <td>0</td>\n",
       "    </tr>\n",
       "  </tbody>\n",
       "</table>\n",
       "</div>"
      ],
      "text/plain": [
       "                                             content  evaluate\n",
       "0            一个悲伤的故事：太阳都要毁灭，地球都要流浪了，我国的校服还是这么丑......         3\n",
       "1  电影比预期要更恢弘磅礴，晨昏线过后的永夜、火种计划、让地球流浪、木星推动地球…等等大小设定，...         3\n",
       "2  还能更土更儿戏一点吗？毫无思考仅靠煽动，毫无敬畏仅余妄想。好的科幻片应该首先承认人类的无知，...         0\n",
       "3  1.终于，轮到我们仰望星空。2.后启示录死亡废墟，赛博朋克地下城，以及烟波浩渺的末日想象，缔...         4\n",
       "4  真为吴京的演技尴尬，总是摆出一副大义凌然的样子，好奇为什么刘的作品中总有这种傻逼般的圣母存在...         0"
      ]
     },
     "execution_count": 9,
     "metadata": {},
     "output_type": "execute_result"
    }
   ],
   "source": [
    "df['evaluate'] = df['evaluate'].map(evaluate2score).astype(int)\n",
    "print(df.dtypes)\n",
    "df.head()\n"
   ]
  },
  {
   "cell_type": "code",
   "execution_count": 10,
   "metadata": {
    "collapsed": false,
    "jupyter": {
     "outputs_hidden": false
    },
    "pycharm": {
     "name": "#%%\n"
    }
   },
   "outputs": [],
   "source": [
    "train_df, test_df = train_test_split(df, test_size=0.3, shuffle=True)\n",
    "\n",
    "train_dataset = MyDataset(train_df, model_name='hfl/chinese-roberta-wwm-ext')\n",
    "test_dataset = MyDataset(test_df, model_name='hfl/chinese-roberta-wwm-ext')\n",
    "\n",
    "train_loader = DataLoader(train_dataset, batch_size=32, shuffle=True)\n",
    "test_loader = DataLoader(test_dataset, batch_size=32, shuffle=True)\n"
   ]
  },
  {
   "cell_type": "code",
   "execution_count": 11,
   "metadata": {
    "collapsed": false,
    "jupyter": {
     "outputs_hidden": false
    },
    "pycharm": {
     "name": "#%%\n"
    }
   },
   "outputs": [],
   "source": [
    "# train\n",
    "def train():\n",
    "    model.train()\n",
    "    for epoch in range(epochs):\n",
    "        for i, batch in enumerate(tqdm(train_loader)):\n",
    "            input_ids, attention_mask, label = batch\n",
    "            input_ids, attention_mask, label = input_ids.to(device), attention_mask.to(device), label.to(device)\n",
    "            print(label)\n",
    "            output = model(input_ids, attention_mask, labels=label)\n",
    "            loss = output[0]\n",
    "\n",
    "            optimizer.zero_grad()\n",
    "            loss.backward()\n",
    "            optimizer.step()\n",
    "\n",
    "            print('epoch: ', epoch, 'loss: ', loss.item())\n",
    "            wandb.log({'epoch': epoch,'step': i, 'loss': loss.item()})\n",
    "\n",
    "        evaluate()"
   ]
  },
  {
   "cell_type": "code",
   "execution_count": 12,
   "metadata": {
    "collapsed": false,
    "jupyter": {
     "outputs_hidden": false
    },
    "pycharm": {
     "name": "#%%\n"
    }
   },
   "outputs": [],
   "source": [
    "# evaluate\n",
    "def evaluate():\n",
    "    label_list = []\n",
    "    pred_list = []\n",
    "    model.eval()\n",
    "    with torch.no_grad():\n",
    "        model.eval()\n",
    "        eval_steps = 0\n",
    "        pred_list = []\n",
    "        label_list = []\n",
    "        for i, batch in enumerate(tqdm(test_loader)):\n",
    "            input_ids, attention_mask, label = batch\n",
    "            input_ids, attention_mask, label = input_ids.to(device), attention_mask.to(device), label.to(device)\n",
    "            output = model(input_ids, attention_mask, labels=label)\n",
    "            pred_list += (torch.argmax(output[1], dim=-1))\n",
    "            label_list += label\n",
    "            eval_steps += 1\n",
    "\n",
    "        label_list, pred_list = [item.cpu().numpy() for item in label_list], [item.cpu().numpy() for item in pred_list]\n",
    "        # f1 = f1_score(label_list, pred_list, average='macro')\n",
    "        # acc = accuracy_score(label_list, pred_list)\n",
    "        # precision = precision_score(label_list, pred_list, average='macro')\n",
    "        # recall = recall_score(label_list, pred_list, average='macro')\n",
    "        report = classification_report(label_list, pred_list)\n",
    "        print(report)"
   ]
  },
  {
   "cell_type": "code",
   "execution_count": null,
   "metadata": {
    "collapsed": false,
    "jupyter": {
     "outputs_hidden": false
    },
    "pycharm": {
     "name": "#%%\n"
    }
   },
   "outputs": [
    {
     "name": "stderr",
     "output_type": "stream",
     "text": [
      "  0%|          | 0/11 [00:00<?, ?it/s]"
     ]
    },
    {
     "name": "stdout",
     "output_type": "stream",
     "text": [
      "tensor([4, 0, 0, 3, 1, 4, 2, 3, 4, 0, 2, 4, 4, 0, 1, 4, 0, 3, 4, 2, 1, 3, 4, 1,\n",
      "        2, 3, 1, 3, 4, 2, 4, 2], device='cuda:0')\n"
     ]
    },
    {
     "name": "stderr",
     "output_type": "stream",
     "text": [
      "  9%|▉         | 1/11 [00:01<00:12,  1.23s/it]"
     ]
    },
    {
     "name": "stdout",
     "output_type": "stream",
     "text": [
      "epoch:  0 loss:  1.6250149011611938\n",
      "tensor([2, 3, 2, 2, 3, 1, 2, 4, 4, 2, 2, 2, 1, 2, 4, 3, 3, 1, 3, 4, 3, 2, 2, 2,\n",
      "        1, 2, 4, 2, 1, 1, 3, 2], device='cuda:0')\n"
     ]
    },
    {
     "name": "stderr",
     "output_type": "stream",
     "text": [
      " 18%|█▊        | 2/11 [00:01<00:07,  1.28it/s]"
     ]
    },
    {
     "name": "stdout",
     "output_type": "stream",
     "text": [
      "epoch:  0 loss:  1.5724525451660156\n",
      "tensor([2, 2, 0, 2, 4, 3, 2, 3, 1, 2, 2, 4, 0, 0, 4, 0, 4, 3, 1, 2, 2, 1, 4, 3,\n",
      "        3, 0, 3, 3, 2, 4, 2, 0], device='cuda:0')\n"
     ]
    },
    {
     "name": "stderr",
     "output_type": "stream",
     "text": [
      " 27%|██▋       | 3/11 [00:01<00:04,  1.82it/s]"
     ]
    },
    {
     "name": "stdout",
     "output_type": "stream",
     "text": [
      "epoch:  0 loss:  1.638895034790039\n",
      "tensor([3, 2, 4, 0, 4, 4, 1, 3, 4, 0, 1, 3, 3, 2, 1, 4, 3, 1, 1, 0, 0, 3, 4, 4,\n",
      "        3, 1, 2, 0, 3, 4, 2, 2], device='cuda:0')\n"
     ]
    },
    {
     "name": "stderr",
     "output_type": "stream",
     "text": [
      " 36%|███▋      | 4/11 [00:02<00:03,  2.25it/s]"
     ]
    },
    {
     "name": "stdout",
     "output_type": "stream",
     "text": [
      "epoch:  0 loss:  1.618898868560791\n",
      "tensor([2, 3, 3, 2, 1, 0, 4, 3, 4, 1, 3, 2, 0, 0, 3, 1, 2, 2, 1, 2, 0, 3, 3, 2,\n",
      "        2, 4, 2, 4, 3, 4, 4, 0], device='cuda:0')\n"
     ]
    },
    {
     "name": "stderr",
     "output_type": "stream",
     "text": [
      " 45%|████▌     | 5/11 [00:02<00:02,  2.58it/s]"
     ]
    },
    {
     "name": "stdout",
     "output_type": "stream",
     "text": [
      "epoch:  0 loss:  1.6599855422973633\n",
      "tensor([1, 1, 4, 3, 3, 2, 1, 2, 4, 3, 1, 2, 2, 3, 4, 3, 3, 2, 3, 4, 4, 0, 2, 1,\n",
      "        1, 1, 4, 4, 2, 3, 2, 2], device='cuda:0')\n"
     ]
    },
    {
     "name": "stderr",
     "output_type": "stream",
     "text": [
      " 55%|█████▍    | 6/11 [00:04<00:04,  1.02it/s]"
     ]
    },
    {
     "name": "stdout",
     "output_type": "stream",
     "text": [
      "epoch:  0 loss:  1.5252153873443604\n",
      "tensor([4, 4, 3, 2, 3, 2, 1, 2, 3, 3, 1, 0, 1, 0, 4, 1, 1, 1, 3, 3, 1, 3, 0, 0,\n",
      "        3, 3, 3, 4, 2, 3, 4, 3], device='cuda:0')\n"
     ]
    },
    {
     "name": "stderr",
     "output_type": "stream",
     "text": [
      " 64%|██████▎   | 7/11 [00:05<00:03,  1.01it/s]"
     ]
    },
    {
     "name": "stdout",
     "output_type": "stream",
     "text": [
      "epoch:  0 loss:  1.5701954364776611\n",
      "tensor([3, 0, 1, 0, 2, 3, 1, 0, 2, 3, 2, 3, 1, 2, 2, 4, 2, 2, 4, 3, 3, 0, 3, 0,\n",
      "        4, 1, 1, 3, 4, 4, 0, 1], device='cuda:0')\n"
     ]
    },
    {
     "name": "stderr",
     "output_type": "stream",
     "text": [
      " 73%|███████▎  | 8/11 [00:06<00:02,  1.09it/s]"
     ]
    },
    {
     "name": "stdout",
     "output_type": "stream",
     "text": [
      "epoch:  0 loss:  1.5758212804794312\n",
      "tensor([4, 3, 2, 4, 1, 1, 2, 3, 3, 3, 3, 2, 3, 3, 2, 4, 2, 3, 4, 1, 2, 0, 1, 2,\n",
      "        1, 3, 1, 2, 2, 3, 1, 4], device='cuda:0')\n"
     ]
    },
    {
     "name": "stderr",
     "output_type": "stream",
     "text": [
      " 82%|████████▏ | 9/11 [00:07<00:01,  1.15it/s]"
     ]
    },
    {
     "name": "stdout",
     "output_type": "stream",
     "text": [
      "epoch:  0 loss:  1.4865658283233643\n",
      "tensor([2, 1, 2, 2, 3, 3, 3, 4, 3, 2, 1, 3, 0, 2, 4, 2, 3, 0, 0, 3, 2, 4, 3, 4,\n",
      "        3, 3, 4, 2, 1, 2, 4, 4], device='cuda:0')\n"
     ]
    },
    {
     "name": "stderr",
     "output_type": "stream",
     "text": [
      " 91%|█████████ | 10/11 [00:08<00:00,  1.15it/s]"
     ]
    },
    {
     "name": "stdout",
     "output_type": "stream",
     "text": [
      "epoch:  0 loss:  1.4972474575042725\n",
      "tensor([3, 2, 1, 2, 3, 4], device='cuda:0')\n"
     ]
    },
    {
     "name": "stderr",
     "output_type": "stream",
     "text": [
      "100%|██████████| 11/11 [00:08<00:00,  1.30it/s]\n"
     ]
    },
    {
     "name": "stdout",
     "output_type": "stream",
     "text": [
      "epoch:  0 loss:  1.5111454725265503\n"
     ]
    },
    {
     "name": "stderr",
     "output_type": "stream",
     "text": [
      "100%|██████████| 5/5 [00:01<00:00,  3.94it/s]\n",
      "/root/.local/lib/python3.7/site-packages/sklearn/metrics/_classification.py:1318: UndefinedMetricWarning: Precision and F-score are ill-defined and being set to 0.0 in labels with no predicted samples. Use `zero_division` parameter to control this behavior.\n",
      "  _warn_prf(average, modifier, msg_start, len(result))\n",
      "/root/.local/lib/python3.7/site-packages/sklearn/metrics/_classification.py:1318: UndefinedMetricWarning: Precision and F-score are ill-defined and being set to 0.0 in labels with no predicted samples. Use `zero_division` parameter to control this behavior.\n",
      "  _warn_prf(average, modifier, msg_start, len(result))\n",
      "/root/.local/lib/python3.7/site-packages/sklearn/metrics/_classification.py:1318: UndefinedMetricWarning: Precision and F-score are ill-defined and being set to 0.0 in labels with no predicted samples. Use `zero_division` parameter to control this behavior.\n",
      "  _warn_prf(average, modifier, msg_start, len(result))\n"
     ]
    },
    {
     "name": "stdout",
     "output_type": "stream",
     "text": [
      "              precision    recall  f1-score   support\n",
      "\n",
      "           0       0.00      0.00      0.00        15\n",
      "           1       0.00      0.00      0.00        23\n",
      "           2       0.00      0.00      0.00        35\n",
      "           3       0.23      1.00      0.37        32\n",
      "           4       0.00      0.00      0.00        35\n",
      "\n",
      "    accuracy                           0.23       140\n",
      "   macro avg       0.05      0.20      0.07       140\n",
      "weighted avg       0.05      0.23      0.09       140\n",
      "\n"
     ]
    },
    {
     "name": "stderr",
     "output_type": "stream",
     "text": [
      "  0%|          | 0/11 [00:00<?, ?it/s]"
     ]
    },
    {
     "name": "stdout",
     "output_type": "stream",
     "text": [
      "tensor([1, 2, 2, 3, 4, 1, 1, 1, 3, 0, 2, 0, 2, 3, 0, 4, 1, 2, 4, 2, 3, 4, 2, 1,\n",
      "        2, 2, 0, 1, 4, 3, 3, 2], device='cuda:0')\n"
     ]
    },
    {
     "name": "stderr",
     "output_type": "stream",
     "text": [
      "  9%|▉         | 1/11 [00:00<00:05,  1.74it/s]"
     ]
    },
    {
     "name": "stdout",
     "output_type": "stream",
     "text": [
      "epoch:  1 loss:  1.5418375730514526\n",
      "tensor([2, 4, 3, 4, 2, 2, 1, 3, 0, 3, 3, 3, 3, 3, 2, 2, 3, 3, 3, 1, 3, 3, 1, 3,\n",
      "        1, 2, 2, 2, 3, 3, 4, 1], device='cuda:0')\n"
     ]
    },
    {
     "name": "stderr",
     "output_type": "stream",
     "text": [
      " 18%|█▊        | 2/11 [00:01<00:05,  1.63it/s]"
     ]
    },
    {
     "name": "stdout",
     "output_type": "stream",
     "text": [
      "epoch:  1 loss:  1.2541155815124512\n",
      "tensor([2, 1, 0, 4, 1, 0, 4, 2, 0, 1, 0, 1, 3, 4, 3, 1, 0, 1, 3, 1, 0, 3, 0, 4,\n",
      "        1, 2, 3, 4, 0, 2, 3, 1], device='cuda:0')\n"
     ]
    },
    {
     "name": "stderr",
     "output_type": "stream",
     "text": [
      " 27%|██▋       | 3/11 [00:02<00:05,  1.37it/s]"
     ]
    },
    {
     "name": "stdout",
     "output_type": "stream",
     "text": [
      "epoch:  1 loss:  1.5355048179626465\n",
      "tensor([2, 1, 4, 2, 2, 2, 4, 2, 3, 3, 0, 4, 3, 2, 3, 1, 2, 1, 4, 0, 2, 2, 4, 4,\n",
      "        2, 1, 4, 0, 2, 3, 1, 4], device='cuda:0')\n"
     ]
    },
    {
     "name": "stderr",
     "output_type": "stream",
     "text": [
      " 36%|███▋      | 4/11 [00:02<00:05,  1.26it/s]"
     ]
    },
    {
     "name": "stdout",
     "output_type": "stream",
     "text": [
      "epoch:  1 loss:  1.3967156410217285\n",
      "tensor([1, 3, 3, 1, 3, 3, 4, 1, 3, 3, 3, 1, 2, 2, 2, 1, 0, 4, 2, 3, 2, 0, 2, 3,\n",
      "        0, 2, 0, 1, 3, 1, 2, 2], device='cuda:0')\n"
     ]
    },
    {
     "name": "stderr",
     "output_type": "stream",
     "text": [
      " 45%|████▌     | 5/11 [00:03<00:04,  1.28it/s]"
     ]
    },
    {
     "name": "stdout",
     "output_type": "stream",
     "text": [
      "epoch:  1 loss:  1.246167540550232\n",
      "tensor([2, 4, 2, 3, 0, 4, 2, 4, 3, 3, 1, 3, 2, 4, 4, 2, 1, 1, 0, 4, 0, 3, 4, 2,\n",
      "        2, 2, 3, 3, 3, 0, 2, 4], device='cuda:0')\n"
     ]
    },
    {
     "name": "stderr",
     "output_type": "stream",
     "text": [
      " 55%|█████▍    | 6/11 [00:04<00:03,  1.28it/s]"
     ]
    },
    {
     "name": "stdout",
     "output_type": "stream",
     "text": [
      "epoch:  1 loss:  1.449560523033142\n",
      "tensor([2, 1, 0, 4, 0, 2, 2, 3, 2, 3, 4, 0, 0, 2, 1, 1, 3, 3, 4, 4, 4, 1, 3, 2,\n",
      "        3, 2, 4, 3, 4, 2, 3, 1], device='cuda:0')\n"
     ]
    },
    {
     "name": "stderr",
     "output_type": "stream",
     "text": [
      " 64%|██████▎   | 7/11 [00:05<00:03,  1.24it/s]"
     ]
    },
    {
     "name": "stdout",
     "output_type": "stream",
     "text": [
      "epoch:  1 loss:  1.298372745513916\n",
      "tensor([3, 1, 0, 3, 4, 3, 4, 3, 4, 3, 1, 3, 4, 0, 3, 4, 3, 2, 1, 3, 4, 4, 1, 4,\n",
      "        3, 1, 2, 0, 2, 2, 3, 3], device='cuda:0')\n"
     ]
    },
    {
     "name": "stderr",
     "output_type": "stream",
     "text": [
      " 73%|███████▎  | 8/11 [00:06<00:02,  1.27it/s]"
     ]
    },
    {
     "name": "stdout",
     "output_type": "stream",
     "text": [
      "epoch:  1 loss:  1.3348865509033203\n",
      "tensor([2, 2, 3, 3, 2, 4, 3, 2, 2, 3, 4, 3, 2, 3, 1, 3, 2, 4, 1, 4, 1, 4, 3, 3,\n",
      "        4, 2, 1, 2, 2, 2, 2, 4], device='cuda:0')\n"
     ]
    },
    {
     "name": "stderr",
     "output_type": "stream",
     "text": [
      " 82%|████████▏ | 9/11 [00:06<00:01,  1.28it/s]"
     ]
    },
    {
     "name": "stdout",
     "output_type": "stream",
     "text": [
      "epoch:  1 loss:  1.123318076133728\n",
      "tensor([4, 1, 4, 2, 3, 3, 2, 4, 4, 1, 2, 4, 2, 0, 4, 4, 0, 4, 1, 4, 1, 2, 3, 4,\n",
      "        3, 0, 4, 0, 2, 3, 4, 2], device='cuda:0')\n"
     ]
    },
    {
     "name": "stderr",
     "output_type": "stream",
     "text": [
      " 91%|█████████ | 10/11 [00:07<00:00,  1.23it/s]"
     ]
    },
    {
     "name": "stdout",
     "output_type": "stream",
     "text": [
      "epoch:  1 loss:  1.2012994289398193\n",
      "tensor([3, 1, 2, 3, 0, 2], device='cuda:0')\n"
     ]
    },
    {
     "name": "stderr",
     "output_type": "stream",
     "text": [
      "100%|██████████| 11/11 [00:08<00:00,  1.35it/s]\n"
     ]
    },
    {
     "name": "stdout",
     "output_type": "stream",
     "text": [
      "epoch:  1 loss:  1.2662519216537476\n"
     ]
    },
    {
     "name": "stderr",
     "output_type": "stream",
     "text": [
      "100%|██████████| 5/5 [00:01<00:00,  3.92it/s]\n",
      "/root/.local/lib/python3.7/site-packages/sklearn/metrics/_classification.py:1318: UndefinedMetricWarning: Precision and F-score are ill-defined and being set to 0.0 in labels with no predicted samples. Use `zero_division` parameter to control this behavior.\n",
      "  _warn_prf(average, modifier, msg_start, len(result))\n",
      "/root/.local/lib/python3.7/site-packages/sklearn/metrics/_classification.py:1318: UndefinedMetricWarning: Precision and F-score are ill-defined and being set to 0.0 in labels with no predicted samples. Use `zero_division` parameter to control this behavior.\n",
      "  _warn_prf(average, modifier, msg_start, len(result))\n",
      "/root/.local/lib/python3.7/site-packages/sklearn/metrics/_classification.py:1318: UndefinedMetricWarning: Precision and F-score are ill-defined and being set to 0.0 in labels with no predicted samples. Use `zero_division` parameter to control this behavior.\n",
      "  _warn_prf(average, modifier, msg_start, len(result))\n"
     ]
    },
    {
     "name": "stdout",
     "output_type": "stream",
     "text": [
      "              precision    recall  f1-score   support\n",
      "\n",
      "           0       0.00      0.00      0.00        15\n",
      "           1       0.29      0.09      0.13        23\n",
      "           2       0.27      0.43      0.33        35\n",
      "           3       0.29      0.16      0.20        32\n",
      "           4       0.39      0.69      0.50        35\n",
      "\n",
      "    accuracy                           0.33       140\n",
      "   macro avg       0.25      0.27      0.23       140\n",
      "weighted avg       0.28      0.33      0.28       140\n",
      "\n"
     ]
    },
    {
     "name": "stderr",
     "output_type": "stream",
     "text": [
      "  0%|          | 0/11 [00:00<?, ?it/s]"
     ]
    },
    {
     "name": "stdout",
     "output_type": "stream",
     "text": [
      "tensor([1, 3, 2, 0, 4, 1, 4, 3, 2, 3, 4, 4, 3, 1, 4, 2, 3, 4, 0, 0, 1, 2, 3, 2,\n",
      "        3, 2, 0, 4, 3, 3, 3, 4], device='cuda:0')\n"
     ]
    },
    {
     "name": "stderr",
     "output_type": "stream",
     "text": [
      "  9%|▉         | 1/11 [00:00<00:05,  1.72it/s]"
     ]
    },
    {
     "name": "stdout",
     "output_type": "stream",
     "text": [
      "epoch:  2 loss:  1.010979175567627\n",
      "tensor([0, 2, 3, 3, 4, 4, 1, 2, 3, 2, 4, 1, 4, 2, 2, 3, 2, 2, 2, 3, 2, 0, 1, 4,\n",
      "        1, 4, 1, 0, 2, 3, 0, 0], device='cuda:0')\n"
     ]
    },
    {
     "name": "stderr",
     "output_type": "stream",
     "text": [
      " 18%|█▊        | 2/11 [00:01<00:06,  1.48it/s]"
     ]
    },
    {
     "name": "stdout",
     "output_type": "stream",
     "text": [
      "epoch:  2 loss:  1.029964804649353\n",
      "tensor([3, 0, 1, 0, 0, 1, 0, 2, 2, 4, 1, 2, 0, 1, 3, 3, 3, 2, 2, 4, 3, 3, 2, 0,\n",
      "        1, 2, 2, 4, 0, 1, 2, 1], device='cuda:0')\n"
     ]
    },
    {
     "name": "stderr",
     "output_type": "stream",
     "text": [
      " 27%|██▋       | 3/11 [00:02<00:06,  1.32it/s]"
     ]
    },
    {
     "name": "stdout",
     "output_type": "stream",
     "text": [
      "epoch:  2 loss:  1.06698739528656\n",
      "tensor([4, 1, 3, 1, 3, 4, 3, 2, 3, 4, 1, 2, 3, 2, 4, 3, 2, 1, 2, 3, 2, 2, 3, 2,\n",
      "        2, 4, 2, 2, 0, 4, 1, 2], device='cuda:0')\n"
     ]
    },
    {
     "name": "stderr",
     "output_type": "stream",
     "text": [
      " 36%|███▋      | 4/11 [00:03<00:05,  1.24it/s]"
     ]
    },
    {
     "name": "stdout",
     "output_type": "stream",
     "text": [
      "epoch:  2 loss:  1.0530134439468384\n",
      "tensor([3, 2, 4, 1, 0, 2, 4, 4, 3, 1, 0, 2, 3, 3, 2, 4, 1, 3, 4, 1, 4, 4, 4, 0,\n",
      "        0, 1, 3, 4, 2, 1, 3, 1], device='cuda:0')\n"
     ]
    },
    {
     "name": "stderr",
     "output_type": "stream",
     "text": [
      " 45%|████▌     | 5/11 [00:03<00:04,  1.26it/s]"
     ]
    },
    {
     "name": "stdout",
     "output_type": "stream",
     "text": [
      "epoch:  2 loss:  0.9793497920036316\n",
      "tensor([1, 3, 3, 2, 4, 1, 2, 3, 3, 3, 3, 4, 1, 2, 2, 2, 1, 4, 3, 4, 3, 4, 4, 1,\n",
      "        2, 2, 1, 3, 2, 4, 4, 2], device='cuda:0')\n"
     ]
    },
    {
     "name": "stderr",
     "output_type": "stream",
     "text": [
      " 55%|█████▍    | 6/11 [00:04<00:03,  1.29it/s]"
     ]
    },
    {
     "name": "stdout",
     "output_type": "stream",
     "text": [
      "epoch:  2 loss:  0.8412622213363647\n",
      "tensor([2, 3, 2, 4, 1, 1, 4, 3, 4, 3, 3, 2, 0, 4, 1, 2, 2, 2, 3, 3, 4, 4, 2, 2,\n",
      "        4, 3, 4, 4, 0, 3, 3, 4], device='cuda:0')\n"
     ]
    },
    {
     "name": "stderr",
     "output_type": "stream",
     "text": [
      " 64%|██████▎   | 7/11 [00:05<00:03,  1.24it/s]"
     ]
    },
    {
     "name": "stdout",
     "output_type": "stream",
     "text": [
      "epoch:  2 loss:  0.7685455679893494\n",
      "tensor([4, 3, 0, 3, 4, 2, 1, 0, 2, 1, 3, 3, 3, 1, 0, 2, 3, 2, 2, 4, 3, 2, 1, 2,\n",
      "        4, 3, 1, 4, 3, 3, 3, 3], device='cuda:0')\n"
     ]
    },
    {
     "name": "stderr",
     "output_type": "stream",
     "text": [
      " 73%|███████▎  | 8/11 [00:06<00:02,  1.26it/s]"
     ]
    },
    {
     "name": "stdout",
     "output_type": "stream",
     "text": [
      "epoch:  2 loss:  0.8005179166793823\n",
      "tensor([4, 3, 4, 0, 1, 4, 2, 3, 1, 1, 1, 3, 0, 2, 3, 3, 3, 2, 2, 4, 1, 2, 3, 3,\n",
      "        2, 3, 0, 4, 1, 3, 2, 4], device='cuda:0')\n"
     ]
    },
    {
     "name": "stderr",
     "output_type": "stream",
     "text": [
      " 82%|████████▏ | 9/11 [00:07<00:01,  1.23it/s]"
     ]
    },
    {
     "name": "stdout",
     "output_type": "stream",
     "text": [
      "epoch:  2 loss:  0.911045253276825\n",
      "tensor([2, 1, 3, 0, 3, 1, 4, 0, 2, 3, 1, 3, 2, 4, 0, 3, 2, 2, 2, 3, 2, 1, 1, 2,\n",
      "        3, 3, 0, 4, 1, 4, 0, 2], device='cuda:0')\n"
     ]
    },
    {
     "name": "stderr",
     "output_type": "stream",
     "text": [
      " 91%|█████████ | 10/11 [00:07<00:00,  1.26it/s]"
     ]
    },
    {
     "name": "stdout",
     "output_type": "stream",
     "text": [
      "epoch:  2 loss:  0.9559375047683716\n",
      "tensor([0, 0, 3, 2, 2, 1], device='cuda:0')\n"
     ]
    },
    {
     "name": "stderr",
     "output_type": "stream",
     "text": [
      "100%|██████████| 11/11 [00:08<00:00,  1.34it/s]\n"
     ]
    },
    {
     "name": "stdout",
     "output_type": "stream",
     "text": [
      "epoch:  2 loss:  0.7509174942970276\n"
     ]
    },
    {
     "name": "stderr",
     "output_type": "stream",
     "text": [
      "100%|██████████| 5/5 [00:01<00:00,  3.69it/s]\n"
     ]
    },
    {
     "name": "stdout",
     "output_type": "stream",
     "text": [
      "              precision    recall  f1-score   support\n",
      "\n",
      "           0       1.00      0.20      0.33        15\n",
      "           1       0.20      0.22      0.21        23\n",
      "           2       0.29      0.46      0.35        35\n",
      "           3       0.44      0.53      0.48        32\n",
      "           4       0.59      0.29      0.38        35\n",
      "\n",
      "    accuracy                           0.36       140\n",
      "   macro avg       0.50      0.34      0.35       140\n",
      "weighted avg       0.46      0.36      0.36       140\n",
      "\n"
     ]
    },
    {
     "name": "stderr",
     "output_type": "stream",
     "text": [
      "  0%|          | 0/11 [00:00<?, ?it/s]"
     ]
    },
    {
     "name": "stdout",
     "output_type": "stream",
     "text": [
      "tensor([3, 0, 2, 0, 4, 2, 1, 1, 2, 4, 1, 4, 3, 2, 3, 1, 4, 3, 1, 3, 2, 1, 2, 2,\n",
      "        3, 2, 0, 3, 3, 1, 1, 3], device='cuda:0')\n"
     ]
    },
    {
     "name": "stderr",
     "output_type": "stream",
     "text": [
      "  9%|▉         | 1/11 [00:00<00:06,  1.66it/s]"
     ]
    },
    {
     "name": "stdout",
     "output_type": "stream",
     "text": [
      "epoch:  3 loss:  0.6214391589164734\n",
      "tensor([2, 4, 2, 3, 1, 0, 1, 2, 4, 3, 4, 3, 3, 1, 3, 3, 4, 1, 1, 4, 0, 4, 3, 2,\n",
      "        0, 2, 4, 1, 4, 3, 2, 1], device='cuda:0')\n"
     ]
    },
    {
     "name": "stderr",
     "output_type": "stream",
     "text": [
      " 18%|█▊        | 2/11 [00:01<00:05,  1.61it/s]"
     ]
    },
    {
     "name": "stdout",
     "output_type": "stream",
     "text": [
      "epoch:  3 loss:  0.6088160276412964\n",
      "tensor([4, 1, 4, 0, 1, 3, 2, 2, 3, 1, 0, 2, 0, 3, 4, 3, 1, 2, 3, 2, 0, 3, 2, 0,\n",
      "        2, 3, 2, 1, 3, 2, 0, 2], device='cuda:0')\n"
     ]
    },
    {
     "name": "stderr",
     "output_type": "stream",
     "text": [
      " 27%|██▋       | 3/11 [00:02<00:05,  1.36it/s]"
     ]
    },
    {
     "name": "stdout",
     "output_type": "stream",
     "text": [
      "epoch:  3 loss:  0.7004678845405579\n",
      "tensor([4, 2, 3, 1, 2, 1, 4, 3, 1, 4, 3, 4, 2, 2, 2, 4, 1, 4, 4, 3, 3, 3, 3, 3,\n",
      "        0, 3, 2, 4, 2, 4, 2, 4], device='cuda:0')\n"
     ]
    },
    {
     "name": "stderr",
     "output_type": "stream",
     "text": [
      " 36%|███▋      | 4/11 [00:02<00:05,  1.27it/s]"
     ]
    },
    {
     "name": "stdout",
     "output_type": "stream",
     "text": [
      "epoch:  3 loss:  0.5167711973190308\n",
      "tensor([3, 2, 2, 0, 4, 2, 2, 3, 0, 4, 4, 4, 4, 2, 0, 4, 4, 0, 2, 3, 3, 3, 3, 1,\n",
      "        0, 3, 1, 0, 4, 4, 3, 3], device='cuda:0')\n"
     ]
    },
    {
     "name": "stderr",
     "output_type": "stream",
     "text": [
      " 45%|████▌     | 5/11 [00:03<00:04,  1.29it/s]"
     ]
    },
    {
     "name": "stdout",
     "output_type": "stream",
     "text": [
      "epoch:  3 loss:  0.45053499937057495\n",
      "tensor([1, 2, 2, 1, 4, 3, 0, 4, 4, 1, 2, 2, 3, 3, 2, 2, 2, 3, 3, 4, 4, 3, 0, 2,\n",
      "        2, 3, 0, 0, 0, 4, 4, 2], device='cuda:0')\n"
     ]
    },
    {
     "name": "stderr",
     "output_type": "stream",
     "text": [
      " 55%|█████▍    | 6/11 [00:04<00:03,  1.29it/s]"
     ]
    },
    {
     "name": "stdout",
     "output_type": "stream",
     "text": [
      "epoch:  3 loss:  0.46189481019973755\n",
      "tensor([2, 1, 3, 4, 2, 2, 3, 4, 2, 4, 4, 2, 4, 4, 0, 3, 1, 4, 3, 2, 3, 3, 2, 2,\n",
      "        2, 3, 1, 0, 1, 3, 4, 2], device='cuda:0')\n"
     ]
    },
    {
     "name": "stderr",
     "output_type": "stream",
     "text": [
      " 64%|██████▎   | 7/11 [00:05<00:03,  1.30it/s]"
     ]
    },
    {
     "name": "stdout",
     "output_type": "stream",
     "text": [
      "epoch:  3 loss:  0.4377031922340393\n",
      "tensor([2, 4, 1, 2, 1, 1, 3, 3, 3, 4, 0, 3, 2, 4, 0, 1, 2, 1, 2, 2, 2, 2, 4, 1,\n",
      "        3, 1, 3, 2, 2, 3, 3, 4], device='cuda:0')\n"
     ]
    },
    {
     "name": "stderr",
     "output_type": "stream",
     "text": [
      " 73%|███████▎  | 8/11 [00:06<00:02,  1.24it/s]"
     ]
    },
    {
     "name": "stdout",
     "output_type": "stream",
     "text": [
      "epoch:  3 loss:  0.45351696014404297\n",
      "tensor([2, 3, 2, 2, 3, 2, 4, 1, 3, 2, 1, 3, 2, 1, 0, 1, 4, 0, 2, 3, 0, 3, 3, 3,\n",
      "        4, 2, 4, 3, 3, 1, 1, 3], device='cuda:0')\n"
     ]
    },
    {
     "name": "stderr",
     "output_type": "stream",
     "text": [
      " 82%|████████▏ | 9/11 [00:06<00:01,  1.27it/s]"
     ]
    },
    {
     "name": "stdout",
     "output_type": "stream",
     "text": [
      "epoch:  3 loss:  0.44869109988212585\n",
      "tensor([2, 1, 4, 2, 3, 4, 4, 3, 4, 1, 1, 0, 3, 4, 0, 1, 1, 2, 3, 2, 1, 1, 4, 0,\n",
      "        0, 3, 2, 3, 2, 1, 4, 3], device='cuda:0')\n"
     ]
    },
    {
     "name": "stderr",
     "output_type": "stream",
     "text": [
      " 91%|█████████ | 10/11 [00:07<00:00,  1.23it/s]"
     ]
    },
    {
     "name": "stdout",
     "output_type": "stream",
     "text": [
      "epoch:  3 loss:  0.4393433630466461\n",
      "tensor([1, 2, 3, 3, 0, 2], device='cuda:0')\n"
     ]
    },
    {
     "name": "stderr",
     "output_type": "stream",
     "text": [
      "100%|██████████| 11/11 [00:08<00:00,  1.35it/s]\n"
     ]
    },
    {
     "name": "stdout",
     "output_type": "stream",
     "text": [
      "epoch:  3 loss:  0.2874082326889038\n"
     ]
    },
    {
     "name": "stderr",
     "output_type": "stream",
     "text": [
      "100%|██████████| 5/5 [00:01<00:00,  3.68it/s]\n"
     ]
    },
    {
     "name": "stdout",
     "output_type": "stream",
     "text": [
      "              precision    recall  f1-score   support\n",
      "\n",
      "           0       1.00      0.20      0.33        15\n",
      "           1       0.24      0.17      0.20        23\n",
      "           2       0.29      0.43      0.35        35\n",
      "           3       0.38      0.56      0.45        32\n",
      "           4       0.67      0.40      0.50        35\n",
      "\n",
      "    accuracy                           0.39       140\n",
      "   macro avg       0.51      0.35      0.37       140\n",
      "weighted avg       0.47      0.39      0.38       140\n",
      "\n"
     ]
    },
    {
     "name": "stderr",
     "output_type": "stream",
     "text": [
      "  0%|          | 0/11 [00:00<?, ?it/s]"
     ]
    },
    {
     "name": "stdout",
     "output_type": "stream",
     "text": [
      "tensor([3, 0, 0, 4, 4, 3, 2, 3, 3, 0, 2, 3, 4, 1, 0, 4, 1, 0, 2, 3, 3, 3, 2, 1,\n",
      "        1, 0, 2, 2, 3, 1, 2, 1], device='cuda:0')\n"
     ]
    },
    {
     "name": "stderr",
     "output_type": "stream",
     "text": [
      "  9%|▉         | 1/11 [00:00<00:06,  1.63it/s]"
     ]
    },
    {
     "name": "stdout",
     "output_type": "stream",
     "text": [
      "epoch:  4 loss:  0.29607027769088745\n",
      "tensor([3, 3, 2, 2, 0, 3, 0, 2, 1, 0, 1, 1, 4, 2, 4, 1, 3, 2, 3, 3, 3, 2, 4, 2,\n",
      "        4, 0, 3, 4, 4, 3, 2, 3], device='cuda:0')\n"
     ]
    },
    {
     "name": "stderr",
     "output_type": "stream",
     "text": [
      " 18%|█▊        | 2/11 [00:01<00:05,  1.59it/s]"
     ]
    },
    {
     "name": "stdout",
     "output_type": "stream",
     "text": [
      "epoch:  4 loss:  0.2401265799999237\n",
      "tensor([1, 2, 1, 4, 4, 3, 3, 3, 1, 3, 1, 3, 2, 4, 3, 2, 4, 2, 2, 3, 1, 1, 3, 1,\n",
      "        1, 1, 3, 4, 2, 2, 3, 2], device='cuda:0')\n"
     ]
    },
    {
     "name": "stderr",
     "output_type": "stream",
     "text": [
      " 27%|██▋       | 3/11 [00:02<00:05,  1.36it/s]"
     ]
    },
    {
     "name": "stdout",
     "output_type": "stream",
     "text": [
      "epoch:  4 loss:  0.19556696712970734\n",
      "tensor([4, 3, 2, 2, 4, 4, 0, 2, 3, 2, 3, 4, 1, 2, 3, 3, 2, 0, 2, 4, 1, 3, 2, 3,\n",
      "        3, 3, 3, 0, 3, 4, 1, 2], device='cuda:0')\n"
     ]
    },
    {
     "name": "stderr",
     "output_type": "stream",
     "text": [
      " 36%|███▋      | 4/11 [00:02<00:05,  1.27it/s]"
     ]
    },
    {
     "name": "stdout",
     "output_type": "stream",
     "text": [
      "epoch:  4 loss:  0.17286179959774017\n",
      "tensor([4, 3, 2, 2, 2, 1, 3, 0, 2, 2, 3, 2, 1, 2, 3, 3, 1, 3, 0, 2, 1, 1, 2, 4,\n",
      "        0, 3, 1, 2, 1, 1, 0, 1], device='cuda:0')\n"
     ]
    },
    {
     "name": "stderr",
     "output_type": "stream",
     "text": [
      " 45%|████▌     | 5/11 [00:03<00:04,  1.28it/s]"
     ]
    },
    {
     "name": "stdout",
     "output_type": "stream",
     "text": [
      "epoch:  4 loss:  0.22153812646865845\n",
      "tensor([3, 4, 2, 0, 4, 2, 1, 4, 0, 3, 4, 2, 4, 1, 3, 3, 3, 2, 2, 4, 1, 2, 2, 1,\n",
      "        4, 0, 4, 2, 4, 0, 3, 2], device='cuda:0')\n"
     ]
    },
    {
     "name": "stderr",
     "output_type": "stream",
     "text": [
      " 55%|█████▍    | 6/11 [00:04<00:03,  1.30it/s]"
     ]
    },
    {
     "name": "stdout",
     "output_type": "stream",
     "text": [
      "epoch:  4 loss:  0.21809524297714233\n",
      "tensor([4, 3, 2, 2, 3, 2, 3, 1, 2, 4, 1, 2, 3, 1, 0, 2, 0, 0, 3, 1, 2, 2, 1, 3,\n",
      "        1, 1, 1, 4, 4, 3, 1, 4], device='cuda:0')\n"
     ]
    },
    {
     "name": "stderr",
     "output_type": "stream",
     "text": [
      " 64%|██████▎   | 7/11 [00:05<00:03,  1.25it/s]"
     ]
    },
    {
     "name": "stdout",
     "output_type": "stream",
     "text": [
      "epoch:  4 loss:  0.13648925721645355\n",
      "tensor([2, 1, 4, 2, 1, 4, 0, 0, 4, 1, 2, 3, 2, 3, 3, 2, 0, 4, 4, 4, 2, 2, 3, 4,\n",
      "        4, 0, 4, 1, 3, 4, 2, 3], device='cuda:0')\n"
     ]
    },
    {
     "name": "stderr",
     "output_type": "stream",
     "text": [
      " 73%|███████▎  | 8/11 [00:06<00:02,  1.22it/s]"
     ]
    },
    {
     "name": "stdout",
     "output_type": "stream",
     "text": [
      "epoch:  4 loss:  0.12505464255809784\n",
      "tensor([2, 4, 3, 2, 0, 2, 2, 3, 4, 2, 4, 3, 4, 1, 2, 1, 3, 3, 2, 0, 3, 2, 4, 4,\n",
      "        1, 1, 3, 4, 2, 4, 0, 2], device='cuda:0')\n"
     ]
    },
    {
     "name": "stderr",
     "output_type": "stream",
     "text": [
      " 82%|████████▏ | 9/11 [00:07<00:01,  1.24it/s]"
     ]
    },
    {
     "name": "stdout",
     "output_type": "stream",
     "text": [
      "epoch:  4 loss:  0.1462334245443344\n",
      "tensor([4, 4, 0, 0, 3, 3, 3, 4, 2, 4, 2, 4, 4, 2, 3, 0, 3, 3, 2, 0, 4, 1, 2, 3,\n",
      "        4, 4, 3, 1, 3, 0, 4, 3], device='cuda:0')\n"
     ]
    },
    {
     "name": "stderr",
     "output_type": "stream",
     "text": [
      " 91%|█████████ | 10/11 [00:07<00:00,  1.21it/s]"
     ]
    },
    {
     "name": "stdout",
     "output_type": "stream",
     "text": [
      "epoch:  4 loss:  0.12334317713975906\n",
      "tensor([2, 1, 3, 3, 2, 3], device='cuda:0')\n"
     ]
    },
    {
     "name": "stderr",
     "output_type": "stream",
     "text": [
      "100%|██████████| 11/11 [00:08<00:00,  1.33it/s]\n"
     ]
    },
    {
     "name": "stdout",
     "output_type": "stream",
     "text": [
      "epoch:  4 loss:  0.08659953624010086\n"
     ]
    },
    {
     "name": "stderr",
     "output_type": "stream",
     "text": [
      "100%|██████████| 5/5 [00:01<00:00,  3.65it/s]\n"
     ]
    },
    {
     "name": "stdout",
     "output_type": "stream",
     "text": [
      "              precision    recall  f1-score   support\n",
      "\n",
      "           0       0.44      0.27      0.33        15\n",
      "           1       0.38      0.22      0.28        23\n",
      "           2       0.34      0.31      0.33        35\n",
      "           3       0.34      0.72      0.46        32\n",
      "           4       0.53      0.29      0.37        35\n",
      "\n",
      "    accuracy                           0.38       140\n",
      "   macro avg       0.41      0.36      0.35       140\n",
      "weighted avg       0.41      0.38      0.36       140\n",
      "\n"
     ]
    },
    {
     "name": "stderr",
     "output_type": "stream",
     "text": [
      "  0%|          | 0/11 [00:00<?, ?it/s]"
     ]
    },
    {
     "name": "stdout",
     "output_type": "stream",
     "text": [
      "tensor([3, 4, 0, 1, 1, 0, 3, 4, 3, 2, 2, 3, 3, 4, 1, 2, 1, 3, 2, 1, 1, 1, 4, 3,\n",
      "        4, 2, 4, 3, 1, 1, 4, 3], device='cuda:0')\n"
     ]
    },
    {
     "name": "stderr",
     "output_type": "stream",
     "text": [
      "  9%|▉         | 1/11 [00:00<00:05,  1.92it/s]"
     ]
    },
    {
     "name": "stdout",
     "output_type": "stream",
     "text": [
      "epoch:  5 loss:  0.10506501793861389\n",
      "tensor([2, 2, 1, 4, 3, 0, 0, 4, 4, 2, 2, 2, 2, 3, 1, 3, 1, 2, 3, 3, 1, 3, 2, 3,\n",
      "        2, 1, 0, 4, 0, 3, 2, 2], device='cuda:0')\n"
     ]
    },
    {
     "name": "stderr",
     "output_type": "stream",
     "text": [
      " 18%|█▊        | 2/11 [00:01<00:05,  1.54it/s]"
     ]
    },
    {
     "name": "stdout",
     "output_type": "stream",
     "text": [
      "epoch:  5 loss:  0.08362217992544174\n",
      "tensor([0, 3, 1, 4, 3, 1, 2, 2, 0, 4, 1, 1, 0, 4, 2, 2, 3, 4, 3, 4, 2, 2, 4, 3,\n",
      "        4, 1, 3, 2, 3, 2, 2, 2], device='cuda:0')\n"
     ]
    },
    {
     "name": "stderr",
     "output_type": "stream",
     "text": [
      " 27%|██▋       | 3/11 [00:02<00:05,  1.41it/s]"
     ]
    },
    {
     "name": "stdout",
     "output_type": "stream",
     "text": [
      "epoch:  5 loss:  0.0797804519534111\n",
      "tensor([3, 2, 3, 3, 1, 3, 4, 2, 3, 1, 2, 4, 4, 1, 3, 0, 2, 3, 3, 3, 1, 2, 2, 0,\n",
      "        1, 1, 4, 1, 1, 3, 4, 2], device='cuda:0')\n"
     ]
    },
    {
     "name": "stderr",
     "output_type": "stream",
     "text": [
      " 36%|███▋      | 4/11 [00:02<00:05,  1.29it/s]"
     ]
    },
    {
     "name": "stdout",
     "output_type": "stream",
     "text": [
      "epoch:  5 loss:  0.061452191323041916\n",
      "tensor([3, 1, 3, 3, 3, 3, 1, 4, 2, 2, 0, 4, 1, 1, 3, 1, 3, 3, 2, 2, 3, 1, 0, 0,\n",
      "        2, 2, 1, 1, 4, 2, 2, 2], device='cuda:0')\n"
     ]
    },
    {
     "name": "stderr",
     "output_type": "stream",
     "text": [
      " 45%|████▌     | 5/11 [00:03<00:04,  1.24it/s]"
     ]
    },
    {
     "name": "stdout",
     "output_type": "stream",
     "text": [
      "epoch:  5 loss:  0.06960848718881607\n",
      "tensor([1, 0, 4, 3, 4, 0, 1, 1, 3, 4, 2, 3, 4, 0, 4, 4, 2, 4, 0, 3, 2, 3, 3, 0,\n",
      "        1, 4, 3, 2, 4, 3, 3, 3], device='cuda:0')\n"
     ]
    },
    {
     "name": "stderr",
     "output_type": "stream",
     "text": [
      " 55%|█████▍    | 6/11 [00:04<00:03,  1.26it/s]"
     ]
    },
    {
     "name": "stdout",
     "output_type": "stream",
     "text": [
      "epoch:  5 loss:  0.06505687534809113\n",
      "tensor([3, 0, 2, 4, 0, 1, 0, 2, 4, 4, 3, 2, 4, 2, 2, 3, 3, 3, 2, 3, 4, 3, 2, 2,\n",
      "        3, 3, 3, 0, 4, 4, 0, 4], device='cuda:0')\n"
     ]
    },
    {
     "name": "stderr",
     "output_type": "stream",
     "text": [
      " 64%|██████▎   | 7/11 [00:05<00:03,  1.29it/s]"
     ]
    },
    {
     "name": "stdout",
     "output_type": "stream",
     "text": [
      "epoch:  5 loss:  0.06835941970348358\n",
      "tensor([2, 0, 3, 2, 4, 1, 4, 4, 2, 1, 1, 3, 1, 4, 2, 2, 2, 2, 4, 0, 3, 0, 4, 2,\n",
      "        3, 4, 3, 3, 3, 3, 0, 4], device='cuda:0')\n"
     ]
    },
    {
     "name": "stderr",
     "output_type": "stream",
     "text": [
      " 73%|███████▎  | 8/11 [00:06<00:02,  1.24it/s]"
     ]
    },
    {
     "name": "stdout",
     "output_type": "stream",
     "text": [
      "epoch:  5 loss:  0.05784387141466141\n",
      "tensor([3, 1, 2, 1, 3, 0, 4, 3, 3, 4, 2, 1, 0, 2, 3, 3, 4, 2, 2, 2, 2, 4, 2, 4,\n",
      "        2, 2, 3, 0, 4, 1, 0, 2], device='cuda:0')\n"
     ]
    },
    {
     "name": "stderr",
     "output_type": "stream",
     "text": [
      " 82%|████████▏ | 9/11 [00:07<00:01,  1.21it/s]"
     ]
    },
    {
     "name": "stdout",
     "output_type": "stream",
     "text": [
      "epoch:  5 loss:  0.05358033627271652\n",
      "tensor([3, 1, 3, 2, 4, 4, 4, 4, 3, 2, 4, 2, 0, 3, 2, 2, 2, 2, 1, 0, 3, 4, 0, 1,\n",
      "        4, 0, 2, 1, 1, 2, 3, 2], device='cuda:0')\n"
     ]
    },
    {
     "name": "stderr",
     "output_type": "stream",
     "text": [
      " 91%|█████████ | 10/11 [00:07<00:00,  1.24it/s]"
     ]
    },
    {
     "name": "stdout",
     "output_type": "stream",
     "text": [
      "epoch:  5 loss:  0.05034998804330826\n",
      "tensor([3, 1, 1, 2, 3, 4], device='cuda:0')\n"
     ]
    },
    {
     "name": "stderr",
     "output_type": "stream",
     "text": [
      "100%|██████████| 11/11 [00:08<00:00,  1.35it/s]\n"
     ]
    },
    {
     "name": "stdout",
     "output_type": "stream",
     "text": [
      "epoch:  5 loss:  0.03932081535458565\n"
     ]
    },
    {
     "name": "stderr",
     "output_type": "stream",
     "text": [
      "100%|██████████| 5/5 [00:01<00:00,  3.68it/s]\n"
     ]
    },
    {
     "name": "stdout",
     "output_type": "stream",
     "text": [
      "              precision    recall  f1-score   support\n",
      "\n",
      "           0       0.46      0.40      0.43        15\n",
      "           1       0.25      0.22      0.23        23\n",
      "           2       0.38      0.51      0.44        35\n",
      "           3       0.47      0.56      0.51        32\n",
      "           4       0.64      0.40      0.49        35\n",
      "\n",
      "    accuracy                           0.44       140\n",
      "   macro avg       0.44      0.42      0.42       140\n",
      "weighted avg       0.45      0.44      0.43       140\n",
      "\n"
     ]
    },
    {
     "name": "stderr",
     "output_type": "stream",
     "text": [
      "  0%|          | 0/11 [00:00<?, ?it/s]"
     ]
    },
    {
     "name": "stdout",
     "output_type": "stream",
     "text": [
      "tensor([0, 1, 2, 3, 0, 4, 0, 4, 0, 3, 1, 2, 3, 3, 3, 2, 3, 2, 1, 3, 1, 3, 2, 3,\n",
      "        1, 3, 2, 1, 2, 1, 4, 1], device='cuda:0')\n"
     ]
    },
    {
     "name": "stderr",
     "output_type": "stream",
     "text": [
      "  9%|▉         | 1/11 [00:00<00:05,  1.69it/s]"
     ]
    },
    {
     "name": "stdout",
     "output_type": "stream",
     "text": [
      "epoch:  6 loss:  0.04841122403740883\n",
      "tensor([4, 2, 1, 2, 3, 2, 2, 4, 4, 1, 4, 3, 4, 3, 1, 1, 0, 2, 2, 2, 0, 4, 2, 1,\n",
      "        2, 4, 4, 2, 3, 3, 3, 3], device='cuda:0')\n"
     ]
    },
    {
     "name": "stderr",
     "output_type": "stream",
     "text": [
      " 18%|█▊        | 2/11 [00:01<00:05,  1.61it/s]"
     ]
    },
    {
     "name": "stdout",
     "output_type": "stream",
     "text": [
      "epoch:  6 loss:  0.036847811192274094\n",
      "tensor([2, 4, 0, 4, 3, 3, 2, 0, 2, 2, 4, 2, 3, 4, 2, 1, 1, 1, 2, 2, 2, 4, 4, 0,\n",
      "        2, 3, 0, 4, 4, 4, 1, 4], device='cuda:0')\n"
     ]
    },
    {
     "name": "stderr",
     "output_type": "stream",
     "text": [
      " 27%|██▋       | 3/11 [00:02<00:05,  1.36it/s]"
     ]
    },
    {
     "name": "stdout",
     "output_type": "stream",
     "text": [
      "epoch:  6 loss:  0.03778797760605812\n",
      "tensor([3, 3, 2, 3, 1, 2, 3, 4, 3, 4, 2, 1, 2, 0, 2, 3, 1, 0, 4, 0, 3, 0, 3, 3,\n",
      "        4, 2, 2, 1, 1, 2, 1, 4], device='cuda:0')\n"
     ]
    },
    {
     "name": "stderr",
     "output_type": "stream",
     "text": [
      " 36%|███▋      | 4/11 [00:02<00:05,  1.27it/s]"
     ]
    },
    {
     "name": "stdout",
     "output_type": "stream",
     "text": [
      "epoch:  6 loss:  0.038542650640010834\n",
      "tensor([3, 2, 2, 2, 1, 1, 2, 3, 4, 3, 3, 3, 3, 1, 4, 3, 0, 0, 4, 0, 1, 1, 4, 3,\n",
      "        4, 0, 0, 2, 2, 3, 4, 1], device='cuda:0')\n"
     ]
    },
    {
     "name": "stderr",
     "output_type": "stream",
     "text": [
      " 45%|████▌     | 5/11 [00:03<00:04,  1.29it/s]"
     ]
    },
    {
     "name": "stdout",
     "output_type": "stream",
     "text": [
      "epoch:  6 loss:  0.03664977103471756\n",
      "tensor([2, 0, 3, 3, 1, 3, 4, 2, 3, 0, 0, 1, 3, 4, 3, 2, 3, 3, 4, 2, 3, 4, 2, 3,\n",
      "        4, 4, 4, 2, 3, 2, 4, 4], device='cuda:0')\n"
     ]
    },
    {
     "name": "stderr",
     "output_type": "stream",
     "text": [
      " 55%|█████▍    | 6/11 [00:04<00:04,  1.24it/s]"
     ]
    },
    {
     "name": "stdout",
     "output_type": "stream",
     "text": [
      "epoch:  6 loss:  0.034304194152355194\n",
      "tensor([3, 1, 1, 4, 4, 1, 1, 3, 3, 2, 2, 3, 2, 2, 1, 2, 3, 3, 1, 1, 1, 0, 4, 3,\n",
      "        2, 2, 2, 3, 3, 3, 3, 1], device='cuda:0')\n"
     ]
    },
    {
     "name": "stderr",
     "output_type": "stream",
     "text": [
      " 64%|██████▎   | 7/11 [00:05<00:03,  1.26it/s]"
     ]
    },
    {
     "name": "stdout",
     "output_type": "stream",
     "text": [
      "epoch:  6 loss:  0.025479065254330635\n",
      "tensor([1, 2, 2, 3, 2, 4, 4, 2, 2, 4, 3, 3, 4, 4, 3, 1, 3, 2, 4, 3, 3, 2, 2, 3,\n",
      "        2, 4, 0, 2, 3, 2, 2, 1], device='cuda:0')\n"
     ]
    },
    {
     "name": "stderr",
     "output_type": "stream",
     "text": [
      " 73%|███████▎  | 8/11 [00:06<00:02,  1.23it/s]"
     ]
    },
    {
     "name": "stdout",
     "output_type": "stream",
     "text": [
      "epoch:  6 loss:  0.022094806656241417\n",
      "tensor([3, 4, 1, 2, 1, 3, 2, 0, 0, 2, 2, 0, 4, 2, 2, 4, 1, 3, 3, 0, 3, 3, 2, 1,\n",
      "        0, 3, 2, 4, 2, 3, 4, 4], device='cuda:0')\n"
     ]
    },
    {
     "name": "stderr",
     "output_type": "stream",
     "text": [
      " 82%|████████▏ | 9/11 [00:06<00:01,  1.26it/s]"
     ]
    },
    {
     "name": "stdout",
     "output_type": "stream",
     "text": [
      "epoch:  6 loss:  0.02708655223250389\n",
      "tensor([4, 4, 0, 4, 4, 2, 3, 2, 1, 2, 4, 4, 3, 1, 1, 1, 0, 4, 0, 1, 2, 1, 3, 1,\n",
      "        0, 4, 3, 3, 2, 1, 0, 0], device='cuda:0')\n"
     ]
    },
    {
     "name": "stderr",
     "output_type": "stream",
     "text": [
      " 91%|█████████ | 10/11 [00:07<00:00,  1.22it/s]"
     ]
    },
    {
     "name": "stdout",
     "output_type": "stream",
     "text": [
      "epoch:  6 loss:  0.03388543426990509\n",
      "tensor([3, 0, 2, 2, 3, 3], device='cuda:0')\n"
     ]
    },
    {
     "name": "stderr",
     "output_type": "stream",
     "text": [
      "100%|██████████| 11/11 [00:08<00:00,  1.34it/s]\n"
     ]
    },
    {
     "name": "stdout",
     "output_type": "stream",
     "text": [
      "epoch:  6 loss:  0.018811631947755814\n"
     ]
    },
    {
     "name": "stderr",
     "output_type": "stream",
     "text": [
      "100%|██████████| 5/5 [00:01<00:00,  3.65it/s]\n"
     ]
    },
    {
     "name": "stdout",
     "output_type": "stream",
     "text": [
      "              precision    recall  f1-score   support\n",
      "\n",
      "           0       0.43      0.40      0.41        15\n",
      "           1       0.23      0.13      0.17        23\n",
      "           2       0.35      0.51      0.42        35\n",
      "           3       0.45      0.56      0.50        32\n",
      "           4       0.59      0.37      0.46        35\n",
      "\n",
      "    accuracy                           0.41       140\n",
      "   macro avg       0.41      0.40      0.39       140\n",
      "weighted avg       0.42      0.41      0.40       140\n",
      "\n"
     ]
    },
    {
     "name": "stderr",
     "output_type": "stream",
     "text": [
      "  0%|          | 0/11 [00:00<?, ?it/s]"
     ]
    },
    {
     "name": "stdout",
     "output_type": "stream",
     "text": [
      "tensor([0, 1, 0, 2, 2, 4, 3, 3, 2, 2, 3, 1, 4, 4, 3, 3, 4, 1, 0, 2, 3, 4, 2, 2,\n",
      "        1, 3, 3, 3, 2, 3, 2, 2], device='cuda:0')\n"
     ]
    },
    {
     "name": "stderr",
     "output_type": "stream",
     "text": [
      "  9%|▉         | 1/11 [00:00<00:06,  1.61it/s]"
     ]
    },
    {
     "name": "stdout",
     "output_type": "stream",
     "text": [
      "epoch:  7 loss:  0.021712204441428185\n",
      "tensor([4, 0, 1, 2, 3, 3, 1, 3, 4, 4, 3, 3, 1, 4, 2, 0, 1, 1, 2, 1, 4, 1, 4, 1,\n",
      "        3, 0, 4, 3, 2, 0, 1, 3], device='cuda:0')\n"
     ]
    },
    {
     "name": "stderr",
     "output_type": "stream",
     "text": [
      " 18%|█▊        | 2/11 [00:01<00:05,  1.60it/s]"
     ]
    },
    {
     "name": "stdout",
     "output_type": "stream",
     "text": [
      "epoch:  7 loss:  0.02715945616364479\n",
      "tensor([2, 3, 3, 1, 4, 2, 4, 3, 4, 3, 2, 3, 4, 3, 1, 2, 2, 3, 2, 2, 3, 2, 2, 4,\n",
      "        0, 1, 3, 2, 0, 4, 3, 0], device='cuda:0')\n"
     ]
    },
    {
     "name": "stderr",
     "output_type": "stream",
     "text": [
      " 27%|██▋       | 3/11 [00:02<00:05,  1.36it/s]"
     ]
    },
    {
     "name": "stdout",
     "output_type": "stream",
     "text": [
      "epoch:  7 loss:  0.02065804973244667\n",
      "tensor([4, 4, 2, 3, 1, 2, 2, 2, 2, 2, 2, 2, 4, 3, 3, 2, 0, 4, 1, 3, 2, 1, 2, 3,\n",
      "        4, 1, 2, 4, 1, 2, 2, 1], device='cuda:0')\n"
     ]
    },
    {
     "name": "stderr",
     "output_type": "stream",
     "text": [
      " 36%|███▋      | 4/11 [00:02<00:05,  1.27it/s]"
     ]
    },
    {
     "name": "stdout",
     "output_type": "stream",
     "text": [
      "epoch:  7 loss:  0.01877906732261181\n",
      "tensor([1, 2, 0, 3, 2, 3, 3, 1, 3, 2, 4, 0, 2, 3, 4, 3, 4, 3, 0, 3, 4, 4, 1, 3,\n",
      "        3, 2, 4, 2, 1, 0, 2, 3], device='cuda:0')\n"
     ]
    },
    {
     "name": "stderr",
     "output_type": "stream",
     "text": [
      " 45%|████▌     | 5/11 [00:03<00:04,  1.28it/s]"
     ]
    },
    {
     "name": "stdout",
     "output_type": "stream",
     "text": [
      "epoch:  7 loss:  0.020336385816335678\n",
      "tensor([1, 2, 2, 4, 2, 1, 3, 2, 4, 2, 4, 0, 1, 3, 3, 3, 4, 4, 1, 0, 2, 3, 0, 3,\n",
      "        4, 2, 2, 2, 0, 3, 2, 2], device='cuda:0')\n"
     ]
    },
    {
     "name": "stderr",
     "output_type": "stream",
     "text": [
      " 55%|█████▍    | 6/11 [00:04<00:03,  1.29it/s]"
     ]
    },
    {
     "name": "stdout",
     "output_type": "stream",
     "text": [
      "epoch:  7 loss:  0.0190835352987051\n",
      "tensor([1, 4, 0, 3, 3, 2, 1, 1, 0, 2, 4, 3, 3, 4, 3, 4, 2, 3, 2, 2, 1, 1, 3, 2,\n",
      "        1, 4, 3, 4, 2, 3, 0, 4], device='cuda:0')\n"
     ]
    },
    {
     "name": "stderr",
     "output_type": "stream",
     "text": [
      " 64%|██████▎   | 7/11 [00:05<00:03,  1.25it/s]"
     ]
    },
    {
     "name": "stdout",
     "output_type": "stream",
     "text": [
      "epoch:  7 loss:  0.019186925143003464\n",
      "tensor([3, 3, 3, 4, 4, 1, 1, 2, 3, 2, 3, 0, 4, 1, 0, 4, 1, 3, 0, 2, 3, 4, 0, 3,\n",
      "        4, 2, 1, 3, 3, 0, 4, 2], device='cuda:0')\n"
     ]
    },
    {
     "name": "stderr",
     "output_type": "stream",
     "text": [
      " 73%|███████▎  | 8/11 [00:06<00:02,  1.21it/s]"
     ]
    },
    {
     "name": "stdout",
     "output_type": "stream",
     "text": [
      "epoch:  7 loss:  0.02238672785460949\n",
      "tensor([2, 0, 4, 4, 3, 3, 4, 4, 2, 3, 0, 3, 2, 1, 2, 3, 3, 1, 2, 1, 1, 3, 2, 2,\n",
      "        0, 4, 1, 3, 1, 0, 2, 2], device='cuda:0')\n"
     ]
    },
    {
     "name": "stderr",
     "output_type": "stream",
     "text": [
      " 82%|████████▏ | 9/11 [00:07<00:01,  1.24it/s]"
     ]
    },
    {
     "name": "stdout",
     "output_type": "stream",
     "text": [
      "epoch:  7 loss:  0.01897462084889412\n",
      "tensor([4, 1, 2, 2, 3, 1, 4, 4, 3, 4, 4, 4, 2, 1, 0, 1, 3, 2, 3, 0, 1, 2, 1, 4,\n",
      "        1, 0, 0, 3, 4, 0, 3, 4], device='cuda:0')\n"
     ]
    },
    {
     "name": "stderr",
     "output_type": "stream",
     "text": [
      " 91%|█████████ | 10/11 [00:07<00:00,  1.21it/s]"
     ]
    },
    {
     "name": "stdout",
     "output_type": "stream",
     "text": [
      "epoch:  7 loss:  0.021074391901493073\n",
      "tensor([3, 2, 4, 2, 3, 1], device='cuda:0')\n"
     ]
    },
    {
     "name": "stderr",
     "output_type": "stream",
     "text": [
      "100%|██████████| 11/11 [00:08<00:00,  1.33it/s]\n"
     ]
    },
    {
     "name": "stdout",
     "output_type": "stream",
     "text": [
      "epoch:  7 loss:  0.011825093068182468\n"
     ]
    },
    {
     "name": "stderr",
     "output_type": "stream",
     "text": [
      "100%|██████████| 5/5 [00:01<00:00,  3.67it/s]\n"
     ]
    },
    {
     "name": "stdout",
     "output_type": "stream",
     "text": [
      "              precision    recall  f1-score   support\n",
      "\n",
      "           0       0.40      0.40      0.40        15\n",
      "           1       0.29      0.22      0.25        23\n",
      "           2       0.43      0.51      0.47        35\n",
      "           3       0.43      0.56      0.49        32\n",
      "           4       0.62      0.43      0.51        35\n",
      "\n",
      "    accuracy                           0.44       140\n",
      "   macro avg       0.44      0.42      0.42       140\n",
      "weighted avg       0.45      0.44      0.44       140\n",
      "\n"
     ]
    },
    {
     "name": "stderr",
     "output_type": "stream",
     "text": [
      "  0%|          | 0/11 [00:00<?, ?it/s]"
     ]
    },
    {
     "name": "stdout",
     "output_type": "stream",
     "text": [
      "tensor([0, 3, 3, 4, 1, 0, 0, 4, 1, 1, 2, 0, 0, 1, 2, 3, 3, 1, 4, 2, 4, 1, 4, 2,\n",
      "        0, 4, 3, 4, 3, 2, 2, 3], device='cuda:0')\n"
     ]
    },
    {
     "name": "stderr",
     "output_type": "stream",
     "text": [
      "  9%|▉         | 1/11 [00:00<00:06,  1.67it/s]"
     ]
    },
    {
     "name": "stdout",
     "output_type": "stream",
     "text": [
      "epoch:  8 loss:  0.018649227917194366\n",
      "tensor([0, 3, 2, 3, 0, 1, 0, 2, 1, 2, 2, 3, 2, 2, 1, 1, 4, 4, 4, 1, 2, 2, 3, 3,\n",
      "        4, 0, 4, 3, 3, 3, 3, 2], device='cuda:0')\n"
     ]
    },
    {
     "name": "stderr",
     "output_type": "stream",
     "text": [
      " 18%|█▊        | 2/11 [00:01<00:05,  1.58it/s]"
     ]
    },
    {
     "name": "stdout",
     "output_type": "stream",
     "text": [
      "epoch:  8 loss:  0.015830088406801224\n",
      "tensor([1, 2, 2, 3, 2, 2, 4, 3, 3, 1, 2, 1, 4, 3, 3, 0, 2, 3, 0, 4, 3, 3, 4, 2,\n",
      "        3, 3, 2, 0, 3, 3, 4, 0], device='cuda:0')\n"
     ]
    },
    {
     "name": "stderr",
     "output_type": "stream",
     "text": [
      " 27%|██▋       | 3/11 [00:02<00:05,  1.36it/s]"
     ]
    },
    {
     "name": "stdout",
     "output_type": "stream",
     "text": [
      "epoch:  8 loss:  0.015261802822351456\n",
      "tensor([1, 3, 3, 1, 1, 2, 2, 3, 2, 2, 0, 3, 2, 2, 3, 4, 4, 4, 3, 3, 4, 0, 3, 1,\n",
      "        0, 1, 3, 3, 0, 3, 2, 2], device='cuda:0')\n"
     ]
    },
    {
     "name": "stderr",
     "output_type": "stream",
     "text": [
      " 36%|███▋      | 4/11 [00:02<00:05,  1.33it/s]"
     ]
    },
    {
     "name": "stdout",
     "output_type": "stream",
     "text": [
      "epoch:  8 loss:  0.015988176688551903\n",
      "tensor([3, 3, 1, 1, 1, 2, 3, 2, 1, 2, 3, 2, 2, 1, 2, 1, 4, 0, 4, 4, 1, 2, 3, 4,\n",
      "        1, 4, 4, 1, 2, 4, 3, 2], device='cuda:0')\n"
     ]
    },
    {
     "name": "stderr",
     "output_type": "stream",
     "text": [
      " 45%|████▌     | 5/11 [00:03<00:04,  1.26it/s]"
     ]
    },
    {
     "name": "stdout",
     "output_type": "stream",
     "text": [
      "epoch:  8 loss:  0.014234321191906929\n",
      "tensor([4, 3, 2, 4, 2, 2, 1, 2, 2, 2, 1, 3, 4, 4, 2, 3, 0, 0, 3, 1, 4, 4, 0, 4,\n",
      "        0, 3, 2, 2, 4, 2, 2, 1], device='cuda:0')\n"
     ]
    },
    {
     "name": "stderr",
     "output_type": "stream",
     "text": [
      " 55%|█████▍    | 6/11 [00:04<00:03,  1.28it/s]"
     ]
    },
    {
     "name": "stdout",
     "output_type": "stream",
     "text": [
      "epoch:  8 loss:  0.015298941172659397\n",
      "tensor([2, 2, 2, 3, 4, 2, 3, 0, 2, 1, 4, 4, 3, 1, 1, 2, 0, 3, 4, 4, 0, 0, 4, 3,\n",
      "        1, 2, 0, 3, 2, 4, 4, 3], device='cuda:0')\n"
     ]
    },
    {
     "name": "stderr",
     "output_type": "stream",
     "text": [
      " 64%|██████▎   | 7/11 [00:05<00:03,  1.23it/s]"
     ]
    },
    {
     "name": "stdout",
     "output_type": "stream",
     "text": [
      "epoch:  8 loss:  0.014728372916579247\n",
      "tensor([2, 1, 2, 1, 2, 4, 4, 0, 3, 2, 0, 4, 2, 1, 2, 3, 2, 4, 4, 4, 3, 2, 1, 3,\n",
      "        3, 3, 1, 1, 4, 2, 3, 2], device='cuda:0')\n"
     ]
    },
    {
     "name": "stderr",
     "output_type": "stream",
     "text": [
      " 73%|███████▎  | 8/11 [00:06<00:02,  1.20it/s]"
     ]
    },
    {
     "name": "stdout",
     "output_type": "stream",
     "text": [
      "epoch:  8 loss:  0.013277019374072552\n",
      "tensor([4, 1, 2, 3, 3, 3, 1, 2, 1, 2, 3, 3, 0, 2, 3, 2, 1, 3, 3, 4, 2, 1, 4, 3,\n",
      "        4, 1, 1, 4, 4, 2, 3, 3], device='cuda:0')\n"
     ]
    },
    {
     "name": "stderr",
     "output_type": "stream",
     "text": [
      " 82%|████████▏ | 9/11 [00:07<00:01,  1.24it/s]"
     ]
    },
    {
     "name": "stdout",
     "output_type": "stream",
     "text": [
      "epoch:  8 loss:  0.012136012315750122\n",
      "tensor([3, 3, 3, 2, 4, 4, 2, 2, 2, 3, 1, 0, 3, 4, 4, 2, 4, 1, 0, 4, 1, 3, 0, 1,\n",
      "        2, 4, 3, 3, 3, 1, 1, 2], device='cuda:0')\n"
     ]
    },
    {
     "name": "stderr",
     "output_type": "stream",
     "text": [
      " 91%|█████████ | 10/11 [00:07<00:00,  1.20it/s]"
     ]
    },
    {
     "name": "stdout",
     "output_type": "stream",
     "text": [
      "epoch:  8 loss:  0.01368465181440115\n",
      "tensor([3, 0, 2, 0, 4, 3], device='cuda:0')\n"
     ]
    },
    {
     "name": "stderr",
     "output_type": "stream",
     "text": [
      "100%|██████████| 11/11 [00:08<00:00,  1.33it/s]\n"
     ]
    },
    {
     "name": "stdout",
     "output_type": "stream",
     "text": [
      "epoch:  8 loss:  0.020639054477214813\n"
     ]
    },
    {
     "name": "stderr",
     "output_type": "stream",
     "text": [
      "100%|██████████| 5/5 [00:01<00:00,  3.71it/s]\n"
     ]
    },
    {
     "name": "stdout",
     "output_type": "stream",
     "text": [
      "              precision    recall  f1-score   support\n",
      "\n",
      "           0       0.43      0.40      0.41        15\n",
      "           1       0.30      0.26      0.28        23\n",
      "           2       0.41      0.51      0.46        35\n",
      "           3       0.43      0.56      0.49        32\n",
      "           4       0.65      0.37      0.47        35\n",
      "\n",
      "    accuracy                           0.44       140\n",
      "   macro avg       0.44      0.42      0.42       140\n",
      "weighted avg       0.46      0.44      0.43       140\n",
      "\n"
     ]
    },
    {
     "name": "stderr",
     "output_type": "stream",
     "text": [
      "  0%|          | 0/11 [00:00<?, ?it/s]"
     ]
    },
    {
     "name": "stdout",
     "output_type": "stream",
     "text": [
      "tensor([2, 2, 2, 3, 4, 3, 2, 4, 4, 3, 3, 2, 3, 4, 3, 4, 3, 1, 2, 4, 1, 0, 3, 2,\n",
      "        4, 2, 4, 1, 4, 3, 0, 1], device='cuda:0')\n"
     ]
    },
    {
     "name": "stderr",
     "output_type": "stream",
     "text": [
      "  9%|▉         | 1/11 [00:00<00:05,  1.67it/s]"
     ]
    },
    {
     "name": "stdout",
     "output_type": "stream",
     "text": [
      "epoch:  9 loss:  0.011775780469179153\n",
      "tensor([2, 2, 2, 4, 1, 4, 2, 3, 2, 1, 4, 3, 3, 4, 4, 3, 0, 3, 3, 4, 1, 2, 2, 3,\n",
      "        4, 2, 1, 2, 4, 2, 2, 1], device='cuda:0')\n"
     ]
    },
    {
     "name": "stderr",
     "output_type": "stream",
     "text": [
      " 18%|█▊        | 2/11 [00:01<00:05,  1.62it/s]"
     ]
    },
    {
     "name": "stdout",
     "output_type": "stream",
     "text": [
      "epoch:  9 loss:  0.011425373144447803\n",
      "tensor([2, 1, 0, 3, 1, 0, 0, 0, 3, 2, 0, 1, 3, 3, 0, 4, 2, 4, 3, 3, 0, 3, 3, 3,\n",
      "        2, 4, 0, 1, 4, 0, 2, 4], device='cuda:0')\n"
     ]
    },
    {
     "name": "stderr",
     "output_type": "stream",
     "text": [
      " 27%|██▋       | 3/11 [00:02<00:05,  1.37it/s]"
     ]
    },
    {
     "name": "stdout",
     "output_type": "stream",
     "text": [
      "epoch:  9 loss:  0.01498540211468935\n",
      "tensor([3, 2, 0, 0, 3, 0, 2, 1, 1, 3, 3, 2, 2, 3, 1, 3, 1, 4, 2, 4, 3, 4, 1, 1,\n",
      "        2, 4, 1, 4, 3, 3, 0, 2], device='cuda:0')\n"
     ]
    },
    {
     "name": "stderr",
     "output_type": "stream",
     "text": [
      " 36%|███▋      | 4/11 [00:02<00:05,  1.26it/s]"
     ]
    },
    {
     "name": "stdout",
     "output_type": "stream",
     "text": [
      "epoch:  9 loss:  0.011945027858018875\n",
      "tensor([4, 3, 2, 4, 0, 4, 2, 3, 1, 3, 3, 2, 2, 2, 0, 2, 1, 2, 3, 4, 3, 3, 4, 1,\n",
      "        2, 2, 2, 2, 3, 4, 2, 1], device='cuda:0')\n"
     ]
    },
    {
     "name": "stderr",
     "output_type": "stream",
     "text": [
      " 45%|████▌     | 5/11 [00:03<00:04,  1.28it/s]"
     ]
    },
    {
     "name": "stdout",
     "output_type": "stream",
     "text": [
      "epoch:  9 loss:  0.01046687737107277\n",
      "tensor([4, 4, 4, 1, 1, 2, 3, 0, 4, 4, 3, 3, 4, 0, 0, 4, 4, 3, 2, 2, 2, 2, 1, 0,\n",
      "        2, 2, 4, 2, 1, 2, 4, 1], device='cuda:0')\n"
     ]
    },
    {
     "name": "stderr",
     "output_type": "stream",
     "text": [
      " 55%|█████▍    | 6/11 [00:04<00:04,  1.24it/s]"
     ]
    },
    {
     "name": "stdout",
     "output_type": "stream",
     "text": [
      "epoch:  9 loss:  0.012813192792236805\n",
      "tensor([2, 1, 3, 3, 3, 4, 3, 1, 2, 1, 0, 2, 1, 4, 3, 4, 3, 4, 3, 4, 3, 3, 2, 3,\n",
      "        3, 2, 3, 3, 4, 3, 2, 3], device='cuda:0')\n"
     ]
    },
    {
     "name": "stderr",
     "output_type": "stream",
     "text": [
      " 64%|██████▎   | 7/11 [00:05<00:03,  1.27it/s]"
     ]
    },
    {
     "name": "stdout",
     "output_type": "stream",
     "text": [
      "epoch:  9 loss:  0.009649048559367657\n",
      "tensor([0, 1, 4, 2, 0, 1, 3, 0, 2, 2, 2, 3, 1, 3, 3, 2, 1, 4, 2, 2, 3, 4, 2, 2,\n",
      "        3, 3, 2, 1, 1, 1, 1, 1], device='cuda:0')\n"
     ]
    },
    {
     "name": "stderr",
     "output_type": "stream",
     "text": [
      " 73%|███████▎  | 8/11 [00:06<00:02,  1.22it/s]"
     ]
    },
    {
     "name": "stdout",
     "output_type": "stream",
     "text": [
      "epoch:  9 loss:  0.011070989072322845\n",
      "tensor([2, 4, 2, 4, 1, 2, 0, 4, 4, 0, 2, 1, 3, 2, 1, 4, 4, 2, 0, 2, 3, 0, 4, 0,\n",
      "        3, 4, 0, 1, 2, 4, 3, 2], device='cuda:0')\n"
     ]
    },
    {
     "name": "stderr",
     "output_type": "stream",
     "text": [
      " 82%|████████▏ | 9/11 [00:06<00:01,  1.25it/s]"
     ]
    },
    {
     "name": "stdout",
     "output_type": "stream",
     "text": [
      "epoch:  9 loss:  0.012810860760509968\n",
      "tensor([3, 1, 2, 4, 0, 1, 4, 2, 1, 3, 1, 3, 3, 3, 0, 4, 2, 0, 1, 3, 1, 2, 1, 3,\n",
      "        1, 3, 2, 3, 3, 2, 3, 0], device='cuda:0')\n"
     ]
    },
    {
     "name": "stderr",
     "output_type": "stream",
     "text": [
      " 91%|█████████ | 10/11 [00:07<00:00,  1.23it/s]"
     ]
    },
    {
     "name": "stdout",
     "output_type": "stream",
     "text": [
      "epoch:  9 loss:  0.010837877169251442\n",
      "tensor([3, 4, 1, 2, 3, 3], device='cuda:0')\n"
     ]
    },
    {
     "name": "stderr",
     "output_type": "stream",
     "text": [
      "100%|██████████| 11/11 [00:08<00:00,  1.34it/s]\n"
     ]
    },
    {
     "name": "stdout",
     "output_type": "stream",
     "text": [
      "epoch:  9 loss:  0.00723477965220809\n"
     ]
    },
    {
     "name": "stderr",
     "output_type": "stream",
     "text": [
      "100%|██████████| 5/5 [00:01<00:00,  3.66it/s]\n"
     ]
    },
    {
     "name": "stdout",
     "output_type": "stream",
     "text": [
      "              precision    recall  f1-score   support\n",
      "\n",
      "           0       0.40      0.40      0.40        15\n",
      "           1       0.28      0.22      0.24        23\n",
      "           2       0.40      0.51      0.45        35\n",
      "           3       0.49      0.56      0.52        32\n",
      "           4       0.64      0.46      0.53        35\n",
      "\n",
      "    accuracy                           0.45       140\n",
      "   macro avg       0.44      0.43      0.43       140\n",
      "weighted avg       0.46      0.45      0.45       140\n",
      "\n"
     ]
    },
    {
     "name": "stderr",
     "output_type": "stream",
     "text": [
      "  0%|          | 0/11 [00:00<?, ?it/s]"
     ]
    },
    {
     "name": "stdout",
     "output_type": "stream",
     "text": [
      "tensor([2, 1, 1, 2, 2, 4, 2, 4, 3, 3, 3, 2, 3, 0, 2, 3, 1, 0, 1, 4, 2, 1, 4, 3,\n",
      "        1, 4, 2, 3, 2, 2, 3, 2], device='cuda:0')\n"
     ]
    },
    {
     "name": "stderr",
     "output_type": "stream",
     "text": [
      "  9%|▉         | 1/11 [00:00<00:06,  1.60it/s]"
     ]
    },
    {
     "name": "stdout",
     "output_type": "stream",
     "text": [
      "epoch:  10 loss:  0.009580925107002258\n",
      "tensor([2, 1, 1, 2, 2, 2, 3, 2, 2, 1, 3, 2, 0, 2, 3, 3, 2, 3, 2, 4, 3, 1, 4, 4,\n",
      "        1, 1, 2, 2, 4, 0, 2, 4], device='cuda:0')\n"
     ]
    },
    {
     "name": "stderr",
     "output_type": "stream",
     "text": [
      " 18%|█▊        | 2/11 [00:01<00:05,  1.58it/s]"
     ]
    },
    {
     "name": "stdout",
     "output_type": "stream",
     "text": [
      "epoch:  10 loss:  0.009419758804142475\n",
      "tensor([2, 0, 3, 0, 2, 4, 3, 1, 2, 3, 3, 2, 0, 1, 1, 3, 4, 3, 3, 4, 3, 4, 1, 3,\n",
      "        3, 3, 2, 1, 1, 2, 3, 1], device='cuda:0')\n"
     ]
    },
    {
     "name": "stderr",
     "output_type": "stream",
     "text": [
      " 27%|██▋       | 3/11 [00:02<00:05,  1.36it/s]"
     ]
    },
    {
     "name": "stdout",
     "output_type": "stream",
     "text": [
      "epoch:  10 loss:  0.009729643352329731\n",
      "tensor([4, 1, 3, 1, 3, 1, 3, 0, 4, 3, 2, 1, 4, 3, 0, 2, 3, 3, 4, 4, 4, 4, 3, 4,\n",
      "        4, 3, 2, 2, 2, 1, 2, 2], device='cuda:0')\n"
     ]
    },
    {
     "name": "stderr",
     "output_type": "stream",
     "text": [
      " 36%|███▋      | 4/11 [00:03<00:05,  1.25it/s]"
     ]
    },
    {
     "name": "stdout",
     "output_type": "stream",
     "text": [
      "epoch:  10 loss:  0.009220617823302746\n",
      "tensor([1, 4, 2, 4, 3, 4, 1, 2, 3, 1, 2, 1, 3, 3, 2, 1, 3, 4, 0, 2, 1, 3, 2, 4,\n",
      "        1, 3, 3, 0, 2, 1, 2, 1], device='cuda:0')\n"
     ]
    },
    {
     "name": "stderr",
     "output_type": "stream",
     "text": [
      " 45%|████▌     | 5/11 [00:03<00:04,  1.22it/s]"
     ]
    },
    {
     "name": "stdout",
     "output_type": "stream",
     "text": [
      "epoch:  10 loss:  0.00977930799126625\n",
      "tensor([0, 2, 2, 4, 1, 3, 0, 4, 0, 3, 0, 2, 3, 1, 4, 1, 0, 1, 2, 3, 2, 2, 3, 1,\n",
      "        3, 0, 3, 4, 0, 1, 1, 0], device='cuda:0')\n"
     ]
    },
    {
     "name": "stderr",
     "output_type": "stream",
     "text": [
      " 55%|█████▍    | 6/11 [00:04<00:04,  1.25it/s]"
     ]
    },
    {
     "name": "stdout",
     "output_type": "stream",
     "text": [
      "epoch:  10 loss:  0.011446785181760788\n",
      "tensor([4, 3, 2, 4, 2, 2, 3, 4, 3, 1, 3, 3, 3, 3, 1, 2, 2, 0, 0, 4, 3, 0, 0, 2,\n",
      "        0, 4, 1, 4, 2, 4, 2, 2], device='cuda:0')\n"
     ]
    },
    {
     "name": "stderr",
     "output_type": "stream",
     "text": [
      " 64%|██████▎   | 7/11 [00:05<00:03,  1.23it/s]"
     ]
    },
    {
     "name": "stdout",
     "output_type": "stream",
     "text": [
      "epoch:  10 loss:  0.009580293670296669\n",
      "tensor([0, 2, 4, 4, 1, 4, 3, 2, 4, 3, 4, 0, 2, 2, 4, 3, 1, 0, 3, 3, 2, 3, 2, 0,\n",
      "        3, 1, 3, 2, 1, 4, 2, 0], device='cuda:0')\n"
     ]
    },
    {
     "name": "stderr",
     "output_type": "stream",
     "text": [
      " 73%|███████▎  | 8/11 [00:06<00:02,  1.25it/s]"
     ]
    },
    {
     "name": "stdout",
     "output_type": "stream",
     "text": [
      "epoch:  10 loss:  0.009475691244006157\n",
      "tensor([3, 2, 4, 4, 2, 4, 4, 3, 0, 4, 4, 2, 0, 3, 2, 4, 2, 1, 4, 2, 4, 4, 4, 0,\n",
      "        3, 3, 4, 1, 2, 3, 2, 3], device='cuda:0')\n"
     ]
    },
    {
     "name": "stderr",
     "output_type": "stream",
     "text": [
      " 82%|████████▏ | 9/11 [00:07<00:01,  1.27it/s]"
     ]
    },
    {
     "name": "stdout",
     "output_type": "stream",
     "text": [
      "epoch:  10 loss:  0.009388075210154057\n",
      "tensor([3, 4, 1, 3, 3, 0, 2, 2, 1, 3, 1, 0, 3, 2, 1, 4, 4, 4, 2, 0, 3, 4, 0, 4,\n",
      "        3, 2, 1, 2, 3, 2, 1, 3], device='cuda:0')\n"
     ]
    },
    {
     "name": "stderr",
     "output_type": "stream",
     "text": [
      " 91%|█████████ | 10/11 [00:07<00:00,  1.23it/s]"
     ]
    },
    {
     "name": "stdout",
     "output_type": "stream",
     "text": [
      "epoch:  10 loss:  0.009388112463057041\n",
      "tensor([3, 3, 3, 4, 2, 3], device='cuda:0')\n"
     ]
    },
    {
     "name": "stderr",
     "output_type": "stream",
     "text": [
      "100%|██████████| 11/11 [00:08<00:00,  1.33it/s]\n"
     ]
    },
    {
     "name": "stdout",
     "output_type": "stream",
     "text": [
      "epoch:  10 loss:  0.005487293470650911\n"
     ]
    },
    {
     "name": "stderr",
     "output_type": "stream",
     "text": [
      "100%|██████████| 5/5 [00:01<00:00,  4.03it/s]\n"
     ]
    },
    {
     "name": "stdout",
     "output_type": "stream",
     "text": [
      "              precision    recall  f1-score   support\n",
      "\n",
      "           0       0.43      0.40      0.41        15\n",
      "           1       0.32      0.26      0.29        23\n",
      "           2       0.40      0.51      0.45        35\n",
      "           3       0.46      0.56      0.51        32\n",
      "           4       0.65      0.43      0.52        35\n",
      "\n",
      "    accuracy                           0.45       140\n",
      "   macro avg       0.45      0.43      0.43       140\n",
      "weighted avg       0.47      0.45      0.45       140\n",
      "\n"
     ]
    },
    {
     "name": "stderr",
     "output_type": "stream",
     "text": [
      "  0%|          | 0/11 [00:00<?, ?it/s]"
     ]
    },
    {
     "name": "stdout",
     "output_type": "stream",
     "text": [
      "tensor([4, 2, 1, 2, 3, 3, 1, 2, 3, 2, 4, 2, 2, 3, 1, 4, 4, 3, 3, 3, 1, 2, 4, 2,\n",
      "        4, 4, 2, 3, 0, 0, 2, 2], device='cuda:0')\n"
     ]
    },
    {
     "name": "stderr",
     "output_type": "stream",
     "text": [
      "  9%|▉         | 1/11 [00:00<00:06,  1.60it/s]"
     ]
    },
    {
     "name": "stdout",
     "output_type": "stream",
     "text": [
      "epoch:  11 loss:  0.00787442922592163\n",
      "tensor([2, 2, 2, 2, 2, 0, 4, 1, 3, 4, 2, 1, 0, 3, 3, 1, 4, 2, 4, 2, 3, 2, 1, 2,\n",
      "        1, 0, 3, 2, 2, 4, 1, 4], device='cuda:0')\n"
     ]
    },
    {
     "name": "stderr",
     "output_type": "stream",
     "text": [
      " 18%|█▊        | 2/11 [00:01<00:05,  1.58it/s]"
     ]
    },
    {
     "name": "stdout",
     "output_type": "stream",
     "text": [
      "epoch:  11 loss:  0.008137138560414314\n",
      "tensor([0, 3, 4, 1, 1, 1, 3, 3, 1, 2, 4, 2, 0, 0, 4, 3, 2, 3, 4, 1, 3, 4, 2, 4,\n",
      "        4, 0, 3, 2, 3, 0, 0, 2], device='cuda:0')\n"
     ]
    },
    {
     "name": "stderr",
     "output_type": "stream",
     "text": [
      " 27%|██▋       | 3/11 [00:02<00:05,  1.35it/s]"
     ]
    },
    {
     "name": "stdout",
     "output_type": "stream",
     "text": [
      "epoch:  11 loss:  0.010306993499398232\n",
      "tensor([3, 0, 2, 3, 2, 2, 3, 0, 4, 3, 4, 4, 2, 4, 3, 1, 3, 1, 2, 4, 4, 2, 1, 4,\n",
      "        4, 3, 3, 2, 3, 3, 2, 3], device='cuda:0')\n"
     ]
    },
    {
     "name": "stderr",
     "output_type": "stream",
     "text": [
      " 36%|███▋      | 4/11 [00:02<00:05,  1.26it/s]"
     ]
    },
    {
     "name": "stdout",
     "output_type": "stream",
     "text": [
      "epoch:  11 loss:  0.0074947429820895195\n",
      "tensor([3, 3, 3, 3, 2, 1, 3, 2, 4, 1, 1, 3, 4, 1, 1, 2, 4, 4, 3, 2, 2, 3, 3, 4,\n",
      "        1, 0, 4, 1, 4, 2, 4, 2], device='cuda:0')\n"
     ]
    },
    {
     "name": "stderr",
     "output_type": "stream",
     "text": [
      " 45%|████▌     | 5/11 [00:03<00:04,  1.27it/s]"
     ]
    },
    {
     "name": "stdout",
     "output_type": "stream",
     "text": [
      "epoch:  11 loss:  0.007720026653259993\n",
      "tensor([0, 3, 2, 2, 4, 1, 0, 2, 4, 1, 0, 2, 4, 3, 1, 2, 4, 0, 3, 3, 2, 1, 3, 1,\n",
      "        4, 4, 0, 0, 3, 2, 0, 1], device='cuda:0')\n"
     ]
    },
    {
     "name": "stderr",
     "output_type": "stream",
     "text": [
      " 55%|█████▍    | 6/11 [00:04<00:04,  1.24it/s]"
     ]
    },
    {
     "name": "stdout",
     "output_type": "stream",
     "text": [
      "epoch:  11 loss:  0.00949033722281456\n",
      "tensor([2, 2, 3, 0, 2, 4, 3, 4, 0, 1, 2, 3, 4, 1, 3, 3, 3, 1, 4, 2, 1, 3, 0, 1,\n",
      "        3, 3, 3, 4, 3, 1, 3, 1], device='cuda:0')\n"
     ]
    },
    {
     "name": "stderr",
     "output_type": "stream",
     "text": [
      " 64%|██████▎   | 7/11 [00:05<00:03,  1.25it/s]"
     ]
    },
    {
     "name": "stdout",
     "output_type": "stream",
     "text": [
      "epoch:  11 loss:  0.0077652959153056145\n",
      "tensor([1, 2, 4, 2, 4, 4, 3, 2, 3, 0, 4, 4, 1, 3, 1, 3, 3, 2, 2, 2, 3, 2, 4, 0,\n",
      "        1, 2, 2, 2, 2, 0, 0, 0], device='cuda:0')\n"
     ]
    },
    {
     "name": "stderr",
     "output_type": "stream",
     "text": [
      " 73%|███████▎  | 8/11 [00:06<00:02,  1.22it/s]"
     ]
    },
    {
     "name": "stdout",
     "output_type": "stream",
     "text": [
      "epoch:  11 loss:  0.008323045447468758\n",
      "tensor([4, 1, 4, 3, 1, 3, 2, 4, 0, 3, 4, 4, 1, 1, 3, 1, 1, 4, 4, 2, 3, 3, 2, 4,\n",
      "        3, 0, 2, 3, 2, 2, 2, 4], device='cuda:0')\n"
     ]
    },
    {
     "name": "stderr",
     "output_type": "stream",
     "text": [
      " 82%|████████▏ | 9/11 [00:07<00:01,  1.24it/s]"
     ]
    },
    {
     "name": "stdout",
     "output_type": "stream",
     "text": [
      "epoch:  11 loss:  0.007792258635163307\n",
      "tensor([2, 3, 1, 3, 0, 3, 1, 3, 2, 3, 1, 2, 2, 3, 3, 2, 0, 0, 1, 3, 3, 3, 1, 3,\n",
      "        2, 4, 4, 2, 4, 0, 2, 1], device='cuda:0')\n"
     ]
    },
    {
     "name": "stderr",
     "output_type": "stream",
     "text": [
      " 91%|█████████ | 10/11 [00:07<00:00,  1.27it/s]"
     ]
    },
    {
     "name": "stdout",
     "output_type": "stream",
     "text": [
      "epoch:  11 loss:  0.007604772225022316\n",
      "tensor([3, 1, 2, 0, 3, 2], device='cuda:0')\n"
     ]
    },
    {
     "name": "stderr",
     "output_type": "stream",
     "text": [
      "100%|██████████| 11/11 [00:08<00:00,  1.33it/s]\n"
     ]
    },
    {
     "name": "stdout",
     "output_type": "stream",
     "text": [
      "epoch:  11 loss:  0.00672612339258194\n"
     ]
    },
    {
     "name": "stderr",
     "output_type": "stream",
     "text": [
      "100%|██████████| 5/5 [00:01<00:00,  3.92it/s]\n"
     ]
    },
    {
     "name": "stdout",
     "output_type": "stream",
     "text": [
      "              precision    recall  f1-score   support\n",
      "\n",
      "           0       0.43      0.40      0.41        15\n",
      "           1       0.33      0.26      0.29        23\n",
      "           2       0.40      0.51      0.45        35\n",
      "           3       0.49      0.56      0.52        32\n",
      "           4       0.62      0.46      0.52        35\n",
      "\n",
      "    accuracy                           0.46       140\n",
      "   macro avg       0.45      0.44      0.44       140\n",
      "weighted avg       0.47      0.46      0.46       140\n",
      "\n"
     ]
    },
    {
     "name": "stderr",
     "output_type": "stream",
     "text": [
      "  0%|          | 0/11 [00:00<?, ?it/s]"
     ]
    },
    {
     "name": "stdout",
     "output_type": "stream",
     "text": [
      "tensor([3, 3, 2, 0, 3, 0, 1, 2, 2, 1, 4, 4, 1, 4, 0, 3, 4, 2, 1, 3, 1, 3, 4, 2,\n",
      "        3, 3, 0, 3, 3, 3, 3, 0], device='cuda:0')\n"
     ]
    },
    {
     "name": "stderr",
     "output_type": "stream",
     "text": [
      "  9%|▉         | 1/11 [00:00<00:06,  1.63it/s]"
     ]
    },
    {
     "name": "stdout",
     "output_type": "stream",
     "text": [
      "epoch:  12 loss:  0.007593763060867786\n",
      "tensor([2, 4, 2, 2, 4, 0, 4, 1, 4, 2, 2, 1, 0, 4, 2, 4, 3, 2, 2, 0, 3, 1, 1, 4,\n",
      "        4, 2, 4, 2, 0, 4, 2, 2], device='cuda:0')\n"
     ]
    },
    {
     "name": "stderr",
     "output_type": "stream",
     "text": [
      " 18%|█▊        | 2/11 [00:01<00:06,  1.47it/s]"
     ]
    },
    {
     "name": "stdout",
     "output_type": "stream",
     "text": [
      "epoch:  12 loss:  0.008149570785462856\n",
      "tensor([4, 3, 2, 4, 3, 1, 3, 4, 1, 2, 3, 3, 4, 2, 4, 4, 3, 4, 4, 4, 2, 1, 1, 3,\n",
      "        3, 1, 2, 3, 0, 4, 0, 4], device='cuda:0')\n"
     ]
    },
    {
     "name": "stderr",
     "output_type": "stream",
     "text": [
      " 27%|██▋       | 3/11 [00:02<00:06,  1.31it/s]"
     ]
    },
    {
     "name": "stdout",
     "output_type": "stream",
     "text": [
      "epoch:  12 loss:  0.007584235165268183\n",
      "tensor([2, 0, 2, 1, 2, 3, 1, 3, 3, 0, 1, 4, 3, 4, 2, 2, 0, 2, 3, 4, 3, 4, 2, 0,\n",
      "        3, 2, 1, 1, 0, 3, 2, 3], device='cuda:0')\n"
     ]
    },
    {
     "name": "stderr",
     "output_type": "stream",
     "text": [
      " 36%|███▋      | 4/11 [00:03<00:05,  1.24it/s]"
     ]
    },
    {
     "name": "stdout",
     "output_type": "stream",
     "text": [
      "epoch:  12 loss:  0.007260590326040983\n",
      "tensor([3, 3, 3, 1, 1, 2, 2, 0, 2, 4, 4, 1, 3, 2, 4, 3, 2, 2, 4, 1, 4, 2, 2, 4,\n",
      "        3, 4, 2, 2, 2, 1, 3, 3], device='cuda:0')\n"
     ]
    },
    {
     "name": "stderr",
     "output_type": "stream",
     "text": [
      " 45%|████▌     | 5/11 [00:03<00:04,  1.27it/s]"
     ]
    },
    {
     "name": "stdout",
     "output_type": "stream",
     "text": [
      "epoch:  12 loss:  0.006337798200547695\n",
      "tensor([0, 3, 1, 2, 1, 3, 4, 2, 0, 4, 0, 2, 3, 2, 2, 3, 3, 3, 1, 3, 0, 1, 3, 2,\n",
      "        2, 4, 1, 2, 2, 4, 4, 3], device='cuda:0')\n"
     ]
    },
    {
     "name": "stderr",
     "output_type": "stream",
     "text": [
      " 55%|█████▍    | 6/11 [00:04<00:03,  1.28it/s]"
     ]
    },
    {
     "name": "stdout",
     "output_type": "stream",
     "text": [
      "epoch:  12 loss:  0.007028638850897551\n",
      "tensor([1, 4, 4, 0, 3, 2, 3, 0, 4, 2, 3, 1, 4, 3, 1, 2, 4, 3, 2, 3, 3, 0, 2, 3,\n",
      "        4, 1, 0, 2, 1, 1, 4, 4], device='cuda:0')\n"
     ]
    },
    {
     "name": "stderr",
     "output_type": "stream",
     "text": [
      " 64%|██████▎   | 7/11 [00:05<00:03,  1.24it/s]"
     ]
    },
    {
     "name": "stdout",
     "output_type": "stream",
     "text": [
      "epoch:  12 loss:  0.007140002213418484\n",
      "tensor([4, 4, 2, 3, 2, 3, 2, 4, 4, 4, 4, 1, 2, 0, 1, 2, 3, 3, 3, 3, 1, 2, 2, 2,\n",
      "        0, 3, 2, 1, 1, 1, 0, 2], device='cuda:0')\n"
     ]
    },
    {
     "name": "stderr",
     "output_type": "stream",
     "text": [
      " 73%|███████▎  | 8/11 [00:06<00:02,  1.25it/s]"
     ]
    },
    {
     "name": "stdout",
     "output_type": "stream",
     "text": [
      "epoch:  12 loss:  0.007037855684757233\n",
      "tensor([3, 0, 1, 3, 3, 2, 4, 1, 4, 4, 0, 3, 0, 3, 4, 1, 3, 0, 3, 2, 1, 3, 1, 1,\n",
      "        2, 2, 2, 0, 0, 1, 2, 2], device='cuda:0')\n"
     ]
    },
    {
     "name": "stderr",
     "output_type": "stream",
     "text": [
      " 82%|████████▏ | 9/11 [00:06<00:01,  1.28it/s]"
     ]
    },
    {
     "name": "stdout",
     "output_type": "stream",
     "text": [
      "epoch:  12 loss:  0.007704028394073248\n",
      "tensor([4, 2, 3, 3, 3, 1, 4, 4, 3, 1, 4, 1, 1, 1, 3, 3, 2, 2, 2, 2, 0, 1, 3, 3,\n",
      "        4, 3, 3, 2, 3, 1, 2, 2], device='cuda:0')\n"
     ]
    },
    {
     "name": "stderr",
     "output_type": "stream",
     "text": [
      " 91%|█████████ | 10/11 [00:07<00:00,  1.23it/s]"
     ]
    },
    {
     "name": "stdout",
     "output_type": "stream",
     "text": [
      "epoch:  12 loss:  0.006414009258151054\n",
      "tensor([2, 3, 3, 2, 0, 3], device='cuda:0')\n"
     ]
    },
    {
     "name": "stderr",
     "output_type": "stream",
     "text": [
      "100%|██████████| 11/11 [00:08<00:00,  1.34it/s]\n"
     ]
    },
    {
     "name": "stdout",
     "output_type": "stream",
     "text": [
      "epoch:  12 loss:  0.005466740112751722\n"
     ]
    },
    {
     "name": "stderr",
     "output_type": "stream",
     "text": [
      "100%|██████████| 5/5 [00:01<00:00,  3.62it/s]\n"
     ]
    },
    {
     "name": "stdout",
     "output_type": "stream",
     "text": [
      "              precision    recall  f1-score   support\n",
      "\n",
      "           0       0.43      0.40      0.41        15\n",
      "           1       0.33      0.26      0.29        23\n",
      "           2       0.40      0.51      0.45        35\n",
      "           3       0.49      0.56      0.52        32\n",
      "           4       0.62      0.46      0.52        35\n",
      "\n",
      "    accuracy                           0.46       140\n",
      "   macro avg       0.45      0.44      0.44       140\n",
      "weighted avg       0.47      0.46      0.46       140\n",
      "\n"
     ]
    },
    {
     "name": "stderr",
     "output_type": "stream",
     "text": [
      "  0%|          | 0/11 [00:00<?, ?it/s]"
     ]
    },
    {
     "name": "stdout",
     "output_type": "stream",
     "text": [
      "tensor([2, 0, 1, 3, 0, 1, 4, 2, 2, 2, 1, 3, 3, 3, 1, 3, 2, 2, 0, 2, 3, 2, 1, 4,\n",
      "        1, 2, 1, 3, 3, 1, 1, 0], device='cuda:0')\n"
     ]
    },
    {
     "name": "stderr",
     "output_type": "stream",
     "text": [
      "  9%|▉         | 1/11 [00:00<00:05,  1.98it/s]"
     ]
    },
    {
     "name": "stdout",
     "output_type": "stream",
     "text": [
      "epoch:  13 loss:  0.0064272768795490265\n",
      "tensor([2, 2, 2, 3, 4, 1, 4, 1, 4, 0, 4, 3, 3, 2, 0, 2, 3, 3, 2, 1, 3, 1, 4, 3,\n",
      "        0, 0, 4, 0, 1, 3, 4, 0], device='cuda:0')\n"
     ]
    },
    {
     "name": "stderr",
     "output_type": "stream",
     "text": [
      " 18%|█▊        | 2/11 [00:01<00:05,  1.56it/s]"
     ]
    },
    {
     "name": "stdout",
     "output_type": "stream",
     "text": [
      "epoch:  13 loss:  0.007366783916950226\n",
      "tensor([2, 4, 2, 3, 2, 1, 1, 2, 4, 1, 1, 2, 2, 2, 3, 4, 0, 1, 3, 2, 2, 4, 2, 1,\n",
      "        4, 2, 2, 2, 3, 4, 0, 4], device='cuda:0')\n"
     ]
    },
    {
     "name": "stderr",
     "output_type": "stream",
     "text": [
      " 27%|██▋       | 3/11 [00:02<00:05,  1.34it/s]"
     ]
    },
    {
     "name": "stdout",
     "output_type": "stream",
     "text": [
      "epoch:  13 loss:  0.006230952218174934\n",
      "tensor([3, 1, 2, 2, 4, 4, 2, 3, 4, 3, 1, 1, 4, 0, 2, 3, 0, 3, 4, 2, 3, 2, 2, 3,\n",
      "        1, 4, 4, 1, 4, 3, 2, 1], device='cuda:0')\n"
     ]
    },
    {
     "name": "stderr",
     "output_type": "stream",
     "text": [
      " 36%|███▋      | 4/11 [00:02<00:05,  1.31it/s]"
     ]
    },
    {
     "name": "stdout",
     "output_type": "stream",
     "text": [
      "epoch:  13 loss:  0.00669889897108078\n",
      "tensor([2, 0, 4, 0, 4, 3, 2, 3, 0, 3, 3, 1, 2, 1, 4, 0, 3, 4, 1, 2, 3, 3, 0, 3,\n",
      "        3, 3, 3, 2, 1, 2, 0, 3], device='cuda:0')\n"
     ]
    },
    {
     "name": "stderr",
     "output_type": "stream",
     "text": [
      " 45%|████▌     | 5/11 [00:03<00:04,  1.26it/s]"
     ]
    },
    {
     "name": "stdout",
     "output_type": "stream",
     "text": [
      "epoch:  13 loss:  0.006949686445295811\n",
      "tensor([4, 0, 2, 3, 3, 2, 4, 2, 2, 2, 3, 4, 1, 3, 3, 2, 4, 4, 3, 3, 3, 1, 1, 3,\n",
      "        4, 2, 4, 3, 3, 2, 2, 1], device='cuda:0')\n"
     ]
    },
    {
     "name": "stderr",
     "output_type": "stream",
     "text": [
      " 55%|█████▍    | 6/11 [00:04<00:03,  1.27it/s]"
     ]
    },
    {
     "name": "stdout",
     "output_type": "stream",
     "text": [
      "epoch:  13 loss:  0.005403534509241581\n",
      "tensor([1, 3, 1, 3, 2, 2, 3, 1, 4, 2, 3, 4, 3, 0, 0, 4, 3, 3, 0, 1, 3, 1, 2, 3,\n",
      "        0, 4, 2, 0, 3, 4, 2, 0], device='cuda:0')\n"
     ]
    },
    {
     "name": "stderr",
     "output_type": "stream",
     "text": [
      " 64%|██████▎   | 7/11 [00:05<00:03,  1.22it/s]"
     ]
    },
    {
     "name": "stdout",
     "output_type": "stream",
     "text": [
      "epoch:  13 loss:  0.006523790303617716\n",
      "tensor([3, 3, 4, 2, 0, 3, 1, 3, 4, 3, 4, 3, 1, 0, 3, 3, 3, 4, 2, 2, 4, 4, 1, 4,\n",
      "        3, 2, 4, 4, 3, 2, 4, 4], device='cuda:0')\n"
     ]
    },
    {
     "name": "stderr",
     "output_type": "stream",
     "text": [
      " 73%|███████▎  | 8/11 [00:06<00:02,  1.25it/s]"
     ]
    },
    {
     "name": "stdout",
     "output_type": "stream",
     "text": [
      "epoch:  13 loss:  0.005704683717340231\n",
      "tensor([2, 3, 2, 2, 0, 2, 2, 2, 4, 2, 4, 4, 2, 3, 4, 0, 0, 3, 1, 0, 3, 3, 1, 0,\n",
      "        4, 2, 2, 4, 1, 2, 1, 1], device='cuda:0')\n"
     ]
    },
    {
     "name": "stderr",
     "output_type": "stream",
     "text": [
      " 82%|████████▏ | 9/11 [00:07<00:01,  1.22it/s]"
     ]
    },
    {
     "name": "stdout",
     "output_type": "stream",
     "text": [
      "epoch:  13 loss:  0.006849239580333233\n",
      "tensor([4, 2, 0, 4, 0, 1, 2, 3, 2, 2, 1, 3, 4, 2, 3, 2, 4, 4, 1, 3, 4, 4, 1, 3,\n",
      "        1, 4, 2, 1, 3, 2, 3, 2], device='cuda:0')\n"
     ]
    },
    {
     "name": "stderr",
     "output_type": "stream",
     "text": [
      " 91%|█████████ | 10/11 [00:07<00:00,  1.25it/s]"
     ]
    },
    {
     "name": "stdout",
     "output_type": "stream",
     "text": [
      "epoch:  13 loss:  0.005782831460237503\n",
      "tensor([1, 3, 3, 2, 1, 2], device='cuda:0')\n"
     ]
    },
    {
     "name": "stderr",
     "output_type": "stream",
     "text": [
      "100%|██████████| 11/11 [00:08<00:00,  1.35it/s]\n"
     ]
    },
    {
     "name": "stdout",
     "output_type": "stream",
     "text": [
      "epoch:  13 loss:  0.005201574414968491\n"
     ]
    },
    {
     "name": "stderr",
     "output_type": "stream",
     "text": [
      "100%|██████████| 5/5 [00:01<00:00,  3.65it/s]\n"
     ]
    },
    {
     "name": "stdout",
     "output_type": "stream",
     "text": [
      "              precision    recall  f1-score   support\n",
      "\n",
      "           0       0.43      0.40      0.41        15\n",
      "           1       0.30      0.26      0.28        23\n",
      "           2       0.40      0.51      0.45        35\n",
      "           3       0.47      0.56      0.51        32\n",
      "           4       0.65      0.43      0.52        35\n",
      "\n",
      "    accuracy                           0.45       140\n",
      "   macro avg       0.45      0.43      0.43       140\n",
      "weighted avg       0.47      0.45      0.45       140\n",
      "\n"
     ]
    },
    {
     "name": "stderr",
     "output_type": "stream",
     "text": [
      "  0%|          | 0/11 [00:00<?, ?it/s]"
     ]
    },
    {
     "name": "stdout",
     "output_type": "stream",
     "text": [
      "tensor([4, 0, 3, 4, 3, 3, 1, 3, 2, 4, 2, 3, 1, 3, 1, 2, 0, 2, 2, 3, 0, 2, 0, 2,\n",
      "        4, 4, 1, 2, 2, 1, 3, 1], device='cuda:0')\n"
     ]
    },
    {
     "name": "stderr",
     "output_type": "stream",
     "text": [
      "  9%|▉         | 1/11 [00:00<00:06,  1.60it/s]"
     ]
    },
    {
     "name": "stdout",
     "output_type": "stream",
     "text": [
      "epoch:  14 loss:  0.006112642586231232\n",
      "tensor([2, 1, 1, 0, 3, 4, 1, 4, 2, 3, 2, 3, 3, 3, 3, 4, 2, 3, 3, 4, 3, 4, 2, 0,\n",
      "        4, 0, 4, 1, 4, 4, 1, 0], device='cuda:0')\n"
     ]
    },
    {
     "name": "stderr",
     "output_type": "stream",
     "text": [
      " 18%|█▊        | 2/11 [00:01<00:05,  1.59it/s]"
     ]
    },
    {
     "name": "stdout",
     "output_type": "stream",
     "text": [
      "epoch:  14 loss:  0.006229893770068884\n",
      "tensor([1, 2, 3, 2, 2, 2, 2, 2, 3, 3, 1, 0, 4, 3, 2, 2, 3, 0, 3, 3, 2, 4, 0, 3,\n",
      "        2, 1, 1, 1, 2, 1, 3, 3], device='cuda:0')\n"
     ]
    },
    {
     "name": "stderr",
     "output_type": "stream",
     "text": [
      " 27%|██▋       | 3/11 [00:02<00:05,  1.37it/s]"
     ]
    },
    {
     "name": "stdout",
     "output_type": "stream",
     "text": [
      "epoch:  14 loss:  0.0052536483854055405\n",
      "tensor([3, 4, 2, 1, 2, 2, 4, 4, 4, 4, 3, 4, 1, 0, 4, 2, 1, 4, 3, 1, 2, 3, 2, 3,\n",
      "        0, 0, 0, 4, 2, 3, 2, 3], device='cuda:0')\n"
     ]
    },
    {
     "name": "stderr",
     "output_type": "stream",
     "text": [
      " 36%|███▋      | 4/11 [00:02<00:05,  1.27it/s]"
     ]
    },
    {
     "name": "stdout",
     "output_type": "stream",
     "text": [
      "epoch:  14 loss:  0.00587857561185956\n",
      "tensor([4, 0, 2, 2, 4, 3, 0, 1, 4, 0, 1, 4, 0, 4, 3, 0, 2, 0, 1, 4, 2, 1, 3, 1,\n",
      "        0, 2, 4, 4, 3, 2, 3, 2], device='cuda:0')\n"
     ]
    },
    {
     "name": "stderr",
     "output_type": "stream",
     "text": [
      " 45%|████▌     | 5/11 [00:03<00:04,  1.27it/s]"
     ]
    },
    {
     "name": "stdout",
     "output_type": "stream",
     "text": [
      "epoch:  14 loss:  0.0063978820107877254\n",
      "tensor([2, 1, 4, 1, 3, 3, 2, 1, 3, 2, 4, 2, 1, 3, 1, 1, 0, 2, 4, 3, 2, 2, 2, 2,\n",
      "        3, 3, 2, 4, 1, 0, 2, 1], device='cuda:0')\n"
     ]
    },
    {
     "name": "stderr",
     "output_type": "stream",
     "text": [
      " 55%|█████▍    | 6/11 [00:04<00:04,  1.24it/s]"
     ]
    },
    {
     "name": "stdout",
     "output_type": "stream",
     "text": [
      "epoch:  14 loss:  0.005505746696144342\n",
      "tensor([4, 3, 2, 3, 3, 3, 2, 1, 3, 4, 2, 0, 2, 1, 4, 2, 3, 3, 3, 4, 3, 3, 1, 4,\n",
      "        4, 2, 1, 3, 1, 0, 3, 4], device='cuda:0')\n"
     ]
    },
    {
     "name": "stderr",
     "output_type": "stream",
     "text": [
      " 64%|██████▎   | 7/11 [00:05<00:03,  1.25it/s]"
     ]
    },
    {
     "name": "stdout",
     "output_type": "stream",
     "text": [
      "epoch:  14 loss:  0.005258906167000532\n",
      "tensor([0, 3, 3, 2, 3, 2, 3, 4, 1, 1, 1, 1, 4, 2, 2, 0, 4, 2, 3, 1, 3, 0, 4, 4,\n",
      "        3, 2, 4, 3, 2, 3, 1, 0], device='cuda:0')\n"
     ]
    },
    {
     "name": "stderr",
     "output_type": "stream",
     "text": [
      " 73%|███████▎  | 8/11 [00:06<00:02,  1.22it/s]"
     ]
    },
    {
     "name": "stdout",
     "output_type": "stream",
     "text": [
      "epoch:  14 loss:  0.005763845052570105\n",
      "tensor([4, 4, 2, 3, 3, 1, 1, 2, 4, 0, 2, 4, 4, 4, 4, 0, 3, 3, 3, 2, 2, 0, 4, 3,\n",
      "        1, 3, 4, 2, 2, 1, 1, 1], device='cuda:0')\n"
     ]
    },
    {
     "name": "stderr",
     "output_type": "stream",
     "text": [
      " 82%|████████▏ | 9/11 [00:07<00:01,  1.25it/s]"
     ]
    },
    {
     "name": "stdout",
     "output_type": "stream",
     "text": [
      "epoch:  14 loss:  0.005789103452116251\n",
      "tensor([2, 1, 3, 3, 2, 3, 3, 3, 0, 2, 3, 2, 2, 4, 3, 3, 2, 2, 3, 4, 4, 2, 3, 3,\n",
      "        2, 3, 4, 4, 2, 1, 1, 2], device='cuda:0')\n"
     ]
    },
    {
     "name": "stderr",
     "output_type": "stream",
     "text": [
      " 91%|█████████ | 10/11 [00:07<00:00,  1.21it/s]"
     ]
    },
    {
     "name": "stdout",
     "output_type": "stream",
     "text": [
      "epoch:  14 loss:  0.0047111669555306435\n",
      "tensor([1, 4, 0, 0, 2, 2], device='cuda:0')\n"
     ]
    },
    {
     "name": "stderr",
     "output_type": "stream",
     "text": [
      "100%|██████████| 11/11 [00:08<00:00,  1.33it/s]\n"
     ]
    },
    {
     "name": "stdout",
     "output_type": "stream",
     "text": [
      "epoch:  14 loss:  0.006780311930924654\n"
     ]
    },
    {
     "name": "stderr",
     "output_type": "stream",
     "text": [
      "100%|██████████| 5/5 [00:01<00:00,  3.68it/s]\n"
     ]
    },
    {
     "name": "stdout",
     "output_type": "stream",
     "text": [
      "              precision    recall  f1-score   support\n",
      "\n",
      "           0       0.43      0.40      0.41        15\n",
      "           1       0.30      0.26      0.28        23\n",
      "           2       0.40      0.51      0.45        35\n",
      "           3       0.49      0.56      0.52        32\n",
      "           4       0.67      0.46      0.54        35\n",
      "\n",
      "    accuracy                           0.46       140\n",
      "   macro avg       0.46      0.44      0.44       140\n",
      "weighted avg       0.47      0.46      0.46       140\n",
      "\n"
     ]
    },
    {
     "name": "stderr",
     "output_type": "stream",
     "text": [
      "  0%|          | 0/11 [00:00<?, ?it/s]"
     ]
    },
    {
     "name": "stdout",
     "output_type": "stream",
     "text": [
      "tensor([4, 0, 1, 0, 2, 4, 3, 2, 2, 1, 3, 2, 2, 2, 0, 2, 3, 3, 1, 1, 3, 3, 1, 1,\n",
      "        1, 4, 1, 1, 0, 4, 2, 3], device='cuda:0')\n"
     ]
    },
    {
     "name": "stderr",
     "output_type": "stream",
     "text": [
      "  9%|▉         | 1/11 [00:00<00:05,  1.67it/s]"
     ]
    },
    {
     "name": "stdout",
     "output_type": "stream",
     "text": [
      "epoch:  15 loss:  0.005610551219433546\n",
      "tensor([4, 4, 2, 4, 4, 3, 1, 4, 0, 4, 3, 2, 4, 4, 3, 1, 1, 2, 0, 0, 3, 2, 1, 1,\n",
      "        2, 2, 4, 3, 3, 3, 2, 4], device='cuda:0')\n"
     ]
    },
    {
     "name": "stderr",
     "output_type": "stream",
     "text": [
      " 18%|█▊        | 2/11 [00:01<00:05,  1.57it/s]"
     ]
    },
    {
     "name": "stdout",
     "output_type": "stream",
     "text": [
      "epoch:  15 loss:  0.005732070654630661\n",
      "tensor([0, 4, 3, 3, 3, 3, 1, 2, 1, 1, 3, 2, 1, 2, 2, 0, 0, 3, 4, 4, 2, 3, 1, 3,\n",
      "        2, 4, 0, 3, 2, 3, 2, 3], device='cuda:0')\n"
     ]
    },
    {
     "name": "stderr",
     "output_type": "stream",
     "text": [
      " 27%|██▋       | 3/11 [00:02<00:05,  1.35it/s]"
     ]
    },
    {
     "name": "stdout",
     "output_type": "stream",
     "text": [
      "epoch:  15 loss:  0.004943334963172674\n",
      "tensor([4, 2, 3, 2, 0, 1, 1, 4, 1, 4, 1, 3, 2, 3, 4, 4, 3, 1, 0, 3, 2, 3, 3, 3,\n",
      "        3, 0, 3, 4, 4, 4, 4, 3], device='cuda:0')\n"
     ]
    },
    {
     "name": "stderr",
     "output_type": "stream",
     "text": [
      " 36%|███▋      | 4/11 [00:02<00:05,  1.27it/s]"
     ]
    },
    {
     "name": "stdout",
     "output_type": "stream",
     "text": [
      "epoch:  15 loss:  0.005029699299484491\n",
      "tensor([3, 3, 4, 1, 4, 2, 4, 1, 0, 4, 4, 0, 3, 0, 1, 2, 3, 1, 3, 2, 1, 2, 2, 0,\n",
      "        4, 1, 2, 1, 1, 4, 3, 1], device='cuda:0')\n"
     ]
    },
    {
     "name": "stderr",
     "output_type": "stream",
     "text": [
      " 45%|████▌     | 5/11 [00:03<00:04,  1.28it/s]"
     ]
    },
    {
     "name": "stdout",
     "output_type": "stream",
     "text": [
      "epoch:  15 loss:  0.0059411185793578625\n",
      "tensor([4, 3, 2, 0, 0, 4, 3, 4, 3, 2, 4, 2, 2, 4, 3, 3, 1, 2, 3, 2, 0, 3, 3, 2,\n",
      "        2, 3, 0, 2, 2, 3, 1, 1], device='cuda:0')\n"
     ]
    },
    {
     "name": "stderr",
     "output_type": "stream",
     "text": [
      " 55%|█████▍    | 6/11 [00:04<00:03,  1.28it/s]"
     ]
    },
    {
     "name": "stdout",
     "output_type": "stream",
     "text": [
      "epoch:  15 loss:  0.004631793592125177\n",
      "tensor([2, 2, 4, 1, 4, 2, 4, 2, 4, 1, 2, 3, 2, 3, 3, 0, 2, 1, 2, 3, 4, 3, 3, 3,\n",
      "        1, 2, 2, 0, 2, 3, 0, 2], device='cuda:0')\n"
     ]
    },
    {
     "name": "stderr",
     "output_type": "stream",
     "text": [
      " 64%|██████▎   | 7/11 [00:05<00:03,  1.23it/s]"
     ]
    },
    {
     "name": "stdout",
     "output_type": "stream",
     "text": [
      "epoch:  15 loss:  0.004888839554041624\n",
      "tensor([2, 4, 4, 4, 2, 1, 1, 4, 4, 3, 1, 3, 1, 1, 3, 4, 2, 3, 1, 2, 2, 2, 4, 3,\n",
      "        2, 2, 3, 1, 3, 1, 1, 4], device='cuda:0')\n"
     ]
    },
    {
     "name": "stderr",
     "output_type": "stream",
     "text": [
      " 73%|███████▎  | 8/11 [00:06<00:02,  1.20it/s]"
     ]
    },
    {
     "name": "stdout",
     "output_type": "stream",
     "text": [
      "epoch:  15 loss:  0.004808757454156876\n",
      "tensor([2, 2, 3, 0, 2, 3, 4, 1, 2, 0, 1, 4, 4, 0, 3, 4, 2, 2, 0, 3, 2, 4, 3, 3,\n",
      "        2, 2, 4, 4, 0, 0, 2, 2], device='cuda:0')\n"
     ]
    },
    {
     "name": "stderr",
     "output_type": "stream",
     "text": [
      " 82%|████████▏ | 9/11 [00:07<00:01,  1.23it/s]"
     ]
    },
    {
     "name": "stdout",
     "output_type": "stream",
     "text": [
      "epoch:  15 loss:  0.005288994405418634\n",
      "tensor([3, 4, 3, 3, 2, 1, 3, 3, 4, 0, 0, 0, 2, 3, 1, 3, 3, 0, 2, 3, 2, 4, 2, 3,\n",
      "        4, 4, 1, 2, 2, 1, 2, 4], device='cuda:0')\n"
     ]
    },
    {
     "name": "stderr",
     "output_type": "stream",
     "text": [
      " 91%|█████████ | 10/11 [00:07<00:00,  1.21it/s]"
     ]
    },
    {
     "name": "stdout",
     "output_type": "stream",
     "text": [
      "epoch:  15 loss:  0.004861756693571806\n",
      "tensor([3, 2, 0, 3, 3, 2], device='cuda:0')\n"
     ]
    },
    {
     "name": "stderr",
     "output_type": "stream",
     "text": [
      "100%|██████████| 11/11 [00:08<00:00,  1.33it/s]\n"
     ]
    },
    {
     "name": "stdout",
     "output_type": "stream",
     "text": [
      "epoch:  15 loss:  0.004228619392961264\n"
     ]
    },
    {
     "name": "stderr",
     "output_type": "stream",
     "text": [
      "100%|██████████| 5/5 [00:01<00:00,  3.65it/s]\n"
     ]
    },
    {
     "name": "stdout",
     "output_type": "stream",
     "text": [
      "              precision    recall  f1-score   support\n",
      "\n",
      "           0       0.43      0.40      0.41        15\n",
      "           1       0.30      0.26      0.28        23\n",
      "           2       0.40      0.51      0.45        35\n",
      "           3       0.49      0.56      0.52        32\n",
      "           4       0.67      0.46      0.54        35\n",
      "\n",
      "    accuracy                           0.46       140\n",
      "   macro avg       0.46      0.44      0.44       140\n",
      "weighted avg       0.47      0.46      0.46       140\n",
      "\n"
     ]
    },
    {
     "name": "stderr",
     "output_type": "stream",
     "text": [
      "  0%|          | 0/11 [00:00<?, ?it/s]"
     ]
    },
    {
     "name": "stdout",
     "output_type": "stream",
     "text": [
      "tensor([2, 3, 2, 4, 2, 0, 1, 2, 3, 0, 2, 4, 2, 4, 2, 1, 2, 2, 2, 2, 3, 4, 4, 1,\n",
      "        3, 4, 2, 1, 1, 1, 2, 1], device='cuda:0')\n"
     ]
    },
    {
     "name": "stderr",
     "output_type": "stream",
     "text": [
      "  9%|▉         | 1/11 [00:00<00:06,  1.60it/s]"
     ]
    },
    {
     "name": "stdout",
     "output_type": "stream",
     "text": [
      "epoch:  16 loss:  0.004482288844883442\n",
      "tensor([0, 4, 0, 2, 3, 3, 3, 0, 2, 2, 2, 2, 2, 3, 4, 1, 3, 4, 4, 4, 3, 2, 1, 3,\n",
      "        4, 3, 2, 2, 1, 4, 0, 2], device='cuda:0')\n"
     ]
    },
    {
     "name": "stderr",
     "output_type": "stream",
     "text": [
      " 18%|█▊        | 2/11 [00:01<00:05,  1.58it/s]"
     ]
    },
    {
     "name": "stdout",
     "output_type": "stream",
     "text": [
      "epoch:  16 loss:  0.004654584918171167\n",
      "tensor([3, 2, 3, 3, 4, 1, 2, 1, 4, 1, 3, 3, 4, 3, 0, 4, 4, 2, 4, 2, 3, 1, 2, 3,\n",
      "        4, 2, 0, 3, 3, 2, 2, 1], device='cuda:0')\n"
     ]
    },
    {
     "name": "stderr",
     "output_type": "stream",
     "text": [
      " 27%|██▋       | 3/11 [00:02<00:05,  1.35it/s]"
     ]
    },
    {
     "name": "stdout",
     "output_type": "stream",
     "text": [
      "epoch:  16 loss:  0.004478076938539743\n",
      "tensor([3, 1, 4, 1, 2, 0, 1, 3, 4, 4, 3, 0, 3, 4, 1, 0, 0, 4, 2, 3, 4, 3, 3, 1,\n",
      "        1, 3, 4, 4, 2, 4, 2, 2], device='cuda:0')\n"
     ]
    },
    {
     "name": "stderr",
     "output_type": "stream",
     "text": [
      " 36%|███▋      | 4/11 [00:03<00:05,  1.26it/s]"
     ]
    },
    {
     "name": "stdout",
     "output_type": "stream",
     "text": [
      "epoch:  16 loss:  0.005192482843995094\n",
      "tensor([4, 4, 1, 0, 2, 4, 3, 3, 2, 3, 3, 4, 2, 1, 0, 0, 3, 2, 4, 4, 2, 3, 1, 2,\n",
      "        2, 4, 3, 4, 2, 2, 3, 2], device='cuda:0')\n"
     ]
    },
    {
     "name": "stderr",
     "output_type": "stream",
     "text": [
      " 45%|████▌     | 5/11 [00:03<00:04,  1.28it/s]"
     ]
    },
    {
     "name": "stdout",
     "output_type": "stream",
     "text": [
      "epoch:  16 loss:  0.004657974001020193\n",
      "tensor([2, 3, 2, 1, 1, 4, 2, 3, 3, 2, 4, 1, 0, 1, 4, 0, 0, 1, 3, 2, 2, 1, 3, 0,\n",
      "        4, 4, 2, 0, 3, 3, 1, 3], device='cuda:0')\n"
     ]
    },
    {
     "name": "stderr",
     "output_type": "stream",
     "text": [
      " 55%|█████▍    | 6/11 [00:04<00:04,  1.24it/s]"
     ]
    }
   ],
   "source": [
    "train()\n",
    "# evaluate()\n",
    "# torch.save(model.state_dict(), 'model/bert_cls_model.pth')"
   ]
  }
 ],
 "metadata": {
  "kernelspec": {
   "display_name": "Python 3",
   "language": "python",
   "name": "python3"
  },
  "language_info": {
   "codemirror_mode": {
    "name": "ipython",
    "version": 3
   },
   "file_extension": ".py",
   "mimetype": "text/x-python",
   "name": "python",
   "nbconvert_exporter": "python",
   "pygments_lexer": "ipython3",
   "version": "3.7.6"
  }
 },
 "nbformat": 4,
 "nbformat_minor": 4
}
